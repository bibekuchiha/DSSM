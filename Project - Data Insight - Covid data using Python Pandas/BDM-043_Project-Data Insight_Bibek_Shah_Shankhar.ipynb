{
 "cells": [
  {
   "cell_type": "markdown",
   "id": "851358bc",
   "metadata": {},
   "source": [
    "## Project - Data Insight - Covid data using Python Pandas\n",
    "\n",
    "Student Name - Bibek Shah Shankhar\n",
    "\n",
    "Student Id - C0835648\n",
    "\n",
    "Subject - BDM 1043 - Big Data Fundamentals \n",
    "\n",
    "\n",
    "\n",
    "### Questions Solved\n",
    "\n",
    "1. Which Group have the most covid outbreaks from 2020-10-11 to 2021-11-28 ?\n",
    "2. Which Sub-Group have the most covid outbreaks from 2020-10-11 to 2021-11-28 ?\n",
    "3. From 2021 November, which group is rising most ?\n",
    "4. From last 6 months, which group is rising most ?\n",
    "5. which group has most number of covid outbreak in first 6 months of 2021 ?"
   ]
  },
  {
   "cell_type": "code",
   "execution_count": 80,
   "id": "08c30361",
   "metadata": {},
   "outputs": [],
   "source": [
    "#Importing necessary libraries\n",
    "import numpy as np\n",
    "import pandas as pd\n",
    "import matplotlib.pyplot as plt\n",
    "import seaborn as sns"
   ]
  },
  {
   "cell_type": "code",
   "execution_count": 81,
   "id": "326a5b6f",
   "metadata": {},
   "outputs": [
    {
     "data": {
      "text/html": [
       "<div>\n",
       "<style scoped>\n",
       "    .dataframe tbody tr th:only-of-type {\n",
       "        vertical-align: middle;\n",
       "    }\n",
       "\n",
       "    .dataframe tbody tr th {\n",
       "        vertical-align: top;\n",
       "    }\n",
       "\n",
       "    .dataframe thead th {\n",
       "        text-align: right;\n",
       "    }\n",
       "</style>\n",
       "<table border=\"1\" class=\"dataframe\">\n",
       "  <thead>\n",
       "    <tr style=\"text-align: right;\">\n",
       "      <th></th>\n",
       "      <th>date</th>\n",
       "      <th>outbreak_group</th>\n",
       "      <th>outbreak_subgroup</th>\n",
       "      <th>number_ongoing_outbreaks</th>\n",
       "    </tr>\n",
       "  </thead>\n",
       "  <tbody>\n",
       "    <tr>\n",
       "      <th>0</th>\n",
       "      <td>2020-11-01</td>\n",
       "      <td>1 Congregate Care</td>\n",
       "      <td>1 Long-Term Care Homes</td>\n",
       "      <td>73</td>\n",
       "    </tr>\n",
       "    <tr>\n",
       "      <th>1</th>\n",
       "      <td>2020-11-01</td>\n",
       "      <td>1 Congregate Care</td>\n",
       "      <td>2 Hospitals</td>\n",
       "      <td>21</td>\n",
       "    </tr>\n",
       "    <tr>\n",
       "      <th>2</th>\n",
       "      <td>2020-11-01</td>\n",
       "      <td>1 Congregate Care</td>\n",
       "      <td>3 Retirement Homes</td>\n",
       "      <td>51</td>\n",
       "    </tr>\n",
       "    <tr>\n",
       "      <th>3</th>\n",
       "      <td>2020-11-01</td>\n",
       "      <td>2 Congregate Living</td>\n",
       "      <td>18 Short-term accommodations</td>\n",
       "      <td>2</td>\n",
       "    </tr>\n",
       "    <tr>\n",
       "      <th>4</th>\n",
       "      <td>2020-11-01</td>\n",
       "      <td>2 Congregate Living</td>\n",
       "      <td>4 Group Home/Supportive Housing</td>\n",
       "      <td>31</td>\n",
       "    </tr>\n",
       "  </tbody>\n",
       "</table>\n",
       "</div>"
      ],
      "text/plain": [
       "         date       outbreak_group                outbreak_subgroup  \\\n",
       "0  2020-11-01    1 Congregate Care           1 Long-Term Care Homes   \n",
       "1  2020-11-01    1 Congregate Care                      2 Hospitals   \n",
       "2  2020-11-01    1 Congregate Care               3 Retirement Homes   \n",
       "3  2020-11-01  2 Congregate Living     18 Short-term accommodations   \n",
       "4  2020-11-01  2 Congregate Living  4 Group Home/Supportive Housing   \n",
       "\n",
       "   number_ongoing_outbreaks  \n",
       "0                        73  \n",
       "1                        21  \n",
       "2                        51  \n",
       "3                         2  \n",
       "4                        31  "
      ]
     },
     "execution_count": 81,
     "metadata": {},
     "output_type": "execute_result"
    }
   ],
   "source": [
    "#Loading dataset using Pandas\n",
    "'''\n",
    "This dataset is from \n",
    "2020-11-01 to 2021-11-28\n",
    "'''\n",
    "df = pd.read_csv('ongoing_outbreaks.csv')\n",
    "\n",
    "#Printing top 5 rows\n",
    "df.head()"
   ]
  },
  {
   "cell_type": "code",
   "execution_count": 82,
   "id": "c553f906",
   "metadata": {},
   "outputs": [
    {
     "data": {
      "text/plain": [
       "date                        0\n",
       "outbreak_group              0\n",
       "outbreak_subgroup           0\n",
       "number_ongoing_outbreaks    0\n",
       "dtype: int64"
      ]
     },
     "execution_count": 82,
     "metadata": {},
     "output_type": "execute_result"
    }
   ],
   "source": [
    "#checking null values\n",
    "df.isnull().sum()"
   ]
  },
  {
   "cell_type": "code",
   "execution_count": 83,
   "id": "2d166660",
   "metadata": {},
   "outputs": [
    {
     "data": {
      "text/plain": [
       "(8744, 4)"
      ]
     },
     "execution_count": 83,
     "metadata": {},
     "output_type": "execute_result"
    }
   ],
   "source": [
    "#Checking the shape of our dataset\n",
    "df.shape"
   ]
  },
  {
   "cell_type": "markdown",
   "id": "19926157",
   "metadata": {},
   "source": [
    "There are 8744 rows and 4 columns in our dataset"
   ]
  },
  {
   "cell_type": "code",
   "execution_count": 84,
   "id": "a9a7a549",
   "metadata": {
    "scrolled": false
   },
   "outputs": [
    {
     "data": {
      "text/plain": [
       "array(['2020-11-01', '2020-11-02', '2020-11-03', '2020-11-04',\n",
       "       '2020-11-05', '2020-11-06', '2020-11-07', '2020-11-08',\n",
       "       '2020-11-09', '2020-11-10', '2020-11-11', '2020-11-12',\n",
       "       '2020-11-13', '2020-11-14', '2020-11-15', '2020-11-16',\n",
       "       '2020-11-17', '2020-11-18', '2020-11-19', '2020-11-20',\n",
       "       '2020-11-21', '2020-11-22', '2020-11-23', '2020-11-24',\n",
       "       '2020-11-25', '2020-11-26', '2020-11-27', '2020-11-28',\n",
       "       '2020-11-29', '2020-11-30', '2020-12-01', '2020-12-02',\n",
       "       '2020-12-03', '2020-12-04', '2020-12-05', '2020-12-06',\n",
       "       '2020-12-07', '2020-12-08', '2020-12-09', '2020-12-10',\n",
       "       '2020-12-11', '2020-12-12', '2020-12-13', '2020-12-14',\n",
       "       '2020-12-15', '2020-12-16', '2020-12-17', '2020-12-18',\n",
       "       '2020-12-19', '2020-12-20', '2020-12-21', '2020-12-22',\n",
       "       '2020-12-23', '2020-12-24', '2020-12-25', '2020-12-26',\n",
       "       '2020-12-27', '2020-12-28', '2020-12-29', '2020-12-30',\n",
       "       '2020-12-31', '2021-01-01', '2021-01-02', '2021-01-03',\n",
       "       '2021-01-04', '2021-01-05', '2021-01-06', '2021-01-07',\n",
       "       '2021-01-08', '2021-01-09', '2021-01-10', '2021-01-11',\n",
       "       '2021-01-12', '2021-01-13', '2021-01-14', '2021-01-15',\n",
       "       '2021-01-16', '2021-01-17', '2021-01-18', '2021-01-19',\n",
       "       '2021-01-20', '2021-01-21', '2021-01-22', '2021-01-23',\n",
       "       '2021-01-24', '2021-01-25', '2021-01-26', '2021-01-27',\n",
       "       '2021-01-28', '2021-01-29', '2021-01-30', '2021-01-31',\n",
       "       '2021-02-01', '2021-02-02', '2021-02-03', '2021-02-04',\n",
       "       '2021-02-05', '2021-02-06', '2021-02-07', '2021-02-08',\n",
       "       '2021-02-09', '2021-02-10', '2021-02-11', '2021-02-12',\n",
       "       '2021-02-13', '2021-02-14', '2021-02-15', '2021-02-16',\n",
       "       '2021-02-17', '2021-02-18', '2021-02-19', '2021-02-20',\n",
       "       '2021-02-21', '2021-02-22', '2021-02-23', '2021-02-24',\n",
       "       '2021-02-25', '2021-02-26', '2021-02-27', '2021-02-28',\n",
       "       '2021-03-01', '2021-03-02', '2021-03-03', '2021-03-04',\n",
       "       '2021-03-05', '2021-03-06', '2021-03-07', '2021-03-08',\n",
       "       '2021-03-09', '2021-03-10', '2021-03-11', '2021-03-12',\n",
       "       '2021-03-13', '2021-03-14', '2021-03-15', '2021-03-16',\n",
       "       '2021-03-17', '2021-03-18', '2021-03-19', '2021-03-20',\n",
       "       '2021-03-21', '2021-03-22', '2021-03-23', '2021-03-24',\n",
       "       '2021-03-25', '2021-03-26', '2021-03-27', '2021-03-28',\n",
       "       '2021-03-29', '2021-03-30', '2021-03-31', '2021-04-01',\n",
       "       '2021-04-02', '2021-04-03', '2021-04-04', '2021-04-05',\n",
       "       '2021-04-06', '2021-04-07', '2021-04-08', '2021-04-09',\n",
       "       '2021-04-10', '2021-04-11', '2021-04-12', '2021-04-13',\n",
       "       '2021-04-14', '2021-04-15', '2021-04-16', '2021-04-17',\n",
       "       '2021-04-18', '2021-04-19', '2021-04-20', '2021-04-21',\n",
       "       '2021-04-22', '2021-04-23', '2021-04-24', '2021-04-25',\n",
       "       '2021-04-26', '2021-04-27', '2021-04-28', '2021-04-29',\n",
       "       '2021-04-30', '2021-05-01', '2021-05-02', '2021-05-03',\n",
       "       '2021-05-04', '2021-05-05', '2021-05-06', '2021-05-07',\n",
       "       '2021-05-08', '2021-05-09', '2021-05-10', '2021-05-11',\n",
       "       '2021-05-12', '2021-05-13', '2021-05-14', '2021-05-15',\n",
       "       '2021-05-16', '2021-05-17', '2021-05-18', '2021-05-19',\n",
       "       '2021-05-20', '2021-05-21', '2021-05-22', '2021-05-23',\n",
       "       '2021-05-24', '2021-05-25', '2021-05-26', '2021-05-27',\n",
       "       '2021-05-28', '2021-05-29', '2021-05-30', '2021-05-31',\n",
       "       '2021-06-01', '2021-06-02', '2021-06-03', '2021-06-04',\n",
       "       '2021-06-05', '2021-06-06', '2021-06-07', '2021-06-08',\n",
       "       '2021-06-09', '2021-06-10', '2021-06-11', '2021-06-12',\n",
       "       '2021-06-13', '2021-06-14', '2021-06-15', '2021-06-16',\n",
       "       '2021-06-17', '2021-06-18', '2021-06-19', '2021-06-20',\n",
       "       '2021-06-21', '2021-06-22', '2021-06-23', '2021-06-24',\n",
       "       '2021-06-25', '2021-06-26', '2021-06-27', '2021-06-28',\n",
       "       '2021-06-29', '2021-06-30', '2021-07-01', '2021-07-02',\n",
       "       '2021-07-03', '2021-07-04', '2021-07-05', '2021-07-06',\n",
       "       '2021-07-07', '2021-07-08', '2021-07-09', '2021-07-10',\n",
       "       '2021-07-11', '2021-07-12', '2021-07-13', '2021-07-14',\n",
       "       '2021-07-15', '2021-07-16', '2021-07-17', '2021-07-18',\n",
       "       '2021-07-19', '2021-07-20', '2021-07-21', '2021-07-22',\n",
       "       '2021-07-23', '2021-07-24', '2021-07-25', '2021-07-26',\n",
       "       '2021-07-27', '2021-07-28', '2021-07-29', '2021-07-30',\n",
       "       '2021-07-31', '2021-08-01', '2021-08-02', '2021-08-03',\n",
       "       '2021-08-04', '2021-08-05', '2021-08-06', '2021-08-07',\n",
       "       '2021-08-08', '2021-08-09', '2021-08-10', '2021-08-11',\n",
       "       '2021-08-12', '2021-08-13', '2021-08-14', '2021-08-15',\n",
       "       '2021-08-16', '2021-08-17', '2021-08-18', '2021-08-19',\n",
       "       '2021-08-20', '2021-08-21', '2021-08-22', '2021-08-23',\n",
       "       '2021-08-24', '2021-08-25', '2021-08-26', '2021-08-27',\n",
       "       '2021-08-28', '2021-08-29', '2021-08-30', '2021-08-31',\n",
       "       '2021-09-01', '2021-09-02', '2021-09-03', '2021-09-04',\n",
       "       '2021-09-05', '2021-09-06', '2021-09-07', '2021-09-08',\n",
       "       '2021-09-09', '2021-09-10', '2021-09-11', '2021-09-12',\n",
       "       '2021-09-13', '2021-09-14', '2021-09-15', '2021-09-16',\n",
       "       '2021-09-17', '2021-09-18', '2021-09-19', '2021-09-20',\n",
       "       '2021-09-21', '2021-09-22', '2021-09-23', '2021-09-24',\n",
       "       '2021-09-25', '2021-09-26', '2021-09-27', '2021-09-28',\n",
       "       '2021-09-29', '2021-09-30', '2021-10-01', '2021-10-02',\n",
       "       '2021-10-03', '2021-10-04', '2021-10-05', '2021-10-06',\n",
       "       '2021-10-07', '2021-10-08', '2021-10-09', '2021-10-10',\n",
       "       '2021-10-11', '2021-10-12', '2021-10-13', '2021-10-14',\n",
       "       '2021-10-15', '2021-10-16', '2021-10-17', '2021-10-18',\n",
       "       '2021-10-19', '2021-10-20', '2021-10-21', '2021-10-22',\n",
       "       '2021-10-23', '2021-10-24', '2021-10-25', '2021-10-26',\n",
       "       '2021-10-27', '2021-10-28', '2021-10-29', '2021-10-30',\n",
       "       '2021-10-31', '2021-11-01', '2021-11-02', '2021-11-03',\n",
       "       '2021-11-04', '2021-11-05', '2021-11-06', '2021-11-07',\n",
       "       '2021-11-08', '2021-11-09', '2021-11-10', '2021-11-11',\n",
       "       '2021-11-12', '2021-11-13', '2021-11-14', '2021-11-15',\n",
       "       '2021-11-16', '2021-11-17', '2021-11-18', '2021-11-19',\n",
       "       '2021-11-20', '2021-11-21', '2021-11-22', '2021-11-23',\n",
       "       '2021-11-24', '2021-11-25', '2021-11-26', '2021-11-27',\n",
       "       '2021-11-28'], dtype=object)"
      ]
     },
     "execution_count": 84,
     "metadata": {},
     "output_type": "execute_result"
    }
   ],
   "source": [
    "#Checking the date range in our dataset\n",
    "df.date.unique()"
   ]
  },
  {
   "cell_type": "markdown",
   "id": "68658bbb",
   "metadata": {},
   "source": [
    "Calculating the sum of total ongoing outbreaks from 2020-11-01 to 2021-11-28"
   ]
  },
  {
   "cell_type": "code",
   "execution_count": 85,
   "id": "ef57af8f",
   "metadata": {
    "scrolled": true
   },
   "outputs": [
    {
     "data": {
      "text/plain": [
       "188907"
      ]
     },
     "execution_count": 85,
     "metadata": {},
     "output_type": "execute_result"
    }
   ],
   "source": [
    "df.number_ongoing_outbreaks.sum()"
   ]
  },
  {
   "cell_type": "markdown",
   "id": "e910aa1c",
   "metadata": {},
   "source": [
    "We can see there are 188907 outbreaks between 2020-11-01 to 2021-11-28"
   ]
  },
  {
   "cell_type": "markdown",
   "id": "712c7fea",
   "metadata": {},
   "source": [
    "We are listing the groups category from our dataset from which covid outbreak is recorded"
   ]
  },
  {
   "cell_type": "code",
   "execution_count": 86,
   "id": "59dd8a90",
   "metadata": {
    "scrolled": true
   },
   "outputs": [
    {
     "name": "stdout",
     "output_type": "stream",
     "text": [
      "1 Congregate Care\n",
      "2 Congregate Living\n",
      "3 Education\n",
      "4 Workplace\n",
      "5 Recreational\n",
      "6 Other/Unknown\n",
      "7 Out of Province Outbreak\n"
     ]
    }
   ],
   "source": [
    "for i in (df.outbreak_group.unique()):\n",
    "    print(i)"
   ]
  },
  {
   "cell_type": "markdown",
   "id": "e5310ed8",
   "metadata": {},
   "source": [
    "We are listing the subgroups category from our dataset from which covid outbreak is recorded"
   ]
  },
  {
   "cell_type": "code",
   "execution_count": 87,
   "id": "00c17d84",
   "metadata": {},
   "outputs": [
    {
     "name": "stdout",
     "output_type": "stream",
     "text": [
      "1 Long-Term Care Homes\n",
      "2 Hospitals\n",
      "3 Retirement Homes\n",
      "18 Short-term accommodations\n",
      "4 Group Home/Supportive Housing\n",
      "5 Correctional Facility\n",
      "6 Shelter\n",
      "10 School - Post-Secondary\n",
      "11 Child care\n",
      "7 School - Elementary\n",
      "8 School - Secondary\n",
      "9 School - Elementary/Secondary\n",
      "12 Workplace - Farm\n",
      "13 Workplace - Food Processing\n",
      "14 Workplace - Other\n",
      "15 Retail\n",
      "16 Medical/Health Service\n",
      "17 Bar/restaurant/nightclub\n",
      "19 Recreational fitness\n",
      "21 Other recreation\n",
      "23 Other\n",
      "24 Unknown\n",
      "22 Congregate other\n",
      "20 Personal service settings\n",
      "25 Out of Province Outbreak\n",
      "26 Camp - Day\n",
      "27 Camp - Overnight\n",
      "28 Camp - Unspecified\n"
     ]
    }
   ],
   "source": [
    "for i in df.outbreak_subgroup.unique():\n",
    "    print(i)"
   ]
  },
  {
   "cell_type": "code",
   "execution_count": 88,
   "id": "61e30afc",
   "metadata": {
    "scrolled": true
   },
   "outputs": [
    {
     "data": {
      "text/html": [
       "<div>\n",
       "<style scoped>\n",
       "    .dataframe tbody tr th:only-of-type {\n",
       "        vertical-align: middle;\n",
       "    }\n",
       "\n",
       "    .dataframe tbody tr th {\n",
       "        vertical-align: top;\n",
       "    }\n",
       "\n",
       "    .dataframe thead th {\n",
       "        text-align: right;\n",
       "    }\n",
       "</style>\n",
       "<table border=\"1\" class=\"dataframe\">\n",
       "  <thead>\n",
       "    <tr style=\"text-align: right;\">\n",
       "      <th></th>\n",
       "      <th>date</th>\n",
       "      <th>outbreak_group</th>\n",
       "      <th>outbreak_subgroup</th>\n",
       "      <th>number_ongoing_outbreaks</th>\n",
       "    </tr>\n",
       "  </thead>\n",
       "  <tbody>\n",
       "    <tr>\n",
       "      <th>8734</th>\n",
       "      <td>2021-11-28</td>\n",
       "      <td>4 Workplace</td>\n",
       "      <td>12 Workplace - Farm</td>\n",
       "      <td>1</td>\n",
       "    </tr>\n",
       "    <tr>\n",
       "      <th>8735</th>\n",
       "      <td>2021-11-28</td>\n",
       "      <td>4 Workplace</td>\n",
       "      <td>13 Workplace - Food Processing</td>\n",
       "      <td>3</td>\n",
       "    </tr>\n",
       "    <tr>\n",
       "      <th>8736</th>\n",
       "      <td>2021-11-28</td>\n",
       "      <td>4 Workplace</td>\n",
       "      <td>14 Workplace - Other</td>\n",
       "      <td>58</td>\n",
       "    </tr>\n",
       "    <tr>\n",
       "      <th>8737</th>\n",
       "      <td>2021-11-28</td>\n",
       "      <td>4 Workplace</td>\n",
       "      <td>15 Retail</td>\n",
       "      <td>6</td>\n",
       "    </tr>\n",
       "    <tr>\n",
       "      <th>8738</th>\n",
       "      <td>2021-11-28</td>\n",
       "      <td>4 Workplace</td>\n",
       "      <td>16 Medical/Health Service</td>\n",
       "      <td>7</td>\n",
       "    </tr>\n",
       "    <tr>\n",
       "      <th>8739</th>\n",
       "      <td>2021-11-28</td>\n",
       "      <td>5 Recreational</td>\n",
       "      <td>17 Bar/restaurant/nightclub</td>\n",
       "      <td>8</td>\n",
       "    </tr>\n",
       "    <tr>\n",
       "      <th>8740</th>\n",
       "      <td>2021-11-28</td>\n",
       "      <td>5 Recreational</td>\n",
       "      <td>19 Recreational fitness</td>\n",
       "      <td>11</td>\n",
       "    </tr>\n",
       "    <tr>\n",
       "      <th>8741</th>\n",
       "      <td>2021-11-28</td>\n",
       "      <td>5 Recreational</td>\n",
       "      <td>21 Other recreation</td>\n",
       "      <td>6</td>\n",
       "    </tr>\n",
       "    <tr>\n",
       "      <th>8742</th>\n",
       "      <td>2021-11-28</td>\n",
       "      <td>6 Other/Unknown</td>\n",
       "      <td>23 Other</td>\n",
       "      <td>8</td>\n",
       "    </tr>\n",
       "    <tr>\n",
       "      <th>8743</th>\n",
       "      <td>2021-11-28</td>\n",
       "      <td>6 Other/Unknown</td>\n",
       "      <td>24 Unknown</td>\n",
       "      <td>35</td>\n",
       "    </tr>\n",
       "  </tbody>\n",
       "</table>\n",
       "</div>"
      ],
      "text/plain": [
       "            date   outbreak_group               outbreak_subgroup  \\\n",
       "8734  2021-11-28      4 Workplace             12 Workplace - Farm   \n",
       "8735  2021-11-28      4 Workplace  13 Workplace - Food Processing   \n",
       "8736  2021-11-28      4 Workplace            14 Workplace - Other   \n",
       "8737  2021-11-28      4 Workplace                       15 Retail   \n",
       "8738  2021-11-28      4 Workplace       16 Medical/Health Service   \n",
       "8739  2021-11-28   5 Recreational     17 Bar/restaurant/nightclub   \n",
       "8740  2021-11-28   5 Recreational         19 Recreational fitness   \n",
       "8741  2021-11-28   5 Recreational             21 Other recreation   \n",
       "8742  2021-11-28  6 Other/Unknown                        23 Other   \n",
       "8743  2021-11-28  6 Other/Unknown                      24 Unknown   \n",
       "\n",
       "      number_ongoing_outbreaks  \n",
       "8734                         1  \n",
       "8735                         3  \n",
       "8736                        58  \n",
       "8737                         6  \n",
       "8738                         7  \n",
       "8739                         8  \n",
       "8740                        11  \n",
       "8741                         6  \n",
       "8742                         8  \n",
       "8743                        35  "
      ]
     },
     "execution_count": 88,
     "metadata": {},
     "output_type": "execute_result"
    }
   ],
   "source": [
    "#Displaying last 10 results\n",
    "df.tail(10)"
   ]
  },
  {
   "cell_type": "markdown",
   "id": "7bf30998",
   "metadata": {},
   "source": [
    "We are plotting the count of outbreak_group "
   ]
  },
  {
   "cell_type": "code",
   "execution_count": 89,
   "id": "94403911",
   "metadata": {},
   "outputs": [
    {
     "data": {
      "image/png": "[encoded data removed]",
      "text/plain": [
       "<Figure size 432x288 with 1 Axes>"
      ]
     },
     "metadata": {
      "needs_background": "light"
     },
     "output_type": "display_data"
    }
   ],
   "source": [
    "df.outbreak_group.value_counts().plot(kind='bar');"
   ]
  },
  {
   "cell_type": "code",
   "execution_count": 90,
   "id": "f8a3270a",
   "metadata": {
    "scrolled": true
   },
   "outputs": [
    {
     "data": {
      "image/png": "[encoded data removed]",
      "text/plain": [
       "<Figure size 432x288 with 1 Axes>"
      ]
     },
     "metadata": {
      "needs_background": "light"
     },
     "output_type": "display_data"
    }
   ],
   "source": [
    "df.outbreak_subgroup.value_counts().plot(kind='bar');"
   ]
  },
  {
   "cell_type": "markdown",
   "id": "50ae5248",
   "metadata": {},
   "source": [
    "We are creating new datafame to store only two columns outbreak and number_ongoing_outbreak"
   ]
  },
  {
   "cell_type": "code",
   "execution_count": 91,
   "id": "50a492d9",
   "metadata": {},
   "outputs": [
    {
     "data": {
      "text/html": [
       "<div>\n",
       "<style scoped>\n",
       "    .dataframe tbody tr th:only-of-type {\n",
       "        vertical-align: middle;\n",
       "    }\n",
       "\n",
       "    .dataframe tbody tr th {\n",
       "        vertical-align: top;\n",
       "    }\n",
       "\n",
       "    .dataframe thead th {\n",
       "        text-align: right;\n",
       "    }\n",
       "</style>\n",
       "<table border=\"1\" class=\"dataframe\">\n",
       "  <thead>\n",
       "    <tr style=\"text-align: right;\">\n",
       "      <th></th>\n",
       "      <th>outbreak_group</th>\n",
       "      <th>number_ongoing_outbreaks</th>\n",
       "    </tr>\n",
       "  </thead>\n",
       "  <tbody>\n",
       "    <tr>\n",
       "      <th>0</th>\n",
       "      <td>1 Congregate Care</td>\n",
       "      <td>73</td>\n",
       "    </tr>\n",
       "    <tr>\n",
       "      <th>1</th>\n",
       "      <td>1 Congregate Care</td>\n",
       "      <td>21</td>\n",
       "    </tr>\n",
       "    <tr>\n",
       "      <th>2</th>\n",
       "      <td>1 Congregate Care</td>\n",
       "      <td>51</td>\n",
       "    </tr>\n",
       "    <tr>\n",
       "      <th>3</th>\n",
       "      <td>2 Congregate Living</td>\n",
       "      <td>2</td>\n",
       "    </tr>\n",
       "    <tr>\n",
       "      <th>4</th>\n",
       "      <td>2 Congregate Living</td>\n",
       "      <td>31</td>\n",
       "    </tr>\n",
       "  </tbody>\n",
       "</table>\n",
       "</div>"
      ],
      "text/plain": [
       "        outbreak_group  number_ongoing_outbreaks\n",
       "0    1 Congregate Care                        73\n",
       "1    1 Congregate Care                        21\n",
       "2    1 Congregate Care                        51\n",
       "3  2 Congregate Living                         2\n",
       "4  2 Congregate Living                        31"
      ]
     },
     "execution_count": 91,
     "metadata": {},
     "output_type": "execute_result"
    }
   ],
   "source": [
    "new_df = df[['outbreak_group','number_ongoing_outbreaks']]\n",
    "#printing top 5 results\n",
    "new_df.head()"
   ]
  },
  {
   "cell_type": "markdown",
   "id": "b6c317c6",
   "metadata": {},
   "source": [
    "## QUESTION:\n",
    "### 1. Which Group have the most covid outbreaks from 2020-10-11 to 2021-11-28 ?"
   ]
  },
  {
   "cell_type": "markdown",
   "id": "75d11493",
   "metadata": {},
   "source": [
    "From the overall dataset from date 2020-11-1 to 2021-11-28 , We are grouping our outbreak group to Ongoing number of covid outbreaks and sorting the numbers in descending order"
   ]
  },
  {
   "cell_type": "code",
   "execution_count": 92,
   "id": "f1f5bfb0",
   "metadata": {},
   "outputs": [
    {
     "data": {
      "text/plain": [
       "outbreak_group\n",
       "4 Workplace                   53606\n",
       "1 Congregate Care             51852\n",
       "3 Education                   42650\n",
       "2 Congregate Living           22634\n",
       "5 Recreational                12617\n",
       "6 Other/Unknown                5486\n",
       "7 Out of Province Outbreak       62\n",
       "Name: number_ongoing_outbreaks, dtype: int64"
      ]
     },
     "execution_count": 92,
     "metadata": {},
     "output_type": "execute_result"
    }
   ],
   "source": [
    "most_covid_outbreak_group = df.groupby('outbreak_group')['number_ongoing_outbreaks'].sum().sort_values(ascending=False) \n",
    "most_covid_outbreak_group"
   ]
  },
  {
   "cell_type": "code",
   "execution_count": 93,
   "id": "395be497",
   "metadata": {},
   "outputs": [
    {
     "data": {
      "text/plain": [
       "<AxesSubplot:ylabel='outbreak_group'>"
      ]
     },
     "execution_count": 93,
     "metadata": {},
     "output_type": "execute_result"
    },
    {
     "data": {
      "image/png": "[encoded data removed]",
      "text/plain": [
       "<Figure size 432x288 with 1 Axes>"
      ]
     },
     "metadata": {
      "needs_background": "light"
     },
     "output_type": "display_data"
    }
   ],
   "source": [
    "#ploting the group with covid outbreak\n",
    "most_covid_outbreak_group.plot(kind='barh')"
   ]
  },
  {
   "cell_type": "markdown",
   "id": "69b9e2be",
   "metadata": {},
   "source": [
    "From the above statistics we can see that, The most number of covid outbreak group is From Workplace group and Also Congregate Care also have almost same number with little difference in number. And Education is also rising"
   ]
  },
  {
   "cell_type": "markdown",
   "id": "1ebb116f",
   "metadata": {},
   "source": [
    "## QUESTION:\n",
    "### 2. Which Sub-Group have the most covid outbreaks from 2020-10-11 to 2021-11-28 ?\n",
    "\n"
   ]
  },
  {
   "cell_type": "code",
   "execution_count": 94,
   "id": "f5d37713",
   "metadata": {},
   "outputs": [
    {
     "data": {
      "text/plain": [
       "outbreak_subgroup\n",
       "14 Workplace - Other               37489\n",
       "1 Long-Term Care Homes             26038\n",
       "7 School - Elementary              19776\n",
       "11 Child care                      16408\n",
       "3 Retirement Homes                 15500\n",
       "4 Group Home/Supportive Housing    11667\n",
       "2 Hospitals                        10314\n",
       "15 Retail                           6921\n",
       "21 Other recreation                 5490\n",
       "6 Shelter                           5306\n",
       "17 Bar/restaurant/nightclub         5014\n",
       "8 School - Secondary                4425\n",
       "13 Workplace - Food Processing      3785\n",
       "12 Workplace - Farm                 3578\n",
       "22 Congregate other                 3116\n",
       "23 Other                            2808\n",
       "24 Unknown                          2678\n",
       "5 Correctional Facility             1993\n",
       "16 Medical/Health Service           1833\n",
       "19 Recreational fitness             1687\n",
       "9 School - Elementary/Secondary      943\n",
       "10 School - Post-Secondary           854\n",
       "18 Short-term accommodations         552\n",
       "20 Personal service settings         426\n",
       "26 Camp - Day                        200\n",
       "25 Out of Province Outbreak           62\n",
       "28 Camp - Unspecified                 32\n",
       "27 Camp - Overnight                   12\n",
       "Name: number_ongoing_outbreaks, dtype: int64"
      ]
     },
     "execution_count": 94,
     "metadata": {},
     "output_type": "execute_result"
    }
   ],
   "source": [
    "most_covid_outbreak_subgroup = df.groupby('outbreak_subgroup')['number_ongoing_outbreaks'].sum().sort_values(ascending=False)        \n",
    "#listing covid outbreak subgroup with numbers\n",
    "most_covid_outbreak_subgroup"
   ]
  },
  {
   "cell_type": "code",
   "execution_count": 95,
   "id": "8fd7e4a8",
   "metadata": {
    "scrolled": true
   },
   "outputs": [
    {
     "data": {
      "image/png": "[encoded data removed]",
      "text/plain": [
       "<Figure size 432x288 with 1 Axes>"
      ]
     },
     "metadata": {
      "needs_background": "light"
     },
     "output_type": "display_data"
    }
   ],
   "source": [
    "#ploting the subgroup with covid outbreak\n",
    "most_covid_outbreak_subgroup = df.groupby('outbreak_subgroup')['number_ongoing_outbreaks'].sum().plot(kind='bar')"
   ]
  },
  {
   "cell_type": "markdown",
   "id": "5e1fe7b3",
   "metadata": {},
   "source": [
    "In this above statistics too we can see that, The most number of covid outbreak group is From Workplace group .And Covid outbreak at Educational sector is also rising"
   ]
  },
  {
   "cell_type": "markdown",
   "id": "80aa727c",
   "metadata": {},
   "source": [
    "# Question\n",
    "### 3. From 2021 November, which group is rising most ?\n",
    "\n",
    "From the overall dataset  date 2021 nov to 28 Nov , We will be grouping our outbreak group to Ongoing number of covid outbreaks and sorting the numbers in descending order.\n",
    "\n",
    "Firslty we are creating a new dataframe which starts from 2021 nov"
   ]
  },
  {
   "cell_type": "code",
   "execution_count": 96,
   "id": "e246ffd7",
   "metadata": {},
   "outputs": [],
   "source": [
    "#Creating a new dataframe where date is greater than 2021-10-31 which starts from Nov 2021\n",
    "date_from_2021 =  df[df['date'] > '2021-10-31']"
   ]
  },
  {
   "cell_type": "code",
   "execution_count": 97,
   "id": "edcb2589",
   "metadata": {},
   "outputs": [
    {
     "data": {
      "text/html": [
       "<div>\n",
       "<style scoped>\n",
       "    .dataframe tbody tr th:only-of-type {\n",
       "        vertical-align: middle;\n",
       "    }\n",
       "\n",
       "    .dataframe tbody tr th {\n",
       "        vertical-align: top;\n",
       "    }\n",
       "\n",
       "    .dataframe thead th {\n",
       "        text-align: right;\n",
       "    }\n",
       "</style>\n",
       "<table border=\"1\" class=\"dataframe\">\n",
       "  <thead>\n",
       "    <tr style=\"text-align: right;\">\n",
       "      <th></th>\n",
       "      <th>date</th>\n",
       "      <th>outbreak_group</th>\n",
       "      <th>outbreak_subgroup</th>\n",
       "      <th>number_ongoing_outbreaks</th>\n",
       "    </tr>\n",
       "  </thead>\n",
       "  <tbody>\n",
       "    <tr>\n",
       "      <th>8144</th>\n",
       "      <td>2021-11-01</td>\n",
       "      <td>1 Congregate Care</td>\n",
       "      <td>1 Long-Term Care Homes</td>\n",
       "      <td>4</td>\n",
       "    </tr>\n",
       "    <tr>\n",
       "      <th>8145</th>\n",
       "      <td>2021-11-01</td>\n",
       "      <td>1 Congregate Care</td>\n",
       "      <td>2 Hospitals</td>\n",
       "      <td>6</td>\n",
       "    </tr>\n",
       "    <tr>\n",
       "      <th>8146</th>\n",
       "      <td>2021-11-01</td>\n",
       "      <td>1 Congregate Care</td>\n",
       "      <td>3 Retirement Homes</td>\n",
       "      <td>3</td>\n",
       "    </tr>\n",
       "    <tr>\n",
       "      <th>8147</th>\n",
       "      <td>2021-11-01</td>\n",
       "      <td>2 Congregate Living</td>\n",
       "      <td>18 Short-term accommodations</td>\n",
       "      <td>1</td>\n",
       "    </tr>\n",
       "    <tr>\n",
       "      <th>8148</th>\n",
       "      <td>2021-11-01</td>\n",
       "      <td>2 Congregate Living</td>\n",
       "      <td>22 Congregate other</td>\n",
       "      <td>1</td>\n",
       "    </tr>\n",
       "  </tbody>\n",
       "</table>\n",
       "</div>"
      ],
      "text/plain": [
       "            date       outbreak_group             outbreak_subgroup  \\\n",
       "8144  2021-11-01    1 Congregate Care        1 Long-Term Care Homes   \n",
       "8145  2021-11-01    1 Congregate Care                   2 Hospitals   \n",
       "8146  2021-11-01    1 Congregate Care            3 Retirement Homes   \n",
       "8147  2021-11-01  2 Congregate Living  18 Short-term accommodations   \n",
       "8148  2021-11-01  2 Congregate Living           22 Congregate other   \n",
       "\n",
       "      number_ongoing_outbreaks  \n",
       "8144                         4  \n",
       "8145                         6  \n",
       "8146                         3  \n",
       "8147                         1  \n",
       "8148                         1  "
      ]
     },
     "execution_count": 97,
     "metadata": {},
     "output_type": "execute_result"
    }
   ],
   "source": [
    "#listing top 5 headers\n",
    "date_from_2021.head()"
   ]
  },
  {
   "cell_type": "code",
   "execution_count": 98,
   "id": "b19d0349",
   "metadata": {},
   "outputs": [
    {
     "data": {
      "text/html": [
       "<div>\n",
       "<style scoped>\n",
       "    .dataframe tbody tr th:only-of-type {\n",
       "        vertical-align: middle;\n",
       "    }\n",
       "\n",
       "    .dataframe tbody tr th {\n",
       "        vertical-align: top;\n",
       "    }\n",
       "\n",
       "    .dataframe thead th {\n",
       "        text-align: right;\n",
       "    }\n",
       "</style>\n",
       "<table border=\"1\" class=\"dataframe\">\n",
       "  <thead>\n",
       "    <tr style=\"text-align: right;\">\n",
       "      <th></th>\n",
       "      <th>date</th>\n",
       "      <th>outbreak_group</th>\n",
       "      <th>outbreak_subgroup</th>\n",
       "      <th>number_ongoing_outbreaks</th>\n",
       "    </tr>\n",
       "  </thead>\n",
       "  <tbody>\n",
       "    <tr>\n",
       "      <th>8739</th>\n",
       "      <td>2021-11-28</td>\n",
       "      <td>5 Recreational</td>\n",
       "      <td>17 Bar/restaurant/nightclub</td>\n",
       "      <td>8</td>\n",
       "    </tr>\n",
       "    <tr>\n",
       "      <th>8740</th>\n",
       "      <td>2021-11-28</td>\n",
       "      <td>5 Recreational</td>\n",
       "      <td>19 Recreational fitness</td>\n",
       "      <td>11</td>\n",
       "    </tr>\n",
       "    <tr>\n",
       "      <th>8741</th>\n",
       "      <td>2021-11-28</td>\n",
       "      <td>5 Recreational</td>\n",
       "      <td>21 Other recreation</td>\n",
       "      <td>6</td>\n",
       "    </tr>\n",
       "    <tr>\n",
       "      <th>8742</th>\n",
       "      <td>2021-11-28</td>\n",
       "      <td>6 Other/Unknown</td>\n",
       "      <td>23 Other</td>\n",
       "      <td>8</td>\n",
       "    </tr>\n",
       "    <tr>\n",
       "      <th>8743</th>\n",
       "      <td>2021-11-28</td>\n",
       "      <td>6 Other/Unknown</td>\n",
       "      <td>24 Unknown</td>\n",
       "      <td>35</td>\n",
       "    </tr>\n",
       "  </tbody>\n",
       "</table>\n",
       "</div>"
      ],
      "text/plain": [
       "            date   outbreak_group            outbreak_subgroup  \\\n",
       "8739  2021-11-28   5 Recreational  17 Bar/restaurant/nightclub   \n",
       "8740  2021-11-28   5 Recreational      19 Recreational fitness   \n",
       "8741  2021-11-28   5 Recreational          21 Other recreation   \n",
       "8742  2021-11-28  6 Other/Unknown                     23 Other   \n",
       "8743  2021-11-28  6 Other/Unknown                   24 Unknown   \n",
       "\n",
       "      number_ongoing_outbreaks  \n",
       "8739                         8  \n",
       "8740                        11  \n",
       "8741                         6  \n",
       "8742                         8  \n",
       "8743                        35  "
      ]
     },
     "execution_count": 98,
     "metadata": {},
     "output_type": "execute_result"
    }
   ],
   "source": [
    "date_from_2021.tail()"
   ]
  },
  {
   "cell_type": "code",
   "execution_count": 99,
   "id": "34319c22",
   "metadata": {},
   "outputs": [
    {
     "data": {
      "text/plain": [
       "outbreak_subgroup\n",
       "7 School - Elementary              3013\n",
       "14 Workplace - Other               1022\n",
       "24 Unknown                          607\n",
       "2 Hospitals                         354\n",
       "11 Child care                       340\n",
       "8 School - Secondary                338\n",
       "3 Retirement Homes                  209\n",
       "19 Recreational fitness             192\n",
       "15 Retail                           165\n",
       "21 Other recreation                 151\n",
       "6 Shelter                           146\n",
       "17 Bar/restaurant/nightclub         145\n",
       "4 Group Home/Supportive Housing     141\n",
       "1 Long-Term Care Homes              122\n",
       "9 School - Elementary/Secondary      93\n",
       "23 Other                             83\n",
       "5 Correctional Facility              68\n",
       "16 Medical/Health Service            65\n",
       "22 Congregate other                  63\n",
       "13 Workplace - Food Processing       49\n",
       "12 Workplace - Farm                  33\n",
       "10 School - Post-Secondary           19\n",
       "18 Short-term accommodations         10\n",
       "Name: number_ongoing_outbreaks, dtype: int64"
      ]
     },
     "execution_count": 99,
     "metadata": {},
     "output_type": "execute_result"
    }
   ],
   "source": [
    "nov_2021_outbreak_subgroup = date_from_2021.groupby('outbreak_subgroup')['number_ongoing_outbreaks'].sum().sort_values(ascending=False)        \n",
    "#listing all results\n",
    "nov_2021_outbreak_subgroup"
   ]
  },
  {
   "cell_type": "code",
   "execution_count": 100,
   "id": "86fc8ad8",
   "metadata": {
    "scrolled": true
   },
   "outputs": [
    {
     "data": {
      "text/plain": [
       "<AxesSubplot:xlabel='outbreak_subgroup'>"
      ]
     },
     "execution_count": 100,
     "metadata": {},
     "output_type": "execute_result"
    },
    {
     "data": {
      "image/png": "[encoded data removed]",
      "text/plain": [
       "<Figure size 432x288 with 1 Axes>"
      ]
     },
     "metadata": {
      "needs_background": "light"
     },
     "output_type": "display_data"
    }
   ],
   "source": [
    "#plotting vertical graph for nov 2021 outbreak subgroup\n",
    "nov_2021_outbreak_subgroup.plot(kind='bar')"
   ]
  },
  {
   "cell_type": "markdown",
   "id": "b3b531aa",
   "metadata": {},
   "source": [
    "Now we are grouping our outbreak_group in terms of number of covid outbreaks ongoing and plotting the results"
   ]
  },
  {
   "cell_type": "code",
   "execution_count": 101,
   "id": "24bf56c9",
   "metadata": {},
   "outputs": [
    {
     "data": {
      "text/plain": [
       "<AxesSubplot:ylabel='outbreak_group'>"
      ]
     },
     "execution_count": 101,
     "metadata": {},
     "output_type": "execute_result"
    },
    {
     "data": {
      "image/png": "[encoded data removed]",
      "text/plain": [
       "<Figure size 432x288 with 1 Axes>"
      ]
     },
     "metadata": {
      "needs_background": "light"
     },
     "output_type": "display_data"
    }
   ],
   "source": [
    "#plotting vertical graph for nov 2021 outbreak group\n",
    "nov_2021_outbreak_group = date_from_2021.groupby('outbreak_group')['number_ongoing_outbreaks'].sum().plot(kind='barh')\n",
    "nov_2021_outbreak_group"
   ]
  },
  {
   "cell_type": "markdown",
   "id": "7556b0de",
   "metadata": {},
   "source": [
    "We can see that the covid cases in educational sectors is rising rapidly due to opening of schools and colleges which is needed to take control and the cases in workplace group is in 2nd position with huge gap between education"
   ]
  },
  {
   "cell_type": "markdown",
   "id": "8d6ad93b",
   "metadata": {},
   "source": [
    "# Question\n",
    "### 4.  From last 6 months, which group is rising most ?"
   ]
  },
  {
   "cell_type": "code",
   "execution_count": 102,
   "id": "296a4d09",
   "metadata": {},
   "outputs": [
    {
     "data": {
      "text/html": [
       "<div>\n",
       "<style scoped>\n",
       "    .dataframe tbody tr th:only-of-type {\n",
       "        vertical-align: middle;\n",
       "    }\n",
       "\n",
       "    .dataframe tbody tr th {\n",
       "        vertical-align: top;\n",
       "    }\n",
       "\n",
       "    .dataframe thead th {\n",
       "        text-align: right;\n",
       "    }\n",
       "</style>\n",
       "<table border=\"1\" class=\"dataframe\">\n",
       "  <thead>\n",
       "    <tr style=\"text-align: right;\">\n",
       "      <th></th>\n",
       "      <th>date</th>\n",
       "      <th>outbreak_group</th>\n",
       "      <th>outbreak_subgroup</th>\n",
       "      <th>number_ongoing_outbreaks</th>\n",
       "    </tr>\n",
       "  </thead>\n",
       "  <tbody>\n",
       "    <tr>\n",
       "      <th>5589</th>\n",
       "      <td>2021-07-01</td>\n",
       "      <td>1 Congregate Care</td>\n",
       "      <td>1 Long-Term Care Homes</td>\n",
       "      <td>3</td>\n",
       "    </tr>\n",
       "    <tr>\n",
       "      <th>5590</th>\n",
       "      <td>2021-07-01</td>\n",
       "      <td>1 Congregate Care</td>\n",
       "      <td>2 Hospitals</td>\n",
       "      <td>4</td>\n",
       "    </tr>\n",
       "    <tr>\n",
       "      <th>5591</th>\n",
       "      <td>2021-07-01</td>\n",
       "      <td>1 Congregate Care</td>\n",
       "      <td>3 Retirement Homes</td>\n",
       "      <td>3</td>\n",
       "    </tr>\n",
       "    <tr>\n",
       "      <th>5592</th>\n",
       "      <td>2021-07-01</td>\n",
       "      <td>2 Congregate Living</td>\n",
       "      <td>18 Short-term accommodations</td>\n",
       "      <td>3</td>\n",
       "    </tr>\n",
       "    <tr>\n",
       "      <th>5593</th>\n",
       "      <td>2021-07-01</td>\n",
       "      <td>2 Congregate Living</td>\n",
       "      <td>22 Congregate other</td>\n",
       "      <td>3</td>\n",
       "    </tr>\n",
       "  </tbody>\n",
       "</table>\n",
       "</div>"
      ],
      "text/plain": [
       "            date       outbreak_group             outbreak_subgroup  \\\n",
       "5589  2021-07-01    1 Congregate Care        1 Long-Term Care Homes   \n",
       "5590  2021-07-01    1 Congregate Care                   2 Hospitals   \n",
       "5591  2021-07-01    1 Congregate Care            3 Retirement Homes   \n",
       "5592  2021-07-01  2 Congregate Living  18 Short-term accommodations   \n",
       "5593  2021-07-01  2 Congregate Living           22 Congregate other   \n",
       "\n",
       "      number_ongoing_outbreaks  \n",
       "5589                         3  \n",
       "5590                         4  \n",
       "5591                         3  \n",
       "5592                         3  \n",
       "5593                         3  "
      ]
     },
     "execution_count": 102,
     "metadata": {},
     "output_type": "execute_result"
    }
   ],
   "source": [
    "last_six_months =  df[df['date'] > '2021-06-31']\n",
    "last_six_months.head()"
   ]
  },
  {
   "cell_type": "code",
   "execution_count": 103,
   "id": "5f0a6331",
   "metadata": {
    "scrolled": true
   },
   "outputs": [
    {
     "data": {
      "text/plain": [
       "<AxesSubplot:ylabel='outbreak_group'>"
      ]
     },
     "execution_count": 103,
     "metadata": {},
     "output_type": "execute_result"
    },
    {
     "data": {
      "image/png": "[encoded data removed]",
      "text/plain": [
       "<Figure size 432x288 with 1 Axes>"
      ]
     },
     "metadata": {
      "needs_background": "light"
     },
     "output_type": "display_data"
    }
   ],
   "source": [
    "last_six_months_group = last_six_months.groupby('outbreak_group')['number_ongoing_outbreaks'].sum().plot(kind='barh')\n",
    "last_six_months_group\n"
   ]
  },
  {
   "cell_type": "markdown",
   "id": "4fe6b168",
   "metadata": {},
   "source": [
    "Here from this chart we can see it clearly now that the covid outbreak in education sector is the group which is growing the most covid cases in ontario , Canada"
   ]
  },
  {
   "cell_type": "markdown",
   "id": "e026d111",
   "metadata": {},
   "source": [
    "# Question\n",
    "### 5. which group has most number of covid outbreak in first 6 months of 2021 ?"
   ]
  },
  {
   "cell_type": "code",
   "execution_count": 104,
   "id": "9c5272a5",
   "metadata": {},
   "outputs": [
    {
     "data": {
      "text/html": [
       "<div>\n",
       "<style scoped>\n",
       "    .dataframe tbody tr th:only-of-type {\n",
       "        vertical-align: middle;\n",
       "    }\n",
       "\n",
       "    .dataframe tbody tr th {\n",
       "        vertical-align: top;\n",
       "    }\n",
       "\n",
       "    .dataframe thead th {\n",
       "        text-align: right;\n",
       "    }\n",
       "</style>\n",
       "<table border=\"1\" class=\"dataframe\">\n",
       "  <thead>\n",
       "    <tr style=\"text-align: right;\">\n",
       "      <th></th>\n",
       "      <th>date</th>\n",
       "      <th>outbreak_group</th>\n",
       "      <th>outbreak_subgroup</th>\n",
       "      <th>number_ongoing_outbreaks</th>\n",
       "    </tr>\n",
       "  </thead>\n",
       "  <tbody>\n",
       "    <tr>\n",
       "      <th>1436</th>\n",
       "      <td>2021-01-01</td>\n",
       "      <td>1 Congregate Care</td>\n",
       "      <td>1 Long-Term Care Homes</td>\n",
       "      <td>212</td>\n",
       "    </tr>\n",
       "    <tr>\n",
       "      <th>1437</th>\n",
       "      <td>2021-01-01</td>\n",
       "      <td>1 Congregate Care</td>\n",
       "      <td>2 Hospitals</td>\n",
       "      <td>52</td>\n",
       "    </tr>\n",
       "    <tr>\n",
       "      <th>1438</th>\n",
       "      <td>2021-01-01</td>\n",
       "      <td>1 Congregate Care</td>\n",
       "      <td>3 Retirement Homes</td>\n",
       "      <td>117</td>\n",
       "    </tr>\n",
       "    <tr>\n",
       "      <th>1439</th>\n",
       "      <td>2021-01-01</td>\n",
       "      <td>2 Congregate Living</td>\n",
       "      <td>22 Congregate other</td>\n",
       "      <td>12</td>\n",
       "    </tr>\n",
       "    <tr>\n",
       "      <th>1440</th>\n",
       "      <td>2021-01-01</td>\n",
       "      <td>2 Congregate Living</td>\n",
       "      <td>4 Group Home/Supportive Housing</td>\n",
       "      <td>73</td>\n",
       "    </tr>\n",
       "  </tbody>\n",
       "</table>\n",
       "</div>"
      ],
      "text/plain": [
       "            date       outbreak_group                outbreak_subgroup  \\\n",
       "1436  2021-01-01    1 Congregate Care           1 Long-Term Care Homes   \n",
       "1437  2021-01-01    1 Congregate Care                      2 Hospitals   \n",
       "1438  2021-01-01    1 Congregate Care               3 Retirement Homes   \n",
       "1439  2021-01-01  2 Congregate Living              22 Congregate other   \n",
       "1440  2021-01-01  2 Congregate Living  4 Group Home/Supportive Housing   \n",
       "\n",
       "      number_ongoing_outbreaks  \n",
       "1436                       212  \n",
       "1437                        52  \n",
       "1438                       117  \n",
       "1439                        12  \n",
       "1440                        73  "
      ]
     },
     "execution_count": 104,
     "metadata": {},
     "output_type": "execute_result"
    }
   ],
   "source": [
    "first_six_months =  df[(df['date'] < '2021-06-31') & (df['date'] > '2020-12-31')]\n",
    "#printing first 5 headers\n",
    "first_six_months.head()"
   ]
  },
  {
   "cell_type": "code",
   "execution_count": 105,
   "id": "d6bb81b7",
   "metadata": {},
   "outputs": [
    {
     "data": {
      "text/plain": [
       "array(['2021-01-01', '2021-01-02', '2021-01-03', '2021-01-04',\n",
       "       '2021-01-05', '2021-01-06', '2021-01-07', '2021-01-08',\n",
       "       '2021-01-09', '2021-01-10', '2021-01-11', '2021-01-12',\n",
       "       '2021-01-13', '2021-01-14', '2021-01-15', '2021-01-16',\n",
       "       '2021-01-17', '2021-01-18', '2021-01-19', '2021-01-20',\n",
       "       '2021-01-21', '2021-01-22', '2021-01-23', '2021-01-24',\n",
       "       '2021-01-25', '2021-01-26', '2021-01-27', '2021-01-28',\n",
       "       '2021-01-29', '2021-01-30', '2021-01-31', '2021-02-01',\n",
       "       '2021-02-02', '2021-02-03', '2021-02-04', '2021-02-05',\n",
       "       '2021-02-06', '2021-02-07', '2021-02-08', '2021-02-09',\n",
       "       '2021-02-10', '2021-02-11', '2021-02-12', '2021-02-13',\n",
       "       '2021-02-14', '2021-02-15', '2021-02-16', '2021-02-17',\n",
       "       '2021-02-18', '2021-02-19', '2021-02-20', '2021-02-21',\n",
       "       '2021-02-22', '2021-02-23', '2021-02-24', '2021-02-25',\n",
       "       '2021-02-26', '2021-02-27', '2021-02-28', '2021-03-01',\n",
       "       '2021-03-02', '2021-03-03', '2021-03-04', '2021-03-05',\n",
       "       '2021-03-06', '2021-03-07', '2021-03-08', '2021-03-09',\n",
       "       '2021-03-10', '2021-03-11', '2021-03-12', '2021-03-13',\n",
       "       '2021-03-14', '2021-03-15', '2021-03-16', '2021-03-17',\n",
       "       '2021-03-18', '2021-03-19', '2021-03-20', '2021-03-21',\n",
       "       '2021-03-22', '2021-03-23', '2021-03-24', '2021-03-25',\n",
       "       '2021-03-26', '2021-03-27', '2021-03-28', '2021-03-29',\n",
       "       '2021-03-30', '2021-03-31', '2021-04-01', '2021-04-02',\n",
       "       '2021-04-03', '2021-04-04', '2021-04-05', '2021-04-06',\n",
       "       '2021-04-07', '2021-04-08', '2021-04-09', '2021-04-10',\n",
       "       '2021-04-11', '2021-04-12', '2021-04-13', '2021-04-14',\n",
       "       '2021-04-15', '2021-04-16', '2021-04-17', '2021-04-18',\n",
       "       '2021-04-19', '2021-04-20', '2021-04-21', '2021-04-22',\n",
       "       '2021-04-23', '2021-04-24', '2021-04-25', '2021-04-26',\n",
       "       '2021-04-27', '2021-04-28', '2021-04-29', '2021-04-30',\n",
       "       '2021-05-01', '2021-05-02', '2021-05-03', '2021-05-04',\n",
       "       '2021-05-05', '2021-05-06', '2021-05-07', '2021-05-08',\n",
       "       '2021-05-09', '2021-05-10', '2021-05-11', '2021-05-12',\n",
       "       '2021-05-13', '2021-05-14', '2021-05-15', '2021-05-16',\n",
       "       '2021-05-17', '2021-05-18', '2021-05-19', '2021-05-20',\n",
       "       '2021-05-21', '2021-05-22', '2021-05-23', '2021-05-24',\n",
       "       '2021-05-25', '2021-05-26', '2021-05-27', '2021-05-28',\n",
       "       '2021-05-29', '2021-05-30', '2021-05-31', '2021-06-01',\n",
       "       '2021-06-02', '2021-06-03', '2021-06-04', '2021-06-05',\n",
       "       '2021-06-06', '2021-06-07', '2021-06-08', '2021-06-09',\n",
       "       '2021-06-10', '2021-06-11', '2021-06-12', '2021-06-13',\n",
       "       '2021-06-14', '2021-06-15', '2021-06-16', '2021-06-17',\n",
       "       '2021-06-18', '2021-06-19', '2021-06-20', '2021-06-21',\n",
       "       '2021-06-22', '2021-06-23', '2021-06-24', '2021-06-25',\n",
       "       '2021-06-26', '2021-06-27', '2021-06-28', '2021-06-29',\n",
       "       '2021-06-30'], dtype=object)"
      ]
     },
     "execution_count": 105,
     "metadata": {},
     "output_type": "execute_result"
    }
   ],
   "source": [
    "first_six_months['date'].unique()"
   ]
  },
  {
   "cell_type": "markdown",
   "id": "cdaec2df",
   "metadata": {},
   "source": [
    "We can see that, our date starts from 2021-01 upto 2021-06-31 which is first 6 months data"
   ]
  },
  {
   "cell_type": "code",
   "execution_count": 106,
   "id": "f32ec25e",
   "metadata": {},
   "outputs": [
    {
     "data": {
      "text/plain": [
       "outbreak_group\n",
       "1 Congregate Care             35256\n",
       "2 Congregate Living           16244\n",
       "3 Education                   22810\n",
       "4 Workplace                   35515\n",
       "5 Recreational                 6864\n",
       "6 Other/Unknown                2261\n",
       "7 Out of Province Outbreak       47\n",
       "Name: number_ongoing_outbreaks, dtype: int64"
      ]
     },
     "execution_count": 106,
     "metadata": {},
     "output_type": "execute_result"
    }
   ],
   "source": [
    "first_6months_outbreak_group = first_six_months.groupby('outbreak_group')['number_ongoing_outbreaks'].sum()\n",
    "first_6months_outbreak_group"
   ]
  },
  {
   "cell_type": "code",
   "execution_count": 107,
   "id": "ee6d9011",
   "metadata": {},
   "outputs": [
    {
     "data": {
      "text/plain": [
       "<AxesSubplot:ylabel='outbreak_group'>"
      ]
     },
     "execution_count": 107,
     "metadata": {},
     "output_type": "execute_result"
    },
    {
     "data": {
      "image/png": "[encoded data removed]",
      "text/plain": [
       "<Figure size 432x288 with 1 Axes>"
      ]
     },
     "metadata": {
      "needs_background": "light"
     },
     "output_type": "display_data"
    }
   ],
   "source": [
    "first_6months_outbreak_group.plot(kind='barh')"
   ]
  },
  {
   "cell_type": "markdown",
   "id": "6dc69610",
   "metadata": {},
   "source": [
    "we can see that, covid cases in workplace and congregate care are with the most number and education is in 3rd position which will top up in next 6 months\n",
    "\n",
    "##### Conclusion\n",
    "We can see that, in the first 6 months of 2021 , Workplace and Congregate care were dominating the most covid cases while education was slowly rising and after 6 months, the covid cases in the education jumps rapidly with a strong pace which tops the group in last 6 months and recenlty till this date, this group is still dominating the race which needs to be controlled ."
   ]
  }
 ],
 "metadata": {
  "kernelspec": {
   "display_name": "Python 3",
   "language": "python",
   "name": "python3"
  },
  "language_info": {
   "codemirror_mode": {
    "name": "ipython",
    "version": 3
   },
   "file_extension": ".py",
   "mimetype": "text/x-python",
   "name": "python",
   "nbconvert_exporter": "python",
   "pygments_lexer": "ipython3",
   "version": "3.8.8"
  }
 },
 "nbformat": 4,
 "nbformat_minor": 5
}
