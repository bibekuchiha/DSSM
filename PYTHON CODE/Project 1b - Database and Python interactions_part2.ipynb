{
 "cells": [
  {
   "cell_type": "code",
   "execution_count": 35,
   "id": "5872d7f0",
   "metadata": {},
   "outputs": [],
   "source": [
    "import pymongo"
   ]
  },
  {
   "cell_type": "code",
   "execution_count": 36,
   "id": "229b1d71",
   "metadata": {},
   "outputs": [
    {
     "name": "stdout",
     "output_type": "stream",
     "text": [
      "Connection Successful\n"
     ]
    }
   ],
   "source": [
    "client = pymongo.MongoClient(\"mongodb://127.0.0.1:27017\")\n",
    "print(\"Connection Successful\")"
   ]
  },
  {
   "cell_type": "markdown",
   "id": "e2245b66",
   "metadata": {},
   "source": [
    "## Creation of database and collection"
   ]
  },
  {
   "cell_type": "code",
   "execution_count": 37,
   "id": "9d05cd7a",
   "metadata": {},
   "outputs": [],
   "source": [
    "db_name = 'doc_db'\n",
    "driver_db = client[db_name]"
   ]
  },
  {
   "cell_type": "code",
   "execution_count": 38,
   "id": "f201ddcf",
   "metadata": {},
   "outputs": [],
   "source": [
    "collection_name = 'documents'\n",
    "doc_collection = driver_db[collection_name]"
   ]
  },
  {
   "cell_type": "markdown",
   "id": "8ea559e0",
   "metadata": {},
   "source": [
    "## CRUD operation using pymongo\n",
    "### Create Operation"
   ]
  },
  {
   "cell_type": "code",
   "execution_count": 39,
   "id": "159d2c5f",
   "metadata": {},
   "outputs": [],
   "source": [
    "Doc1=[{\"fruit\": \"Apple\",    \"size\": \"Large\",    \"color\": \"Red\"},\n",
    "    {\"fruit\": \"Mango\",    \"size\": \"Medium\",    \"color\": \"Yellow\"},\n",
    "    {\"fruit\": \"Guava\",    \"size\": \"small\",    \"color\": \"Green\"},] \n"
   ]
  },
  {
   "cell_type": "code",
   "execution_count": 40,
   "id": "460f5633",
   "metadata": {},
   "outputs": [
    {
     "data": {
      "text/plain": [
       "<pymongo.results.InsertManyResult at 0x1cbf04c3c80>"
      ]
     },
     "execution_count": 40,
     "metadata": {},
     "output_type": "execute_result"
    }
   ],
   "source": [
    "doc_collection.insert_many(Doc1)"
   ]
  },
  {
   "cell_type": "markdown",
   "id": "2236d445",
   "metadata": {},
   "source": [
    "### Retrieve Operation"
   ]
  },
  {
   "cell_type": "code",
   "execution_count": 41,
   "id": "766cd68e",
   "metadata": {},
   "outputs": [],
   "source": [
    "query1 = {'fruit':'Mango'}\n",
    "res = doc_collection.find_one(query1)"
   ]
  },
  {
   "cell_type": "code",
   "execution_count": 42,
   "id": "873bb013",
   "metadata": {},
   "outputs": [
    {
     "data": {
      "text/plain": [
       "{'_id': ObjectId('6209e39300008e33f7406a73'),\n",
       " 'fruit': 'Mango',\n",
       " 'size': 'Medium',\n",
       " 'color': 'Yellow'}"
      ]
     },
     "execution_count": 42,
     "metadata": {},
     "output_type": "execute_result"
    }
   ],
   "source": [
    "res"
   ]
  },
  {
   "cell_type": "markdown",
   "id": "3c1fdd59",
   "metadata": {},
   "source": [
    "### Update Operation"
   ]
  },
  {
   "cell_type": "code",
   "execution_count": 43,
   "id": "a45d4a2a",
   "metadata": {},
   "outputs": [],
   "source": [
    "query_old = {'fruit' : 'Apple'}\n",
    "query_new = {'$set':{'fruit':'Banana'}}\n",
    "res1 = doc_collection.update_one(query_old, query_new)"
   ]
  },
  {
   "cell_type": "code",
   "execution_count": 44,
   "id": "fc637e80",
   "metadata": {},
   "outputs": [
    {
     "data": {
      "text/plain": [
       "<pymongo.results.UpdateResult at 0x1cbf04b7640>"
      ]
     },
     "execution_count": 44,
     "metadata": {},
     "output_type": "execute_result"
    }
   ],
   "source": [
    "res1\n"
   ]
  },
  {
   "cell_type": "markdown",
   "id": "c9548fd7",
   "metadata": {},
   "source": [
    "### Delete Operation"
   ]
  },
  {
   "cell_type": "code",
   "execution_count": 45,
   "id": "776483a5",
   "metadata": {},
   "outputs": [],
   "source": [
    "query_del = {'fruit':'Banana'}\n",
    "res2 = doc_collection.delete_one(query_del)"
   ]
  },
  {
   "cell_type": "code",
   "execution_count": 46,
   "id": "92ca7145",
   "metadata": {},
   "outputs": [
    {
     "data": {
      "text/plain": [
       "<pymongo.results.DeleteResult at 0x1cbf04c58c0>"
      ]
     },
     "execution_count": 46,
     "metadata": {},
     "output_type": "execute_result"
    }
   ],
   "source": [
    "res2"
   ]
  },
  {
   "cell_type": "code",
   "execution_count": null,
   "id": "835764d9",
   "metadata": {},
   "outputs": [],
   "source": []
  }
 ],
 "metadata": {
  "kernelspec": {
   "display_name": "Python 3",
   "language": "python",
   "name": "python3"
  },
  "language_info": {
   "codemirror_mode": {
    "name": "ipython",
    "version": 3
   },
   "file_extension": ".py",
   "mimetype": "text/x-python",
   "name": "python",
   "nbconvert_exporter": "python",
   "pygments_lexer": "ipython3",
   "version": "3.8.8"
  }
 },
 "nbformat": 4,
 "nbformat_minor": 5
}
