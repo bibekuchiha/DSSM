{
 "cells": [
  {
   "cell_type": "code",
   "execution_count": 1,
   "id": "0fccaaaa",
   "metadata": {},
   "outputs": [],
   "source": [
    "import pyodbc"
   ]
  },
  {
   "cell_type": "code",
   "execution_count": 2,
   "id": "edfad015",
   "metadata": {},
   "outputs": [
    {
     "data": {
      "text/plain": [
       "['SQL Server',\n",
       " 'SQL Server Native Client 11.0',\n",
       " 'SQL Server Native Client RDA 11.0',\n",
       " 'ODBC Driver 13 for SQL Server',\n",
       " 'ODBC Driver 17 for SQL Server',\n",
       " 'Microsoft Access Driver (*.mdb, *.accdb)',\n",
       " 'Microsoft Excel Driver (*.xls, *.xlsx, *.xlsm, *.xlsb)',\n",
       " 'Microsoft Access Text Driver (*.txt, *.csv)']"
      ]
     },
     "execution_count": 2,
     "metadata": {},
     "output_type": "execute_result"
    }
   ],
   "source": [
    "pyodbc.drivers()"
   ]
  },
  {
   "cell_type": "code",
   "execution_count": 3,
   "id": "43c3057e",
   "metadata": {},
   "outputs": [],
   "source": [
    "# define the server and the database\n",
    "server = 'BIBEK-SHAH-SHAN\\MSSQLSERVER2019' \n",
    "database = 'AdventureWorks2019'  \n",
    "\n",
    "# Define the connection string\n",
    "cnxn = pyodbc.connect(  \n",
    "    'DRIVER={SQL Server}; \\\n",
    "    SERVER='+ server +'; \\\n",
    "    DATABASE='+ database +';\\\n",
    "    Trusted_Connection=yes;'\n",
    ")"
   ]
  },
  {
   "cell_type": "code",
   "execution_count": 4,
   "id": "fc0ae1b2",
   "metadata": {},
   "outputs": [],
   "source": [
    "query = \"SELECT Name, CreditRating FROM Purchasing.Vendor WHERE CreditRating < 3\"\n"
   ]
  },
  {
   "cell_type": "markdown",
   "id": "3988dcaa",
   "metadata": {},
   "source": [
    "Create a CURSOR that we can use to work in the database"
   ]
  },
  {
   "cell_type": "code",
   "execution_count": 6,
   "id": "13ad6078",
   "metadata": {},
   "outputs": [],
   "source": [
    "cursor = cnxn.cursor();\n"
   ]
  },
  {
   "cell_type": "code",
   "execution_count": 7,
   "id": "0203324b",
   "metadata": {},
   "outputs": [],
   "source": [
    "cursor.execute(query);"
   ]
  },
  {
   "cell_type": "code",
   "execution_count": 8,
   "id": "09552843",
   "metadata": {},
   "outputs": [
    {
     "data": {
      "text/plain": [
       "[('Australia Bike Retailer', 1),\n",
       " ('Allenson Cycles', 2),\n",
       " ('Advanced Bicycles', 1),\n",
       " ('Trikes, Inc.', 2),\n",
       " ('Morgan Bike Accessories', 1),\n",
       " ('Cycling Master', 1),\n",
       " ('Chicago Rent-All', 2),\n",
       " ('Greenwood Athletic Company', 1),\n",
       " ('Compete Enterprises, Inc', 1),\n",
       " ('International', 1),\n",
       " ('Light Speed', 1),\n",
       " ('Training Systems', 1),\n",
       " ('Gardner Touring Cycles', 1),\n",
       " ('International Trek Center', 1),\n",
       " ('G & K Bicycle Corp.', 1),\n",
       " ('First National Sport Co.', 1),\n",
       " ('International Bicycles', 1),\n",
       " ('Image Makers Bike Center', 1),\n",
       " ('Comfort Road Bicycles', 1),\n",
       " ('Knopfler Cycles', 1),\n",
       " ('Ready Rentals', 1),\n",
       " ('Cruger Bike Company', 1),\n",
       " ('Bergeron Off-Roads', 1),\n",
       " (\"Hill's Bicycle Service\", 1),\n",
       " ('Circuit Cycles', 1),\n",
       " ('Green Lake Bike Company', 1),\n",
       " ('Sports House', 1),\n",
       " ('WestAmerica Bicycle Co.', 1),\n",
       " ('West Junction Cycles', 1),\n",
       " ('Marsh', 1),\n",
       " ('Capital Road Cycles', 1),\n",
       " ('Norstan Bike Hut', 1),\n",
       " ('Illinois Trek & Clothing', 1),\n",
       " ('Burnett Road Warriors', 1),\n",
       " ('Custom Frames, Inc.', 2),\n",
       " ('First Rate Bicycles', 1),\n",
       " ('National Bike Association', 1),\n",
       " (\"Jeff's Sporting Goods\", 1),\n",
       " ('Superior Bicycles', 1),\n",
       " ('Vision Cycles, Inc.', 1),\n",
       " ('Litware, Inc.', 1),\n",
       " ('Mitchell Sports', 1),\n",
       " ('Signature Cycles', 2),\n",
       " ('SUPERSALES INC.', 1),\n",
       " ('Lindell', 1),\n",
       " ('Fitness Association', 1),\n",
       " ('A. Datum Corporation', 1),\n",
       " ('Beaumont Bikes', 1),\n",
       " ('Bike Satellite Inc.', 1),\n",
       " ('Northwind Traders', 1),\n",
       " ('Sport Playground', 1),\n",
       " ('Hybrid Bicycle Center', 1),\n",
       " ('Midwest Sport, Inc.', 1),\n",
       " ('Reliance Fitness, Inc.', 2),\n",
       " ('Aurora Bike Center', 1),\n",
       " ('Metro Sport Equipment', 1),\n",
       " ('Lakewood Bicycle', 1),\n",
       " ('Speed Corporation', 1),\n",
       " ('Competition Bike Training Systems', 1),\n",
       " ('Hill Bicycle Center', 1),\n",
       " ('Bicycle Specialists', 1),\n",
       " ('Indiana Bicycle Center', 1),\n",
       " ('Sport Fan Co.', 1),\n",
       " ('GMA Ski & Bike', 1),\n",
       " ('Integrated Sport Products', 1),\n",
       " ('Inline Accessories', 1),\n",
       " ('Legend Cycles', 1),\n",
       " ('Electronic Bike Co.', 1),\n",
       " ('International Sport Assoc.', 1),\n",
       " ('Electronic Bike Repair & Supplies', 1),\n",
       " ('Wide World Importers', 2),\n",
       " ('American Bicycles and Wheels', 1),\n",
       " ('American Bikes', 1),\n",
       " ('Mountain Works', 1),\n",
       " ('Crowley Sport', 1),\n",
       " ('Magic Cycles', 1),\n",
       " (\"Anderson's Custom Bikes\", 1),\n",
       " ('Leaf River Terrain', 1),\n",
       " ('Touring Equipment Center', 1),\n",
       " ('Holiday Skate & Cycle', 1),\n",
       " ('Expert Bike Co', 1),\n",
       " ('Varsity Sport Co.', 1),\n",
       " ('Team Athletic Co.', 1),\n",
       " ('Jackson Authority', 1),\n",
       " ('Premier Sport, Inc.', 1),\n",
       " ('Professional Athletic Consultants', 1),\n",
       " ('Pro Sport Industries', 1),\n",
       " ('Wood Fitness', 1),\n",
       " ('Bloomington Multisport', 1),\n",
       " ('Carlson Specialties', 2),\n",
       " ('Compete, Inc.', 1),\n",
       " ('Chicago City Saddles', 1),\n",
       " ('Business Equipment Center', 2)]"
      ]
     },
     "execution_count": 8,
     "metadata": {},
     "output_type": "execute_result"
    }
   ],
   "source": [
    "#Fetch and store the results\n",
    "data = cursor.fetchall()\n",
    "data"
   ]
  },
  {
   "cell_type": "code",
   "execution_count": 9,
   "id": "8d2d51c0",
   "metadata": {},
   "outputs": [],
   "source": [
    "#Close the cursor\n",
    "cursor.close()"
   ]
  },
  {
   "cell_type": "markdown",
   "id": "353692ff",
   "metadata": {},
   "source": [
    "### Connect and extract data | Consolidated with statement\n",
    "Create a CONNECTION and import the DATA. There is no need to close the connection manually here as it will close when exiting the with statement.\n"
   ]
  },
  {
   "cell_type": "code",
   "execution_count": 10,
   "id": "04823757",
   "metadata": {},
   "outputs": [],
   "source": [
    "\n",
    "with cnxn as conx:\n",
    "    cursor = conx.cursor()\n",
    "    cursor.execute(query)\n",
    "    data = cursor.fetchall()    "
   ]
  },
  {
   "cell_type": "markdown",
   "id": "914297e2",
   "metadata": {},
   "source": [
    "Display the RESULTS to check the data (first 5 rows)\n",
    "\n"
   ]
  },
  {
   "cell_type": "code",
   "execution_count": 11,
   "id": "75639f40",
   "metadata": {},
   "outputs": [
    {
     "name": "stdout",
     "output_type": "stream",
     "text": [
      "[('Australia Bike Retailer', 1), ('Allenson Cycles', 2), ('Advanced Bicycles', 1), ('Trikes, Inc.', 2), ('Morgan Bike Accessories', 1)]\n"
     ]
    }
   ],
   "source": [
    "print(data[:5])\n"
   ]
  },
  {
   "cell_type": "markdown",
   "id": "06d3bc39",
   "metadata": {},
   "source": [
    "### Other useful methods\n",
    "Access the DATA as a NAMED TUPLE, which can prove to be very handy"
   ]
  },
  {
   "cell_type": "code",
   "execution_count": 12,
   "id": "d8dbd734",
   "metadata": {},
   "outputs": [
    {
     "name": "stdout",
     "output_type": "stream",
     "text": [
      "VENDOR NAME: Australia Bike Retailer\n",
      "CREDIT RATING: 1\n",
      "VENDOR NAME: Allenson Cycles\n",
      "CREDIT RATING: 2\n",
      "VENDOR NAME: Advanced Bicycles\n",
      "CREDIT RATING: 1\n",
      "VENDOR NAME: Trikes, Inc.\n",
      "CREDIT RATING: 2\n",
      "VENDOR NAME: Morgan Bike Accessories\n",
      "CREDIT RATING: 1\n"
     ]
    }
   ],
   "source": [
    "for row in data[:5]:\n",
    "    print(f\"VENDOR NAME: {row.Name}\\nCREDIT RATING: {row.CreditRating}\")"
   ]
  },
  {
   "cell_type": "markdown",
   "id": "5cd19eb3",
   "metadata": {},
   "source": [
    "Retrieve the COLUMN NAMES for a table\n",
    "\n"
   ]
  },
  {
   "cell_type": "code",
   "execution_count": 13,
   "id": "2f2ae5ff",
   "metadata": {},
   "outputs": [
    {
     "name": "stdout",
     "output_type": "stream",
     "text": [
      "['BusinessEntityID', 'AccountNumber', 'Name', 'CreditRating', 'PreferredVendorStatus', 'ActiveFlag', 'PurchasingWebServiceURL', 'ModifiedDate']\n"
     ]
    }
   ],
   "source": [
    "columns = [row.column_name for row in cursor.columns(table='Vendor')]\n",
    "print(columns)"
   ]
  },
  {
   "cell_type": "markdown",
   "id": "716da50e",
   "metadata": {},
   "source": [
    "Retrieve a LIST OF TABLES in the database (first 5 records)"
   ]
  },
  {
   "cell_type": "code",
   "execution_count": 14,
   "id": "077e55bb",
   "metadata": {},
   "outputs": [
    {
     "name": "stdout",
     "output_type": "stream",
     "text": [
      "['AWBuildVersion', 'DatabaseLog', 'ErrorLog', 'Department', 'Employee']\n"
     ]
    }
   ],
   "source": [
    "tables = [row.table_name for row in cursor.tables()]\n",
    "print(tables[:5])"
   ]
  },
  {
   "cell_type": "markdown",
   "id": "17c8455f",
   "metadata": {},
   "source": [
    "### Select queries with parameters\n",
    "SINGLE parameter query (Female employees)"
   ]
  },
  {
   "cell_type": "code",
   "execution_count": 17,
   "id": "57778911",
   "metadata": {},
   "outputs": [],
   "source": [
    "with cnxn as conx:\n",
    "    cursor = conx.cursor()\n",
    "    cursor.execute('SELECT NationalIDNumber, JobTitle FROM HumanResources.Employee WHERE Gender = ?', 'F')\n",
    "    f_emp_data = cursor.fetchall()"
   ]
  },
  {
   "cell_type": "markdown",
   "id": "c4e4740a",
   "metadata": {},
   "source": [
    "Retrieve a LIST of TABLES in the database (first 5 records)\n",
    "\n"
   ]
  },
  {
   "cell_type": "code",
   "execution_count": 18,
   "id": "ffc01d98",
   "metadata": {},
   "outputs": [
    {
     "name": "stdout",
     "output_type": "stream",
     "text": [
      "('245797967', 'Vice President of Engineering')\n",
      "('695256908', 'Design Engineer')\n",
      "('811994146', 'Research and Development Engineer')\n",
      "('658797903', 'Research and Development Engineer')\n",
      "('486228782', 'Tool Designer')\n"
     ]
    }
   ],
   "source": [
    "for row in f_emp_data[:5]:\n",
    "    print(row)"
   ]
  },
  {
   "cell_type": "markdown",
   "id": "6c3c8f91",
   "metadata": {},
   "source": [
    "MULTI parameters query (Male employees, Vacation hours < 40)\n",
    "\n"
   ]
  },
  {
   "cell_type": "code",
   "execution_count": 19,
   "id": "91e2a76b",
   "metadata": {},
   "outputs": [],
   "source": [
    "with cnxn as conx:\n",
    "    cursor = conx.cursor()\n",
    "    cursor.execute('SELECT NationalIDNumber, JobTitle, VacationHours FROM HumanResources.Employee WHERE Gender = ? AND VacationHours < ?' , ('M',40))\n",
    "    m_vac_data = cursor.fetchall()"
   ]
  },
  {
   "cell_type": "markdown",
   "id": "a981b28a",
   "metadata": {},
   "source": [
    "Retrieve a LIST of TABLES in the database (first 5 records)\n",
    "\n"
   ]
  },
  {
   "cell_type": "code",
   "execution_count": 20,
   "id": "a12041d6",
   "metadata": {},
   "outputs": [
    {
     "name": "stdout",
     "output_type": "stream",
     "text": [
      "('509647174', 'Engineering Manager', 2)\n",
      "('998320692', 'Design Engineer', 6)\n",
      "('879342154', 'Research and Development Manager', 16)\n",
      "('974026903', 'Senior Tool Designer', 7)\n",
      "('480168528', 'Tool Designer', 9)\n"
     ]
    }
   ],
   "source": [
    "for row in m_vac_data[:5]:\n",
    "    print(row)"
   ]
  },
  {
   "cell_type": "markdown",
   "id": "b5800506",
   "metadata": {},
   "source": [
    "## CRUD OPeration\n",
    "### Create and read operation"
   ]
  },
  {
   "cell_type": "code",
   "execution_count": 27,
   "id": "807c4c9f",
   "metadata": {},
   "outputs": [],
   "source": [
    "\n",
    "query1 =\"create table driver(driver_id varchar(100), driver_name varchar(100),age int)\"\n",
    "cursor =cnxn.cursor()\n",
    "cursor.execute(query1);"
   ]
  },
  {
   "cell_type": "code",
   "execution_count": 28,
   "id": "cf87ac48",
   "metadata": {
    "scrolled": true
   },
   "outputs": [
    {
     "data": {
      "text/plain": [
       "[]"
      ]
     },
     "execution_count": 28,
     "metadata": {},
     "output_type": "execute_result"
    }
   ],
   "source": [
    "query2 = \"select * from driver\"\n",
    "cursor.execute(query2);\n",
    "data1 = cursor.fetchall()\n",
    "data1"
   ]
  },
  {
   "cell_type": "markdown",
   "id": "4aba5ad5",
   "metadata": {},
   "source": [
    "### inserting data"
   ]
  },
  {
   "cell_type": "code",
   "execution_count": 29,
   "id": "d2267bc4",
   "metadata": {},
   "outputs": [],
   "source": [
    "\n",
    "query3 =\"insert into driver values('d_1','salkiran',25)\"\n",
    "query4 =\"insert into driver values('d_2','bibek',23)\"\n",
    "query5 =\"insert into driver values('d_3','david',21)\""
   ]
  },
  {
   "cell_type": "code",
   "execution_count": 30,
   "id": "4ce7e439",
   "metadata": {},
   "outputs": [
    {
     "data": {
      "text/plain": [
       "<pyodbc.Cursor at 0x1f5a40e6230>"
      ]
     },
     "execution_count": 30,
     "metadata": {},
     "output_type": "execute_result"
    }
   ],
   "source": [
    "cursor.execute(query3)\n",
    "cursor.execute(query4)\n",
    "cursor.execute(query5)"
   ]
  },
  {
   "cell_type": "markdown",
   "id": "a2e9c5d3",
   "metadata": {},
   "source": [
    "### Read Operation"
   ]
  },
  {
   "cell_type": "code",
   "execution_count": 31,
   "id": "7925e390",
   "metadata": {},
   "outputs": [
    {
     "data": {
      "text/plain": [
       "[('d_1', 'salkiran', 25), ('d_2', 'bibek', 23), ('d_3', 'david', 21)]"
      ]
     },
     "execution_count": 31,
     "metadata": {},
     "output_type": "execute_result"
    }
   ],
   "source": [
    "query6 = \"select * from driver\"\n",
    "cursor.execute(query6);\n",
    "data2 = cursor.fetchall()\n",
    "data2"
   ]
  },
  {
   "cell_type": "markdown",
   "id": "3496702d",
   "metadata": {},
   "source": [
    "### Update Operation"
   ]
  },
  {
   "cell_type": "code",
   "execution_count": 32,
   "id": "afaab1c3",
   "metadata": {},
   "outputs": [],
   "source": [
    "\n",
    "query7 = \"update driver set driver_name='naruto' where driver_name='salkiran'\""
   ]
  },
  {
   "cell_type": "code",
   "execution_count": 33,
   "id": "112e4562",
   "metadata": {},
   "outputs": [
    {
     "data": {
      "text/plain": [
       "<pyodbc.Cursor at 0x1f5a40e6230>"
      ]
     },
     "execution_count": 33,
     "metadata": {},
     "output_type": "execute_result"
    }
   ],
   "source": [
    "cursor.execute(query7)"
   ]
  },
  {
   "cell_type": "code",
   "execution_count": 34,
   "id": "9fd854c3",
   "metadata": {},
   "outputs": [],
   "source": [
    "query8=\"select * from driver\""
   ]
  },
  {
   "cell_type": "code",
   "execution_count": 35,
   "id": "28550e39",
   "metadata": {},
   "outputs": [
    {
     "data": {
      "text/plain": [
       "<pyodbc.Cursor at 0x1f5a40e6230>"
      ]
     },
     "execution_count": 35,
     "metadata": {},
     "output_type": "execute_result"
    }
   ],
   "source": [
    "cursor.execute(query8)"
   ]
  },
  {
   "cell_type": "code",
   "execution_count": 36,
   "id": "a2b5b0d2",
   "metadata": {},
   "outputs": [
    {
     "data": {
      "text/plain": [
       "[('d_1', 'naruto', 25), ('d_2', 'bibek', 23), ('d_3', 'david', 21)]"
      ]
     },
     "execution_count": 36,
     "metadata": {},
     "output_type": "execute_result"
    }
   ],
   "source": [
    "data3 = cursor.fetchall()\n",
    "data3"
   ]
  },
  {
   "cell_type": "markdown",
   "id": "01659841",
   "metadata": {},
   "source": [
    "### Delete Operation"
   ]
  },
  {
   "cell_type": "code",
   "execution_count": 37,
   "id": "46fff0b5",
   "metadata": {},
   "outputs": [
    {
     "data": {
      "text/plain": [
       "<pyodbc.Cursor at 0x1f5a40e6230>"
      ]
     },
     "execution_count": 37,
     "metadata": {},
     "output_type": "execute_result"
    }
   ],
   "source": [
    "\n",
    "query9 = \"delete from driver where driver_id='d_1'\"\n",
    "cursor.execute(query9)"
   ]
  },
  {
   "cell_type": "code",
   "execution_count": 38,
   "id": "3b1b7351",
   "metadata": {},
   "outputs": [
    {
     "data": {
      "text/plain": [
       "<pyodbc.Cursor at 0x1f5a40e6230>"
      ]
     },
     "execution_count": 38,
     "metadata": {},
     "output_type": "execute_result"
    }
   ],
   "source": [
    "query10 = 'select * from driver'\n",
    "cursor.execute(query10)"
   ]
  },
  {
   "cell_type": "code",
   "execution_count": 39,
   "id": "e7dfb4fc",
   "metadata": {},
   "outputs": [
    {
     "data": {
      "text/plain": [
       "[('d_2', 'bibek', 23), ('d_3', 'david', 21)]"
      ]
     },
     "execution_count": 39,
     "metadata": {},
     "output_type": "execute_result"
    }
   ],
   "source": [
    "data4 = cursor.fetchall()\n",
    "data4"
   ]
  }
 ],
 "metadata": {
  "kernelspec": {
   "display_name": "Python 3",
   "language": "python",
   "name": "python3"
  },
  "language_info": {
   "codemirror_mode": {
    "name": "ipython",
    "version": 3
   },
   "file_extension": ".py",
   "mimetype": "text/x-python",
   "name": "python",
   "nbconvert_exporter": "python",
   "pygments_lexer": "ipython3",
   "version": "3.8.8"
  }
 },
 "nbformat": 4,
 "nbformat_minor": 5
}
