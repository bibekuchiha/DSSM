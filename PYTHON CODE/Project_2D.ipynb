{
 "cells": [
  {
   "cell_type": "markdown",
   "id": "9a276886",
   "metadata": {},
   "source": [
    "## Project 2d\n",
    "\n",
    "•Implement Feature extraction using PCA with the following data.\n",
    "•array([[7, 6], [5, 2], [9, 8]])"
   ]
  },
  {
   "cell_type": "code",
   "execution_count": 1,
   "id": "bf306815",
   "metadata": {},
   "outputs": [],
   "source": [
    "# Python imports\n",
    "from numpy import array\n",
    "from numpy import mean\n",
    "from numpy import cov\n",
    "from numpy.linalg import eig"
   ]
  },
  {
   "cell_type": "code",
   "execution_count": 2,
   "id": "c730fc1f",
   "metadata": {},
   "outputs": [],
   "source": [
    "def cal_PT(A):\n",
    "    print(A)\n",
    "    # calculate the mean of each column\n",
    "    M = mean(A.T, axis=1)\n",
    "    print(M)\n",
    "    # center columns by subtracting column means\n",
    "    C = A - M\n",
    "    print(C)\n",
    "    # calculate covariance matrix of centered matrix\n",
    "    V = cov(C.T)\n",
    "    print(V)\n",
    "    # eigendecomposition of covariance matrix\n",
    "    values, vectors = eig(V)\n",
    "    print(vectors)\n",
    "    print(values)\n",
    "    # project data\n",
    "    P = vectors.T.dot(C.T)\n",
    "    return (P.T)   "
   ]
  },
  {
   "cell_type": "code",
   "execution_count": 3,
   "id": "f72aac7a",
   "metadata": {},
   "outputs": [
    {
     "name": "stdout",
     "output_type": "stream",
     "text": [
      "[[7 6]\n",
      " [5 2]\n",
      " [9 8]]\n",
      "[7.         5.33333333]\n",
      "[[ 0.          0.66666667]\n",
      " [-2.         -3.33333333]\n",
      " [ 2.          2.66666667]]\n",
      "[[4.         6.        ]\n",
      " [6.         9.33333333]]\n",
      "[[-0.83849224 -0.54491354]\n",
      " [ 0.54491354 -0.83849224]]\n",
      "[ 0.10076147 13.23257187]\n",
      "[[ 0.36327569 -0.55899483]\n",
      " [-0.13939399  3.88480121]\n",
      " [-0.2238817  -3.32580638]]\n"
     ]
    }
   ],
   "source": [
    "A = array([[7, 6], [5, 2], [9, 8]])\n",
    "\n",
    "print(cal_PT(A))"
   ]
  },
  {
   "cell_type": "code",
   "execution_count": null,
   "id": "9e7f0837",
   "metadata": {},
   "outputs": [],
   "source": []
  }
 ],
 "metadata": {
  "kernelspec": {
   "display_name": "Python 3",
   "language": "python",
   "name": "python3"
  },
  "language_info": {
   "codemirror_mode": {
    "name": "ipython",
    "version": 3
   },
   "file_extension": ".py",
   "mimetype": "text/x-python",
   "name": "python",
   "nbconvert_exporter": "python",
   "pygments_lexer": "ipython3",
   "version": "3.8.8"
  }
 },
 "nbformat": 4,
 "nbformat_minor": 5
}
