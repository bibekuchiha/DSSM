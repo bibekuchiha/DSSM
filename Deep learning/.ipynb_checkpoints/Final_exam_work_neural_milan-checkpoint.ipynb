{
 "cells": [
  {
   "cell_type": "code",
   "execution_count": 3,
   "metadata": {
    "id": "OdBFErZRk0i5"
   },
   "outputs": [],
   "source": [
    "#importing the necessary Libraries\n",
    "import pandas as pd\n",
    "import numpy as np\n",
    "import matplotlib.pyplot as plt"
   ]
  },
  {
   "cell_type": "code",
   "execution_count": 4,
   "metadata": {
    "id": "D8IwhXaPlFd3"
   },
   "outputs": [],
   "source": [
    "#reading the Dataset\n",
    "Honey = pd.read_csv('US_honey_dataset_updated.csv')"
   ]
  },
  {
   "cell_type": "code",
   "execution_count": 5,
   "metadata": {
    "colab": {
     "base_uri": "https://localhost:8080/",
     "height": 206
    },
    "id": "hTmQikjIlMiz",
    "outputId": "ab600f7f-9d5c-40d0-d95c-8fb9f88d9741"
   },
   "outputs": [
    {
     "data": {
      "text/html": [
       "<div>\n",
       "<style scoped>\n",
       "    .dataframe tbody tr th:only-of-type {\n",
       "        vertical-align: middle;\n",
       "    }\n",
       "\n",
       "    .dataframe tbody tr th {\n",
       "        vertical-align: top;\n",
       "    }\n",
       "\n",
       "    .dataframe thead th {\n",
       "        text-align: right;\n",
       "    }\n",
       "</style>\n",
       "<table border=\"1\" class=\"dataframe\">\n",
       "  <thead>\n",
       "    <tr style=\"text-align: right;\">\n",
       "      <th></th>\n",
       "      <th>Unnamed: 0</th>\n",
       "      <th>state</th>\n",
       "      <th>colonies_number</th>\n",
       "      <th>yield_per_colony</th>\n",
       "      <th>production</th>\n",
       "      <th>stocks</th>\n",
       "      <th>average_price</th>\n",
       "      <th>value_of_production</th>\n",
       "      <th>year</th>\n",
       "    </tr>\n",
       "  </thead>\n",
       "  <tbody>\n",
       "    <tr>\n",
       "      <th>0</th>\n",
       "      <td>0</td>\n",
       "      <td>Alabama</td>\n",
       "      <td>16000</td>\n",
       "      <td>58</td>\n",
       "      <td>928000</td>\n",
       "      <td>28000</td>\n",
       "      <td>62.0</td>\n",
       "      <td>575000</td>\n",
       "      <td>1995</td>\n",
       "    </tr>\n",
       "    <tr>\n",
       "      <th>1</th>\n",
       "      <td>1</td>\n",
       "      <td>Arizona</td>\n",
       "      <td>52000</td>\n",
       "      <td>79</td>\n",
       "      <td>4108000</td>\n",
       "      <td>986000</td>\n",
       "      <td>68.0</td>\n",
       "      <td>2793000</td>\n",
       "      <td>1995</td>\n",
       "    </tr>\n",
       "    <tr>\n",
       "      <th>2</th>\n",
       "      <td>2</td>\n",
       "      <td>Arkansas</td>\n",
       "      <td>50000</td>\n",
       "      <td>60</td>\n",
       "      <td>3000000</td>\n",
       "      <td>900000</td>\n",
       "      <td>64.0</td>\n",
       "      <td>1920000</td>\n",
       "      <td>1995</td>\n",
       "    </tr>\n",
       "    <tr>\n",
       "      <th>3</th>\n",
       "      <td>3</td>\n",
       "      <td>California</td>\n",
       "      <td>420000</td>\n",
       "      <td>93</td>\n",
       "      <td>39060000</td>\n",
       "      <td>4687000</td>\n",
       "      <td>60.0</td>\n",
       "      <td>23436000</td>\n",
       "      <td>1995</td>\n",
       "    </tr>\n",
       "    <tr>\n",
       "      <th>4</th>\n",
       "      <td>4</td>\n",
       "      <td>Colorado</td>\n",
       "      <td>45000</td>\n",
       "      <td>60</td>\n",
       "      <td>2700000</td>\n",
       "      <td>1404000</td>\n",
       "      <td>68.0</td>\n",
       "      <td>1836000</td>\n",
       "      <td>1995</td>\n",
       "    </tr>\n",
       "  </tbody>\n",
       "</table>\n",
       "</div>"
      ],
      "text/plain": [
       "   Unnamed: 0       state  colonies_number  yield_per_colony  production  \\\n",
       "0           0     Alabama            16000                58      928000   \n",
       "1           1     Arizona            52000                79     4108000   \n",
       "2           2    Arkansas            50000                60     3000000   \n",
       "3           3  California           420000                93    39060000   \n",
       "4           4    Colorado            45000                60     2700000   \n",
       "\n",
       "    stocks  average_price  value_of_production  year  \n",
       "0    28000           62.0               575000  1995  \n",
       "1   986000           68.0              2793000  1995  \n",
       "2   900000           64.0              1920000  1995  \n",
       "3  4687000           60.0             23436000  1995  \n",
       "4  1404000           68.0              1836000  1995  "
      ]
     },
     "execution_count": 5,
     "metadata": {},
     "output_type": "execute_result"
    }
   ],
   "source": [
    "Honey.head()"
   ]
  },
  {
   "cell_type": "code",
   "execution_count": 6,
   "metadata": {
    "colab": {
     "base_uri": "https://localhost:8080/",
     "height": 206
    },
    "id": "Z2v7dp1MlPDR",
    "outputId": "cd63e063-25ec-440d-c64d-c75fc92e32fe"
   },
   "outputs": [
    {
     "data": {
      "text/html": [
       "<div>\n",
       "<style scoped>\n",
       "    .dataframe tbody tr th:only-of-type {\n",
       "        vertical-align: middle;\n",
       "    }\n",
       "\n",
       "    .dataframe tbody tr th {\n",
       "        vertical-align: top;\n",
       "    }\n",
       "\n",
       "    .dataframe thead th {\n",
       "        text-align: right;\n",
       "    }\n",
       "</style>\n",
       "<table border=\"1\" class=\"dataframe\">\n",
       "  <thead>\n",
       "    <tr style=\"text-align: right;\">\n",
       "      <th></th>\n",
       "      <th>state</th>\n",
       "      <th>colonies_number</th>\n",
       "      <th>yield_per_colony</th>\n",
       "      <th>production</th>\n",
       "      <th>stocks</th>\n",
       "      <th>average_price</th>\n",
       "      <th>value_of_production</th>\n",
       "      <th>year</th>\n",
       "    </tr>\n",
       "  </thead>\n",
       "  <tbody>\n",
       "    <tr>\n",
       "      <th>0</th>\n",
       "      <td>Alabama</td>\n",
       "      <td>16000</td>\n",
       "      <td>58</td>\n",
       "      <td>928000</td>\n",
       "      <td>28000</td>\n",
       "      <td>62.0</td>\n",
       "      <td>575000</td>\n",
       "      <td>1995</td>\n",
       "    </tr>\n",
       "    <tr>\n",
       "      <th>1</th>\n",
       "      <td>Arizona</td>\n",
       "      <td>52000</td>\n",
       "      <td>79</td>\n",
       "      <td>4108000</td>\n",
       "      <td>986000</td>\n",
       "      <td>68.0</td>\n",
       "      <td>2793000</td>\n",
       "      <td>1995</td>\n",
       "    </tr>\n",
       "    <tr>\n",
       "      <th>2</th>\n",
       "      <td>Arkansas</td>\n",
       "      <td>50000</td>\n",
       "      <td>60</td>\n",
       "      <td>3000000</td>\n",
       "      <td>900000</td>\n",
       "      <td>64.0</td>\n",
       "      <td>1920000</td>\n",
       "      <td>1995</td>\n",
       "    </tr>\n",
       "    <tr>\n",
       "      <th>3</th>\n",
       "      <td>California</td>\n",
       "      <td>420000</td>\n",
       "      <td>93</td>\n",
       "      <td>39060000</td>\n",
       "      <td>4687000</td>\n",
       "      <td>60.0</td>\n",
       "      <td>23436000</td>\n",
       "      <td>1995</td>\n",
       "    </tr>\n",
       "    <tr>\n",
       "      <th>4</th>\n",
       "      <td>Colorado</td>\n",
       "      <td>45000</td>\n",
       "      <td>60</td>\n",
       "      <td>2700000</td>\n",
       "      <td>1404000</td>\n",
       "      <td>68.0</td>\n",
       "      <td>1836000</td>\n",
       "      <td>1995</td>\n",
       "    </tr>\n",
       "  </tbody>\n",
       "</table>\n",
       "</div>"
      ],
      "text/plain": [
       "        state  colonies_number  yield_per_colony  production   stocks  \\\n",
       "0     Alabama            16000                58      928000    28000   \n",
       "1     Arizona            52000                79     4108000   986000   \n",
       "2    Arkansas            50000                60     3000000   900000   \n",
       "3  California           420000                93    39060000  4687000   \n",
       "4    Colorado            45000                60     2700000  1404000   \n",
       "\n",
       "   average_price  value_of_production  year  \n",
       "0           62.0               575000  1995  \n",
       "1           68.0              2793000  1995  \n",
       "2           64.0              1920000  1995  \n",
       "3           60.0             23436000  1995  \n",
       "4           68.0              1836000  1995  "
      ]
     },
     "execution_count": 6,
     "metadata": {},
     "output_type": "execute_result"
    }
   ],
   "source": [
    "#Dropping the Unnamed: 0\n",
    "Honey = Honey.drop(['Unnamed: 0'],axis=1)\n",
    "Honey.head()"
   ]
  },
  {
   "cell_type": "code",
   "execution_count": 7,
   "metadata": {
    "colab": {
     "base_uri": "https://localhost:8080/",
     "height": 300
    },
    "id": "VmsoY9QtlRdB",
    "outputId": "44742407-d929-4a17-d2f1-ee932c97884f"
   },
   "outputs": [
    {
     "data": {
      "text/html": [
       "<div>\n",
       "<style scoped>\n",
       "    .dataframe tbody tr th:only-of-type {\n",
       "        vertical-align: middle;\n",
       "    }\n",
       "\n",
       "    .dataframe tbody tr th {\n",
       "        vertical-align: top;\n",
       "    }\n",
       "\n",
       "    .dataframe thead th {\n",
       "        text-align: right;\n",
       "    }\n",
       "</style>\n",
       "<table border=\"1\" class=\"dataframe\">\n",
       "  <thead>\n",
       "    <tr style=\"text-align: right;\">\n",
       "      <th></th>\n",
       "      <th>colonies_number</th>\n",
       "      <th>yield_per_colony</th>\n",
       "      <th>production</th>\n",
       "      <th>stocks</th>\n",
       "      <th>average_price</th>\n",
       "      <th>value_of_production</th>\n",
       "      <th>year</th>\n",
       "    </tr>\n",
       "  </thead>\n",
       "  <tbody>\n",
       "    <tr>\n",
       "      <th>count</th>\n",
       "      <td>1115.000000</td>\n",
       "      <td>1115.000000</td>\n",
       "      <td>1.115000e+03</td>\n",
       "      <td>1.115000e+03</td>\n",
       "      <td>1115.000000</td>\n",
       "      <td>1.115000e+03</td>\n",
       "      <td>1115.000000</td>\n",
       "    </tr>\n",
       "    <tr>\n",
       "      <th>mean</th>\n",
       "      <td>62438.565022</td>\n",
       "      <td>59.743498</td>\n",
       "      <td>2.851268e+06</td>\n",
       "      <td>1.172625e+06</td>\n",
       "      <td>140.623076</td>\n",
       "      <td>5.667412e+06</td>\n",
       "      <td>2007.740807</td>\n",
       "    </tr>\n",
       "    <tr>\n",
       "      <th>std</th>\n",
       "      <td>92648.175955</td>\n",
       "      <td>19.940500</td>\n",
       "      <td>5.561202e+06</td>\n",
       "      <td>2.049556e+06</td>\n",
       "      <td>107.011544</td>\n",
       "      <td>9.459460e+06</td>\n",
       "      <td>7.823002</td>\n",
       "    </tr>\n",
       "    <tr>\n",
       "      <th>min</th>\n",
       "      <td>2000.000000</td>\n",
       "      <td>19.000000</td>\n",
       "      <td>1.200000e+04</td>\n",
       "      <td>9.000000e+03</td>\n",
       "      <td>1.300000</td>\n",
       "      <td>1.060000e+05</td>\n",
       "      <td>1995.000000</td>\n",
       "    </tr>\n",
       "    <tr>\n",
       "      <th>25%</th>\n",
       "      <td>9000.000000</td>\n",
       "      <td>45.000000</td>\n",
       "      <td>2.460000e+05</td>\n",
       "      <td>1.125000e+05</td>\n",
       "      <td>70.000000</td>\n",
       "      <td>1.008000e+06</td>\n",
       "      <td>2001.000000</td>\n",
       "    </tr>\n",
       "    <tr>\n",
       "      <th>50%</th>\n",
       "      <td>26000.000000</td>\n",
       "      <td>57.000000</td>\n",
       "      <td>8.280000e+05</td>\n",
       "      <td>3.700000e+05</td>\n",
       "      <td>128.000000</td>\n",
       "      <td>2.281000e+06</td>\n",
       "      <td>2008.000000</td>\n",
       "    </tr>\n",
       "    <tr>\n",
       "      <th>75%</th>\n",
       "      <td>69000.000000</td>\n",
       "      <td>71.000000</td>\n",
       "      <td>2.700000e+06</td>\n",
       "      <td>1.253500e+06</td>\n",
       "      <td>193.000000</td>\n",
       "      <td>5.704000e+06</td>\n",
       "      <td>2015.000000</td>\n",
       "    </tr>\n",
       "    <tr>\n",
       "      <th>max</th>\n",
       "      <td>550000.000000</td>\n",
       "      <td>155.000000</td>\n",
       "      <td>3.906000e+07</td>\n",
       "      <td>1.354500e+07</td>\n",
       "      <td>874.000000</td>\n",
       "      <td>8.385900e+07</td>\n",
       "      <td>2021.000000</td>\n",
       "    </tr>\n",
       "  </tbody>\n",
       "</table>\n",
       "</div>"
      ],
      "text/plain": [
       "       colonies_number  yield_per_colony    production        stocks  \\\n",
       "count      1115.000000       1115.000000  1.115000e+03  1.115000e+03   \n",
       "mean      62438.565022         59.743498  2.851268e+06  1.172625e+06   \n",
       "std       92648.175955         19.940500  5.561202e+06  2.049556e+06   \n",
       "min        2000.000000         19.000000  1.200000e+04  9.000000e+03   \n",
       "25%        9000.000000         45.000000  2.460000e+05  1.125000e+05   \n",
       "50%       26000.000000         57.000000  8.280000e+05  3.700000e+05   \n",
       "75%       69000.000000         71.000000  2.700000e+06  1.253500e+06   \n",
       "max      550000.000000        155.000000  3.906000e+07  1.354500e+07   \n",
       "\n",
       "       average_price  value_of_production         year  \n",
       "count    1115.000000         1.115000e+03  1115.000000  \n",
       "mean      140.623076         5.667412e+06  2007.740807  \n",
       "std       107.011544         9.459460e+06     7.823002  \n",
       "min         1.300000         1.060000e+05  1995.000000  \n",
       "25%        70.000000         1.008000e+06  2001.000000  \n",
       "50%       128.000000         2.281000e+06  2008.000000  \n",
       "75%       193.000000         5.704000e+06  2015.000000  \n",
       "max       874.000000         8.385900e+07  2021.000000  "
      ]
     },
     "execution_count": 7,
     "metadata": {},
     "output_type": "execute_result"
    }
   ],
   "source": [
    "#Checking the Honey Dataset\n",
    "Honey.describe()"
   ]
  },
  {
   "cell_type": "code",
   "execution_count": 8,
   "metadata": {
    "colab": {
     "base_uri": "https://localhost:8080/"
    },
    "id": "QzdEZn6JlUBG",
    "outputId": "6acb04a2-06c6-4217-af08-aed0d3601168"
   },
   "outputs": [
    {
     "name": "stdout",
     "output_type": "stream",
     "text": [
      "<class 'pandas.core.frame.DataFrame'>\n",
      "RangeIndex: 1115 entries, 0 to 1114\n",
      "Data columns (total 8 columns):\n",
      " #   Column               Non-Null Count  Dtype  \n",
      "---  ------               --------------  -----  \n",
      " 0   state                1115 non-null   object \n",
      " 1   colonies_number      1115 non-null   int64  \n",
      " 2   yield_per_colony     1115 non-null   int64  \n",
      " 3   production           1115 non-null   int64  \n",
      " 4   stocks               1115 non-null   int64  \n",
      " 5   average_price        1115 non-null   float64\n",
      " 6   value_of_production  1115 non-null   int64  \n",
      " 7   year                 1115 non-null   int64  \n",
      "dtypes: float64(1), int64(6), object(1)\n",
      "memory usage: 69.8+ KB\n"
     ]
    }
   ],
   "source": [
    "Honey.info()"
   ]
  },
  {
   "cell_type": "code",
   "execution_count": 9,
   "metadata": {
    "colab": {
     "base_uri": "https://localhost:8080/"
    },
    "id": "bd6oWEFtlWGS",
    "outputId": "e29f8841-f269-4fb7-ea27-f112743884f6"
   },
   "outputs": [
    {
     "name": "stdout",
     "output_type": "stream",
     "text": [
      "['Alabama' 'Arizona' 'Arkansas' 'California' 'Colorado' 'Florida'\n",
      " 'Georgia' 'Hawaii' 'Idaho' 'Illinois' 'Indiana' 'Iowa' 'Kansas'\n",
      " 'Kentucky' 'Louisiana' 'Maine' 'Maryland' 'Michigan' 'Minnesota'\n",
      " 'Mississippi' 'Missouri' 'Montana' 'Nebraska' 'Nevada' 'NewJersey'\n",
      " 'NewMexico' 'NewYork' 'NorthCarolina' 'NorthDakota' 'Ohio' 'Oklahoma'\n",
      " 'Oregon' 'Pennsylvania' 'SouthCarolina' 'SouthDakota' 'Tennessee' 'Texas'\n",
      " 'Utah' 'Vermont' 'Virginia' 'Washington' 'WestVirginia' 'Wisconsin'\n",
      " 'Wyoming']\n"
     ]
    },
    {
     "data": {
      "text/plain": [
       "44"
      ]
     },
     "execution_count": 9,
     "metadata": {},
     "output_type": "execute_result"
    }
   ],
   "source": [
    "States = pd.unique(Honey['state'])\n",
    "print(States)\n",
    "len(States)"
   ]
  },
  {
   "cell_type": "code",
   "execution_count": 10,
   "metadata": {
    "id": "SNwL1hoBlYtt"
   },
   "outputs": [],
   "source": [
    "#using the one-hot-encoder\n",
    "Data = pd.get_dummies(Honey['state'])"
   ]
  },
  {
   "cell_type": "code",
   "execution_count": 11,
   "metadata": {
    "colab": {
     "base_uri": "https://localhost:8080/",
     "height": 299
    },
    "id": "JIUXgu2Llbjw",
    "outputId": "1f9410f4-833f-4957-e111-51506caa8b8b"
   },
   "outputs": [
    {
     "data": {
      "text/html": [
       "<div>\n",
       "<style scoped>\n",
       "    .dataframe tbody tr th:only-of-type {\n",
       "        vertical-align: middle;\n",
       "    }\n",
       "\n",
       "    .dataframe tbody tr th {\n",
       "        vertical-align: top;\n",
       "    }\n",
       "\n",
       "    .dataframe thead th {\n",
       "        text-align: right;\n",
       "    }\n",
       "</style>\n",
       "<table border=\"1\" class=\"dataframe\">\n",
       "  <thead>\n",
       "    <tr style=\"text-align: right;\">\n",
       "      <th></th>\n",
       "      <th>Alabama</th>\n",
       "      <th>Arizona</th>\n",
       "      <th>Arkansas</th>\n",
       "      <th>California</th>\n",
       "      <th>Colorado</th>\n",
       "      <th>Florida</th>\n",
       "      <th>Georgia</th>\n",
       "      <th>Hawaii</th>\n",
       "      <th>Idaho</th>\n",
       "      <th>Illinois</th>\n",
       "      <th>...</th>\n",
       "      <th>SouthDakota</th>\n",
       "      <th>Tennessee</th>\n",
       "      <th>Texas</th>\n",
       "      <th>Utah</th>\n",
       "      <th>Vermont</th>\n",
       "      <th>Virginia</th>\n",
       "      <th>Washington</th>\n",
       "      <th>WestVirginia</th>\n",
       "      <th>Wisconsin</th>\n",
       "      <th>Wyoming</th>\n",
       "    </tr>\n",
       "  </thead>\n",
       "  <tbody>\n",
       "    <tr>\n",
       "      <th>0</th>\n",
       "      <td>1</td>\n",
       "      <td>0</td>\n",
       "      <td>0</td>\n",
       "      <td>0</td>\n",
       "      <td>0</td>\n",
       "      <td>0</td>\n",
       "      <td>0</td>\n",
       "      <td>0</td>\n",
       "      <td>0</td>\n",
       "      <td>0</td>\n",
       "      <td>...</td>\n",
       "      <td>0</td>\n",
       "      <td>0</td>\n",
       "      <td>0</td>\n",
       "      <td>0</td>\n",
       "      <td>0</td>\n",
       "      <td>0</td>\n",
       "      <td>0</td>\n",
       "      <td>0</td>\n",
       "      <td>0</td>\n",
       "      <td>0</td>\n",
       "    </tr>\n",
       "    <tr>\n",
       "      <th>1</th>\n",
       "      <td>0</td>\n",
       "      <td>1</td>\n",
       "      <td>0</td>\n",
       "      <td>0</td>\n",
       "      <td>0</td>\n",
       "      <td>0</td>\n",
       "      <td>0</td>\n",
       "      <td>0</td>\n",
       "      <td>0</td>\n",
       "      <td>0</td>\n",
       "      <td>...</td>\n",
       "      <td>0</td>\n",
       "      <td>0</td>\n",
       "      <td>0</td>\n",
       "      <td>0</td>\n",
       "      <td>0</td>\n",
       "      <td>0</td>\n",
       "      <td>0</td>\n",
       "      <td>0</td>\n",
       "      <td>0</td>\n",
       "      <td>0</td>\n",
       "    </tr>\n",
       "    <tr>\n",
       "      <th>2</th>\n",
       "      <td>0</td>\n",
       "      <td>0</td>\n",
       "      <td>1</td>\n",
       "      <td>0</td>\n",
       "      <td>0</td>\n",
       "      <td>0</td>\n",
       "      <td>0</td>\n",
       "      <td>0</td>\n",
       "      <td>0</td>\n",
       "      <td>0</td>\n",
       "      <td>...</td>\n",
       "      <td>0</td>\n",
       "      <td>0</td>\n",
       "      <td>0</td>\n",
       "      <td>0</td>\n",
       "      <td>0</td>\n",
       "      <td>0</td>\n",
       "      <td>0</td>\n",
       "      <td>0</td>\n",
       "      <td>0</td>\n",
       "      <td>0</td>\n",
       "    </tr>\n",
       "    <tr>\n",
       "      <th>3</th>\n",
       "      <td>0</td>\n",
       "      <td>0</td>\n",
       "      <td>0</td>\n",
       "      <td>1</td>\n",
       "      <td>0</td>\n",
       "      <td>0</td>\n",
       "      <td>0</td>\n",
       "      <td>0</td>\n",
       "      <td>0</td>\n",
       "      <td>0</td>\n",
       "      <td>...</td>\n",
       "      <td>0</td>\n",
       "      <td>0</td>\n",
       "      <td>0</td>\n",
       "      <td>0</td>\n",
       "      <td>0</td>\n",
       "      <td>0</td>\n",
       "      <td>0</td>\n",
       "      <td>0</td>\n",
       "      <td>0</td>\n",
       "      <td>0</td>\n",
       "    </tr>\n",
       "    <tr>\n",
       "      <th>4</th>\n",
       "      <td>0</td>\n",
       "      <td>0</td>\n",
       "      <td>0</td>\n",
       "      <td>0</td>\n",
       "      <td>1</td>\n",
       "      <td>0</td>\n",
       "      <td>0</td>\n",
       "      <td>0</td>\n",
       "      <td>0</td>\n",
       "      <td>0</td>\n",
       "      <td>...</td>\n",
       "      <td>0</td>\n",
       "      <td>0</td>\n",
       "      <td>0</td>\n",
       "      <td>0</td>\n",
       "      <td>0</td>\n",
       "      <td>0</td>\n",
       "      <td>0</td>\n",
       "      <td>0</td>\n",
       "      <td>0</td>\n",
       "      <td>0</td>\n",
       "    </tr>\n",
       "  </tbody>\n",
       "</table>\n",
       "<p>5 rows × 44 columns</p>\n",
       "</div>"
      ],
      "text/plain": [
       "   Alabama  Arizona  Arkansas  California  Colorado  Florida  Georgia  Hawaii  \\\n",
       "0        1        0         0           0         0        0        0       0   \n",
       "1        0        1         0           0         0        0        0       0   \n",
       "2        0        0         1           0         0        0        0       0   \n",
       "3        0        0         0           1         0        0        0       0   \n",
       "4        0        0         0           0         1        0        0       0   \n",
       "\n",
       "   Idaho  Illinois  ...  SouthDakota  Tennessee  Texas  Utah  Vermont  \\\n",
       "0      0         0  ...            0          0      0     0        0   \n",
       "1      0         0  ...            0          0      0     0        0   \n",
       "2      0         0  ...            0          0      0     0        0   \n",
       "3      0         0  ...            0          0      0     0        0   \n",
       "4      0         0  ...            0          0      0     0        0   \n",
       "\n",
       "   Virginia  Washington  WestVirginia  Wisconsin  Wyoming  \n",
       "0         0           0             0          0        0  \n",
       "1         0           0             0          0        0  \n",
       "2         0           0             0          0        0  \n",
       "3         0           0             0          0        0  \n",
       "4         0           0             0          0        0  \n",
       "\n",
       "[5 rows x 44 columns]"
      ]
     },
     "execution_count": 11,
     "metadata": {},
     "output_type": "execute_result"
    }
   ],
   "source": [
    "Data.head()"
   ]
  },
  {
   "cell_type": "code",
   "execution_count": 12,
   "metadata": {
    "colab": {
     "base_uri": "https://localhost:8080/",
     "height": 206
    },
    "id": "127ZVTfLlijU",
    "outputId": "1fc1fc32-8d20-4528-c067-d2cc65d697ec"
   },
   "outputs": [
    {
     "data": {
      "text/html": [
       "<div>\n",
       "<style scoped>\n",
       "    .dataframe tbody tr th:only-of-type {\n",
       "        vertical-align: middle;\n",
       "    }\n",
       "\n",
       "    .dataframe tbody tr th {\n",
       "        vertical-align: top;\n",
       "    }\n",
       "\n",
       "    .dataframe thead th {\n",
       "        text-align: right;\n",
       "    }\n",
       "</style>\n",
       "<table border=\"1\" class=\"dataframe\">\n",
       "  <thead>\n",
       "    <tr style=\"text-align: right;\">\n",
       "      <th></th>\n",
       "      <th>state</th>\n",
       "      <th>colonies_number</th>\n",
       "      <th>yield_per_colony</th>\n",
       "      <th>production</th>\n",
       "      <th>stocks</th>\n",
       "      <th>average_price</th>\n",
       "      <th>value_of_production</th>\n",
       "      <th>year</th>\n",
       "    </tr>\n",
       "  </thead>\n",
       "  <tbody>\n",
       "    <tr>\n",
       "      <th>0</th>\n",
       "      <td>Alabama</td>\n",
       "      <td>16000</td>\n",
       "      <td>58</td>\n",
       "      <td>928000</td>\n",
       "      <td>28000</td>\n",
       "      <td>62.0</td>\n",
       "      <td>575000</td>\n",
       "      <td>1995</td>\n",
       "    </tr>\n",
       "    <tr>\n",
       "      <th>1</th>\n",
       "      <td>Arizona</td>\n",
       "      <td>52000</td>\n",
       "      <td>79</td>\n",
       "      <td>4108000</td>\n",
       "      <td>986000</td>\n",
       "      <td>68.0</td>\n",
       "      <td>2793000</td>\n",
       "      <td>1995</td>\n",
       "    </tr>\n",
       "    <tr>\n",
       "      <th>2</th>\n",
       "      <td>Arkansas</td>\n",
       "      <td>50000</td>\n",
       "      <td>60</td>\n",
       "      <td>3000000</td>\n",
       "      <td>900000</td>\n",
       "      <td>64.0</td>\n",
       "      <td>1920000</td>\n",
       "      <td>1995</td>\n",
       "    </tr>\n",
       "    <tr>\n",
       "      <th>3</th>\n",
       "      <td>California</td>\n",
       "      <td>420000</td>\n",
       "      <td>93</td>\n",
       "      <td>39060000</td>\n",
       "      <td>4687000</td>\n",
       "      <td>60.0</td>\n",
       "      <td>23436000</td>\n",
       "      <td>1995</td>\n",
       "    </tr>\n",
       "    <tr>\n",
       "      <th>4</th>\n",
       "      <td>Colorado</td>\n",
       "      <td>45000</td>\n",
       "      <td>60</td>\n",
       "      <td>2700000</td>\n",
       "      <td>1404000</td>\n",
       "      <td>68.0</td>\n",
       "      <td>1836000</td>\n",
       "      <td>1995</td>\n",
       "    </tr>\n",
       "  </tbody>\n",
       "</table>\n",
       "</div>"
      ],
      "text/plain": [
       "        state  colonies_number  yield_per_colony  production   stocks  \\\n",
       "0     Alabama            16000                58      928000    28000   \n",
       "1     Arizona            52000                79     4108000   986000   \n",
       "2    Arkansas            50000                60     3000000   900000   \n",
       "3  California           420000                93    39060000  4687000   \n",
       "4    Colorado            45000                60     2700000  1404000   \n",
       "\n",
       "   average_price  value_of_production  year  \n",
       "0           62.0               575000  1995  \n",
       "1           68.0              2793000  1995  \n",
       "2           64.0              1920000  1995  \n",
       "3           60.0             23436000  1995  \n",
       "4           68.0              1836000  1995  "
      ]
     },
     "execution_count": 12,
     "metadata": {},
     "output_type": "execute_result"
    }
   ],
   "source": [
    "#Honey Dataset\n",
    "Honey.head()"
   ]
  },
  {
   "cell_type": "code",
   "execution_count": 13,
   "metadata": {
    "id": "yuc5u28ellux"
   },
   "outputs": [],
   "source": [
    "from sklearn.preprocessing import normalize\n",
    "Normal = normalize([Honey['colonies_number']])"
   ]
  },
  {
   "cell_type": "code",
   "execution_count": 14,
   "metadata": {
    "id": "sTsCpbLdln_B"
   },
   "outputs": [],
   "source": [
    "Data['colonies'] = Normal.data"
   ]
  },
  {
   "cell_type": "code",
   "execution_count": 15,
   "metadata": {
    "id": "rR-G7J3ilqWh"
   },
   "outputs": [],
   "source": [
    "Data.head()"
   ]
  },
  {
   "cell_type": "code",
   "execution_count": 16,
   "metadata": {
    "id": "yTuD0SqoluJf"
   },
   "outputs": [],
   "source": [
    "Data.tail()"
   ]
  },
  {
   "cell_type": "code",
   "execution_count": 17,
   "metadata": {
    "colab": {
     "base_uri": "https://localhost:8080/"
    },
    "id": "F8pfxUtjlyUQ",
    "outputId": "a506e78e-85ec-4cda-db60-34e0b26818c8"
   },
   "outputs": [
    {
     "name": "stdout",
     "output_type": "stream",
     "text": [
      "<class 'pandas.core.frame.DataFrame'>\n",
      "RangeIndex: 1115 entries, 0 to 1114\n",
      "Data columns (total 45 columns):\n",
      " #   Column         Non-Null Count  Dtype \n",
      "---  ------         --------------  ----- \n",
      " 0   Alabama        1115 non-null   uint8 \n",
      " 1   Arizona        1115 non-null   uint8 \n",
      " 2   Arkansas       1115 non-null   uint8 \n",
      " 3   California     1115 non-null   uint8 \n",
      " 4   Colorado       1115 non-null   uint8 \n",
      " 5   Florida        1115 non-null   uint8 \n",
      " 6   Georgia        1115 non-null   uint8 \n",
      " 7   Hawaii         1115 non-null   uint8 \n",
      " 8   Idaho          1115 non-null   uint8 \n",
      " 9   Illinois       1115 non-null   uint8 \n",
      " 10  Indiana        1115 non-null   uint8 \n",
      " 11  Iowa           1115 non-null   uint8 \n",
      " 12  Kansas         1115 non-null   uint8 \n",
      " 13  Kentucky       1115 non-null   uint8 \n",
      " 14  Louisiana      1115 non-null   uint8 \n",
      " 15  Maine          1115 non-null   uint8 \n",
      " 16  Maryland       1115 non-null   uint8 \n",
      " 17  Michigan       1115 non-null   uint8 \n",
      " 18  Minnesota      1115 non-null   uint8 \n",
      " 19  Mississippi    1115 non-null   uint8 \n",
      " 20  Missouri       1115 non-null   uint8 \n",
      " 21  Montana        1115 non-null   uint8 \n",
      " 22  Nebraska       1115 non-null   uint8 \n",
      " 23  Nevada         1115 non-null   uint8 \n",
      " 24  NewJersey      1115 non-null   uint8 \n",
      " 25  NewMexico      1115 non-null   uint8 \n",
      " 26  NewYork        1115 non-null   uint8 \n",
      " 27  NorthCarolina  1115 non-null   uint8 \n",
      " 28  NorthDakota    1115 non-null   uint8 \n",
      " 29  Ohio           1115 non-null   uint8 \n",
      " 30  Oklahoma       1115 non-null   uint8 \n",
      " 31  Oregon         1115 non-null   uint8 \n",
      " 32  Pennsylvania   1115 non-null   uint8 \n",
      " 33  SouthCarolina  1115 non-null   uint8 \n",
      " 34  SouthDakota    1115 non-null   uint8 \n",
      " 35  Tennessee      1115 non-null   uint8 \n",
      " 36  Texas          1115 non-null   uint8 \n",
      " 37  Utah           1115 non-null   uint8 \n",
      " 38  Vermont        1115 non-null   uint8 \n",
      " 39  Virginia       1115 non-null   uint8 \n",
      " 40  Washington     1115 non-null   uint8 \n",
      " 41  WestVirginia   1115 non-null   uint8 \n",
      " 42  Wisconsin      1115 non-null   uint8 \n",
      " 43  Wyoming        1115 non-null   uint8 \n",
      " 44  colonies       1115 non-null   object\n",
      "dtypes: object(1), uint8(44)\n",
      "memory usage: 56.7+ KB\n"
     ]
    }
   ],
   "source": [
    "Data.info()"
   ]
  },
  {
   "cell_type": "code",
   "execution_count": 18,
   "metadata": {
    "colab": {
     "base_uri": "https://localhost:8080/",
     "height": 206
    },
    "id": "fVGa1xowl0-B",
    "outputId": "73d2667d-958c-416c-eca7-be34f14b6fa1"
   },
   "outputs": [
    {
     "data": {
      "text/html": [
       "<div>\n",
       "<style scoped>\n",
       "    .dataframe tbody tr th:only-of-type {\n",
       "        vertical-align: middle;\n",
       "    }\n",
       "\n",
       "    .dataframe tbody tr th {\n",
       "        vertical-align: top;\n",
       "    }\n",
       "\n",
       "    .dataframe thead th {\n",
       "        text-align: right;\n",
       "    }\n",
       "</style>\n",
       "<table border=\"1\" class=\"dataframe\">\n",
       "  <thead>\n",
       "    <tr style=\"text-align: right;\">\n",
       "      <th></th>\n",
       "      <th>state</th>\n",
       "      <th>colonies_number</th>\n",
       "      <th>yield_per_colony</th>\n",
       "      <th>production</th>\n",
       "      <th>stocks</th>\n",
       "      <th>average_price</th>\n",
       "      <th>value_of_production</th>\n",
       "      <th>year</th>\n",
       "    </tr>\n",
       "  </thead>\n",
       "  <tbody>\n",
       "    <tr>\n",
       "      <th>0</th>\n",
       "      <td>Alabama</td>\n",
       "      <td>16000</td>\n",
       "      <td>58</td>\n",
       "      <td>928000</td>\n",
       "      <td>28000</td>\n",
       "      <td>62.0</td>\n",
       "      <td>575000</td>\n",
       "      <td>1995</td>\n",
       "    </tr>\n",
       "    <tr>\n",
       "      <th>1</th>\n",
       "      <td>Arizona</td>\n",
       "      <td>52000</td>\n",
       "      <td>79</td>\n",
       "      <td>4108000</td>\n",
       "      <td>986000</td>\n",
       "      <td>68.0</td>\n",
       "      <td>2793000</td>\n",
       "      <td>1995</td>\n",
       "    </tr>\n",
       "    <tr>\n",
       "      <th>2</th>\n",
       "      <td>Arkansas</td>\n",
       "      <td>50000</td>\n",
       "      <td>60</td>\n",
       "      <td>3000000</td>\n",
       "      <td>900000</td>\n",
       "      <td>64.0</td>\n",
       "      <td>1920000</td>\n",
       "      <td>1995</td>\n",
       "    </tr>\n",
       "    <tr>\n",
       "      <th>3</th>\n",
       "      <td>California</td>\n",
       "      <td>420000</td>\n",
       "      <td>93</td>\n",
       "      <td>39060000</td>\n",
       "      <td>4687000</td>\n",
       "      <td>60.0</td>\n",
       "      <td>23436000</td>\n",
       "      <td>1995</td>\n",
       "    </tr>\n",
       "    <tr>\n",
       "      <th>4</th>\n",
       "      <td>Colorado</td>\n",
       "      <td>45000</td>\n",
       "      <td>60</td>\n",
       "      <td>2700000</td>\n",
       "      <td>1404000</td>\n",
       "      <td>68.0</td>\n",
       "      <td>1836000</td>\n",
       "      <td>1995</td>\n",
       "    </tr>\n",
       "  </tbody>\n",
       "</table>\n",
       "</div>"
      ],
      "text/plain": [
       "        state  colonies_number  yield_per_colony  production   stocks  \\\n",
       "0     Alabama            16000                58      928000    28000   \n",
       "1     Arizona            52000                79     4108000   986000   \n",
       "2    Arkansas            50000                60     3000000   900000   \n",
       "3  California           420000                93    39060000  4687000   \n",
       "4    Colorado            45000                60     2700000  1404000   \n",
       "\n",
       "   average_price  value_of_production  year  \n",
       "0           62.0               575000  1995  \n",
       "1           68.0              2793000  1995  \n",
       "2           64.0              1920000  1995  \n",
       "3           60.0             23436000  1995  \n",
       "4           68.0              1836000  1995  "
      ]
     },
     "execution_count": 18,
     "metadata": {},
     "output_type": "execute_result"
    }
   ],
   "source": [
    "Honey.head()"
   ]
  },
  {
   "cell_type": "code",
   "execution_count": 19,
   "metadata": {
    "id": "oeiTjLPWl4b5"
   },
   "outputs": [],
   "source": [
    "Data['Yield'] = Honey['yield_per_colony']\n",
    "Data.head()"
   ]
  },
  {
   "cell_type": "code",
   "execution_count": 20,
   "metadata": {
    "id": "5WyDWUSHl6Yr"
   },
   "outputs": [],
   "source": [
    "Data = pd.DataFrame(Data)"
   ]
  },
  {
   "cell_type": "code",
   "execution_count": 21,
   "metadata": {
    "id": "i2dm_GFHl8uz"
   },
   "outputs": [],
   "source": [
    "Data['Production'] = normalize([Honey['production']]).data"
   ]
  },
  {
   "cell_type": "code",
   "execution_count": 22,
   "metadata": {
    "id": "4pg9WCNdl-rl"
   },
   "outputs": [],
   "source": [
    "Data['Stocks'] = normalize([Honey['stocks']]).data"
   ]
  },
  {
   "cell_type": "code",
   "execution_count": 23,
   "metadata": {
    "id": "vXCk5WQimA2a"
   },
   "outputs": [],
   "source": [
    "Data['Value'] = normalize([Honey['value_of_production']]).data"
   ]
  },
  {
   "cell_type": "code",
   "execution_count": 24,
   "metadata": {
    "id": "1bO1LeXNmCmw"
   },
   "outputs": [],
   "source": [
    "Data['Average_Price'] = Honey['average_price']"
   ]
  },
  {
   "cell_type": "code",
   "execution_count": 25,
   "metadata": {
    "id": "uitLlpfymEWi"
   },
   "outputs": [],
   "source": [
    "Data.head()"
   ]
  },
  {
   "cell_type": "code",
   "execution_count": 26,
   "metadata": {
    "colab": {
     "base_uri": "https://localhost:8080/"
    },
    "id": "bZumO5kfmHQc",
    "outputId": "07d0724c-f398-424a-c99b-8015dd4671d8"
   },
   "outputs": [
    {
     "name": "stdout",
     "output_type": "stream",
     "text": [
      "<class 'pandas.core.frame.DataFrame'>\n",
      "RangeIndex: 1115 entries, 0 to 1114\n",
      "Data columns (total 50 columns):\n",
      " #   Column         Non-Null Count  Dtype  \n",
      "---  ------         --------------  -----  \n",
      " 0   Alabama        1115 non-null   uint8  \n",
      " 1   Arizona        1115 non-null   uint8  \n",
      " 2   Arkansas       1115 non-null   uint8  \n",
      " 3   California     1115 non-null   uint8  \n",
      " 4   Colorado       1115 non-null   uint8  \n",
      " 5   Florida        1115 non-null   uint8  \n",
      " 6   Georgia        1115 non-null   uint8  \n",
      " 7   Hawaii         1115 non-null   uint8  \n",
      " 8   Idaho          1115 non-null   uint8  \n",
      " 9   Illinois       1115 non-null   uint8  \n",
      " 10  Indiana        1115 non-null   uint8  \n",
      " 11  Iowa           1115 non-null   uint8  \n",
      " 12  Kansas         1115 non-null   uint8  \n",
      " 13  Kentucky       1115 non-null   uint8  \n",
      " 14  Louisiana      1115 non-null   uint8  \n",
      " 15  Maine          1115 non-null   uint8  \n",
      " 16  Maryland       1115 non-null   uint8  \n",
      " 17  Michigan       1115 non-null   uint8  \n",
      " 18  Minnesota      1115 non-null   uint8  \n",
      " 19  Mississippi    1115 non-null   uint8  \n",
      " 20  Missouri       1115 non-null   uint8  \n",
      " 21  Montana        1115 non-null   uint8  \n",
      " 22  Nebraska       1115 non-null   uint8  \n",
      " 23  Nevada         1115 non-null   uint8  \n",
      " 24  NewJersey      1115 non-null   uint8  \n",
      " 25  NewMexico      1115 non-null   uint8  \n",
      " 26  NewYork        1115 non-null   uint8  \n",
      " 27  NorthCarolina  1115 non-null   uint8  \n",
      " 28  NorthDakota    1115 non-null   uint8  \n",
      " 29  Ohio           1115 non-null   uint8  \n",
      " 30  Oklahoma       1115 non-null   uint8  \n",
      " 31  Oregon         1115 non-null   uint8  \n",
      " 32  Pennsylvania   1115 non-null   uint8  \n",
      " 33  SouthCarolina  1115 non-null   uint8  \n",
      " 34  SouthDakota    1115 non-null   uint8  \n",
      " 35  Tennessee      1115 non-null   uint8  \n",
      " 36  Texas          1115 non-null   uint8  \n",
      " 37  Utah           1115 non-null   uint8  \n",
      " 38  Vermont        1115 non-null   uint8  \n",
      " 39  Virginia       1115 non-null   uint8  \n",
      " 40  Washington     1115 non-null   uint8  \n",
      " 41  WestVirginia   1115 non-null   uint8  \n",
      " 42  Wisconsin      1115 non-null   uint8  \n",
      " 43  Wyoming        1115 non-null   uint8  \n",
      " 44  colonies       1115 non-null   object \n",
      " 45  Yield          1115 non-null   int64  \n",
      " 46  Production     1115 non-null   object \n",
      " 47  Stocks         1115 non-null   object \n",
      " 48  Value          1115 non-null   object \n",
      " 49  Average_Price  1115 non-null   float64\n",
      "dtypes: float64(1), int64(1), object(4), uint8(44)\n",
      "memory usage: 100.3+ KB\n"
     ]
    }
   ],
   "source": [
    "Data.info()"
   ]
  },
  {
   "cell_type": "code",
   "execution_count": 27,
   "metadata": {
    "id": "mOX_jP7vmKE9"
   },
   "outputs": [],
   "source": [
    "Y = Data['Average_Price']\n",
    "X = Data.drop(['Average_Price'],axis=1)"
   ]
  },
  {
   "cell_type": "code",
   "execution_count": 28,
   "metadata": {
    "id": "M1muhLxQmNS5"
   },
   "outputs": [],
   "source": [
    "from sklearn.model_selection import train_test_split\n",
    "#creating test and train data\n",
    "train_x,test_x,train_y,test_y = train_test_split(X,Y,test_size=0.25)\n",
    "#Making validation Data\n",
    "_,Val_x,_,Val_y = train_test_split(train_x,train_y,test_size=0.25)"
   ]
  },
  {
   "cell_type": "code",
   "execution_count": 29,
   "metadata": {
    "id": "RtHMVKbUmQN5"
   },
   "outputs": [],
   "source": [
    "import tensorflow as tensorflow\n",
    "from tensorflow import keras\n",
    "from keras import Sequential\n",
    "from keras import layers"
   ]
  },
  {
   "cell_type": "code",
   "execution_count": 30,
   "metadata": {
    "id": "CIy7oOP-mSDZ"
   },
   "outputs": [],
   "source": [
    "Model = Sequential()\n",
    "#Layer1\n",
    "Model.add(layers.Dense(49,input_dim=49, kernel_initializer='uniform',activation='relu'))"
   ]
  },
  {
   "cell_type": "code",
   "execution_count": 31,
   "metadata": {
    "id": "wZVSy1UMmUSS"
   },
   "outputs": [],
   "source": [
    "Model.add(layers.Dense(300, kernel_initializer='uniform',activation='relu'))"
   ]
  },
  {
   "cell_type": "code",
   "execution_count": 32,
   "metadata": {
    "id": "YNhWBjhrmWP7"
   },
   "outputs": [],
   "source": [
    "Model.add(layers.Dense(100, kernel_initializer='uniform',activation='relu'))"
   ]
  },
  {
   "cell_type": "code",
   "execution_count": 33,
   "metadata": {
    "id": "HWemzlW6mgaQ"
   },
   "outputs": [],
   "source": [
    "Model.add(layers.Dense(1,activation='relu'))"
   ]
  },
  {
   "cell_type": "code",
   "execution_count": 34,
   "metadata": {
    "colab": {
     "base_uri": "https://localhost:8080/"
    },
    "id": "zEeqHf3emifI",
    "outputId": "34cd035d-7b6d-41f4-d5bd-a78d792ba8d4"
   },
   "outputs": [
    {
     "name": "stdout",
     "output_type": "stream",
     "text": [
      "Model: \"sequential\"\n",
      "_________________________________________________________________\n",
      " Layer (type)                Output Shape              Param #   \n",
      "=================================================================\n",
      " dense (Dense)               (None, 49)                2450      \n",
      "                                                                 \n",
      " dense_1 (Dense)             (None, 300)               15000     \n",
      "                                                                 \n",
      " dense_2 (Dense)             (None, 100)               30100     \n",
      "                                                                 \n",
      " dense_3 (Dense)             (None, 1)                 101       \n",
      "                                                                 \n",
      "=================================================================\n",
      "Total params: 47,651\n",
      "Trainable params: 47,651\n",
      "Non-trainable params: 0\n",
      "_________________________________________________________________\n"
     ]
    }
   ],
   "source": [
    "Model.summary()"
   ]
  },
  {
   "cell_type": "code",
   "execution_count": 35,
   "metadata": {
    "id": "pnYBR0fwmkmq"
   },
   "outputs": [],
   "source": [
    "Model.compile(optimizer = keras.optimizers.Adam(learning_rate=0.001),\n",
    "              loss='mae',\n",
    "              metrics = ['mae'])"
   ]
  },
  {
   "cell_type": "code",
   "execution_count": 36,
   "metadata": {
    "colab": {
     "base_uri": "https://localhost:8080/",
     "height": 311
    },
    "id": "SR1Avt-fmmtO",
    "outputId": "febedd6f-3ba0-470b-cd8c-cd969ba42fa7"
   },
   "outputs": [
    {
     "ename": "NotImplementedError",
     "evalue": "multi-dimensional sub-views are not implemented",
     "output_type": "error",
     "traceback": [
      "\u001b[1;31m---------------------------------------------------------------------------\u001b[0m",
      "\u001b[1;31mNotImplementedError\u001b[0m                       Traceback (most recent call last)",
      "\u001b[1;32m~\\AppData\\Local\\Temp/ipykernel_22628/1048319238.py\u001b[0m in \u001b[0;36m<module>\u001b[1;34m\u001b[0m\n\u001b[1;32m----> 1\u001b[1;33m \u001b[0mModel\u001b[0m\u001b[1;33m.\u001b[0m\u001b[0mfit\u001b[0m\u001b[1;33m(\u001b[0m\u001b[0mtrain_x\u001b[0m\u001b[1;33m,\u001b[0m\u001b[0mtrain_y\u001b[0m\u001b[1;33m,\u001b[0m\u001b[0mepochs\u001b[0m \u001b[1;33m=\u001b[0m \u001b[1;36m10\u001b[0m\u001b[1;33m)\u001b[0m\u001b[1;33m\u001b[0m\u001b[1;33m\u001b[0m\u001b[0m\n\u001b[0m",
      "\u001b[1;32m~\\.conda\\envs\\ai_class\\lib\\site-packages\\keras\\utils\\traceback_utils.py\u001b[0m in \u001b[0;36merror_handler\u001b[1;34m(*args, **kwargs)\u001b[0m\n\u001b[0;32m     68\u001b[0m             \u001b[1;31m# To get the full stack trace, call:\u001b[0m\u001b[1;33m\u001b[0m\u001b[1;33m\u001b[0m\u001b[1;33m\u001b[0m\u001b[0m\n\u001b[0;32m     69\u001b[0m             \u001b[1;31m# `tf.debugging.disable_traceback_filtering()`\u001b[0m\u001b[1;33m\u001b[0m\u001b[1;33m\u001b[0m\u001b[1;33m\u001b[0m\u001b[0m\n\u001b[1;32m---> 70\u001b[1;33m             \u001b[1;32mraise\u001b[0m \u001b[0me\u001b[0m\u001b[1;33m.\u001b[0m\u001b[0mwith_traceback\u001b[0m\u001b[1;33m(\u001b[0m\u001b[0mfiltered_tb\u001b[0m\u001b[1;33m)\u001b[0m \u001b[1;32mfrom\u001b[0m \u001b[1;32mNone\u001b[0m\u001b[1;33m\u001b[0m\u001b[1;33m\u001b[0m\u001b[0m\n\u001b[0m\u001b[0;32m     71\u001b[0m         \u001b[1;32mfinally\u001b[0m\u001b[1;33m:\u001b[0m\u001b[1;33m\u001b[0m\u001b[1;33m\u001b[0m\u001b[0m\n\u001b[0;32m     72\u001b[0m             \u001b[1;32mdel\u001b[0m \u001b[0mfiltered_tb\u001b[0m\u001b[1;33m\u001b[0m\u001b[1;33m\u001b[0m\u001b[0m\n",
      "\u001b[1;32m~\\.conda\\envs\\ai_class\\lib\\site-packages\\pandas\\core\\frame.py\u001b[0m in \u001b[0;36m__repr__\u001b[1;34m(self)\u001b[0m\n\u001b[0;32m    993\u001b[0m         \u001b[1;32melse\u001b[0m\u001b[1;33m:\u001b[0m\u001b[1;33m\u001b[0m\u001b[1;33m\u001b[0m\u001b[0m\n\u001b[0;32m    994\u001b[0m             \u001b[0mwidth\u001b[0m \u001b[1;33m=\u001b[0m \u001b[1;32mNone\u001b[0m\u001b[1;33m\u001b[0m\u001b[1;33m\u001b[0m\u001b[0m\n\u001b[1;32m--> 995\u001b[1;33m         self.to_string(\n\u001b[0m\u001b[0;32m    996\u001b[0m             \u001b[0mbuf\u001b[0m\u001b[1;33m=\u001b[0m\u001b[0mbuf\u001b[0m\u001b[1;33m,\u001b[0m\u001b[1;33m\u001b[0m\u001b[1;33m\u001b[0m\u001b[0m\n\u001b[0;32m    997\u001b[0m             \u001b[0mmax_rows\u001b[0m\u001b[1;33m=\u001b[0m\u001b[0mmax_rows\u001b[0m\u001b[1;33m,\u001b[0m\u001b[1;33m\u001b[0m\u001b[1;33m\u001b[0m\u001b[0m\n",
      "\u001b[1;32m~\\.conda\\envs\\ai_class\\lib\\site-packages\\pandas\\core\\frame.py\u001b[0m in \u001b[0;36mto_string\u001b[1;34m(self, buf, columns, col_space, header, index, na_rep, formatters, float_format, sparsify, index_names, justify, max_rows, min_rows, max_cols, show_dimensions, decimal, line_width, max_colwidth, encoding)\u001b[0m\n\u001b[0;32m   1129\u001b[0m                 \u001b[0mdecimal\u001b[0m\u001b[1;33m=\u001b[0m\u001b[0mdecimal\u001b[0m\u001b[1;33m,\u001b[0m\u001b[1;33m\u001b[0m\u001b[1;33m\u001b[0m\u001b[0m\n\u001b[0;32m   1130\u001b[0m             )\n\u001b[1;32m-> 1131\u001b[1;33m             return fmt.DataFrameRenderer(formatter).to_string(\n\u001b[0m\u001b[0;32m   1132\u001b[0m                 \u001b[0mbuf\u001b[0m\u001b[1;33m=\u001b[0m\u001b[0mbuf\u001b[0m\u001b[1;33m,\u001b[0m\u001b[1;33m\u001b[0m\u001b[1;33m\u001b[0m\u001b[0m\n\u001b[0;32m   1133\u001b[0m                 \u001b[0mencoding\u001b[0m\u001b[1;33m=\u001b[0m\u001b[0mencoding\u001b[0m\u001b[1;33m,\u001b[0m\u001b[1;33m\u001b[0m\u001b[1;33m\u001b[0m\u001b[0m\n",
      "\u001b[1;32m~\\.conda\\envs\\ai_class\\lib\\site-packages\\pandas\\io\\formats\\format.py\u001b[0m in \u001b[0;36mto_string\u001b[1;34m(self, buf, encoding, line_width)\u001b[0m\n\u001b[0;32m   1051\u001b[0m \u001b[1;33m\u001b[0m\u001b[0m\n\u001b[0;32m   1052\u001b[0m         \u001b[0mstring_formatter\u001b[0m \u001b[1;33m=\u001b[0m \u001b[0mStringFormatter\u001b[0m\u001b[1;33m(\u001b[0m\u001b[0mself\u001b[0m\u001b[1;33m.\u001b[0m\u001b[0mfmt\u001b[0m\u001b[1;33m,\u001b[0m \u001b[0mline_width\u001b[0m\u001b[1;33m=\u001b[0m\u001b[0mline_width\u001b[0m\u001b[1;33m)\u001b[0m\u001b[1;33m\u001b[0m\u001b[1;33m\u001b[0m\u001b[0m\n\u001b[1;32m-> 1053\u001b[1;33m         \u001b[0mstring\u001b[0m \u001b[1;33m=\u001b[0m \u001b[0mstring_formatter\u001b[0m\u001b[1;33m.\u001b[0m\u001b[0mto_string\u001b[0m\u001b[1;33m(\u001b[0m\u001b[1;33m)\u001b[0m\u001b[1;33m\u001b[0m\u001b[1;33m\u001b[0m\u001b[0m\n\u001b[0m\u001b[0;32m   1054\u001b[0m         \u001b[1;32mreturn\u001b[0m \u001b[0msave_to_buffer\u001b[0m\u001b[1;33m(\u001b[0m\u001b[0mstring\u001b[0m\u001b[1;33m,\u001b[0m \u001b[0mbuf\u001b[0m\u001b[1;33m=\u001b[0m\u001b[0mbuf\u001b[0m\u001b[1;33m,\u001b[0m \u001b[0mencoding\u001b[0m\u001b[1;33m=\u001b[0m\u001b[0mencoding\u001b[0m\u001b[1;33m)\u001b[0m\u001b[1;33m\u001b[0m\u001b[1;33m\u001b[0m\u001b[0m\n\u001b[0;32m   1055\u001b[0m \u001b[1;33m\u001b[0m\u001b[0m\n",
      "\u001b[1;32m~\\.conda\\envs\\ai_class\\lib\\site-packages\\pandas\\io\\formats\\string.py\u001b[0m in \u001b[0;36mto_string\u001b[1;34m(self)\u001b[0m\n\u001b[0;32m     23\u001b[0m \u001b[1;33m\u001b[0m\u001b[0m\n\u001b[0;32m     24\u001b[0m     \u001b[1;32mdef\u001b[0m \u001b[0mto_string\u001b[0m\u001b[1;33m(\u001b[0m\u001b[0mself\u001b[0m\u001b[1;33m)\u001b[0m \u001b[1;33m->\u001b[0m \u001b[0mstr\u001b[0m\u001b[1;33m:\u001b[0m\u001b[1;33m\u001b[0m\u001b[1;33m\u001b[0m\u001b[0m\n\u001b[1;32m---> 25\u001b[1;33m         \u001b[0mtext\u001b[0m \u001b[1;33m=\u001b[0m \u001b[0mself\u001b[0m\u001b[1;33m.\u001b[0m\u001b[0m_get_string_representation\u001b[0m\u001b[1;33m(\u001b[0m\u001b[1;33m)\u001b[0m\u001b[1;33m\u001b[0m\u001b[1;33m\u001b[0m\u001b[0m\n\u001b[0m\u001b[0;32m     26\u001b[0m         \u001b[1;32mif\u001b[0m \u001b[0mself\u001b[0m\u001b[1;33m.\u001b[0m\u001b[0mfmt\u001b[0m\u001b[1;33m.\u001b[0m\u001b[0mshould_show_dimensions\u001b[0m\u001b[1;33m:\u001b[0m\u001b[1;33m\u001b[0m\u001b[1;33m\u001b[0m\u001b[0m\n\u001b[0;32m     27\u001b[0m             \u001b[0mtext\u001b[0m \u001b[1;33m=\u001b[0m \u001b[1;34m\"\"\u001b[0m\u001b[1;33m.\u001b[0m\u001b[0mjoin\u001b[0m\u001b[1;33m(\u001b[0m\u001b[1;33m[\u001b[0m\u001b[0mtext\u001b[0m\u001b[1;33m,\u001b[0m \u001b[0mself\u001b[0m\u001b[1;33m.\u001b[0m\u001b[0mfmt\u001b[0m\u001b[1;33m.\u001b[0m\u001b[0mdimensions_info\u001b[0m\u001b[1;33m]\u001b[0m\u001b[1;33m)\u001b[0m\u001b[1;33m\u001b[0m\u001b[1;33m\u001b[0m\u001b[0m\n",
      "\u001b[1;32m~\\.conda\\envs\\ai_class\\lib\\site-packages\\pandas\\io\\formats\\string.py\u001b[0m in \u001b[0;36m_get_string_representation\u001b[1;34m(self)\u001b[0m\n\u001b[0;32m     38\u001b[0m             \u001b[1;32mreturn\u001b[0m \u001b[0mself\u001b[0m\u001b[1;33m.\u001b[0m\u001b[0m_empty_info_line\u001b[0m\u001b[1;33m\u001b[0m\u001b[1;33m\u001b[0m\u001b[0m\n\u001b[0;32m     39\u001b[0m \u001b[1;33m\u001b[0m\u001b[0m\n\u001b[1;32m---> 40\u001b[1;33m         \u001b[0mstrcols\u001b[0m \u001b[1;33m=\u001b[0m \u001b[0mself\u001b[0m\u001b[1;33m.\u001b[0m\u001b[0m_get_strcols\u001b[0m\u001b[1;33m(\u001b[0m\u001b[1;33m)\u001b[0m\u001b[1;33m\u001b[0m\u001b[1;33m\u001b[0m\u001b[0m\n\u001b[0m\u001b[0;32m     41\u001b[0m \u001b[1;33m\u001b[0m\u001b[0m\n\u001b[0;32m     42\u001b[0m         \u001b[1;32mif\u001b[0m \u001b[0mself\u001b[0m\u001b[1;33m.\u001b[0m\u001b[0mline_width\u001b[0m \u001b[1;32mis\u001b[0m \u001b[1;32mNone\u001b[0m\u001b[1;33m:\u001b[0m\u001b[1;33m\u001b[0m\u001b[1;33m\u001b[0m\u001b[0m\n",
      "\u001b[1;32m~\\.conda\\envs\\ai_class\\lib\\site-packages\\pandas\\io\\formats\\string.py\u001b[0m in \u001b[0;36m_get_strcols\u001b[1;34m(self)\u001b[0m\n\u001b[0;32m     29\u001b[0m \u001b[1;33m\u001b[0m\u001b[0m\n\u001b[0;32m     30\u001b[0m     \u001b[1;32mdef\u001b[0m \u001b[0m_get_strcols\u001b[0m\u001b[1;33m(\u001b[0m\u001b[0mself\u001b[0m\u001b[1;33m)\u001b[0m \u001b[1;33m->\u001b[0m \u001b[0mlist\u001b[0m\u001b[1;33m[\u001b[0m\u001b[0mlist\u001b[0m\u001b[1;33m[\u001b[0m\u001b[0mstr\u001b[0m\u001b[1;33m]\u001b[0m\u001b[1;33m]\u001b[0m\u001b[1;33m:\u001b[0m\u001b[1;33m\u001b[0m\u001b[1;33m\u001b[0m\u001b[0m\n\u001b[1;32m---> 31\u001b[1;33m         \u001b[0mstrcols\u001b[0m \u001b[1;33m=\u001b[0m \u001b[0mself\u001b[0m\u001b[1;33m.\u001b[0m\u001b[0mfmt\u001b[0m\u001b[1;33m.\u001b[0m\u001b[0mget_strcols\u001b[0m\u001b[1;33m(\u001b[0m\u001b[1;33m)\u001b[0m\u001b[1;33m\u001b[0m\u001b[1;33m\u001b[0m\u001b[0m\n\u001b[0m\u001b[0;32m     32\u001b[0m         \u001b[1;32mif\u001b[0m \u001b[0mself\u001b[0m\u001b[1;33m.\u001b[0m\u001b[0mfmt\u001b[0m\u001b[1;33m.\u001b[0m\u001b[0mis_truncated\u001b[0m\u001b[1;33m:\u001b[0m\u001b[1;33m\u001b[0m\u001b[1;33m\u001b[0m\u001b[0m\n\u001b[0;32m     33\u001b[0m             \u001b[0mstrcols\u001b[0m \u001b[1;33m=\u001b[0m \u001b[0mself\u001b[0m\u001b[1;33m.\u001b[0m\u001b[0m_insert_dot_separators\u001b[0m\u001b[1;33m(\u001b[0m\u001b[0mstrcols\u001b[0m\u001b[1;33m)\u001b[0m\u001b[1;33m\u001b[0m\u001b[1;33m\u001b[0m\u001b[0m\n",
      "\u001b[1;32m~\\.conda\\envs\\ai_class\\lib\\site-packages\\pandas\\io\\formats\\format.py\u001b[0m in \u001b[0;36mget_strcols\u001b[1;34m(self)\u001b[0m\n\u001b[0;32m    538\u001b[0m         \u001b[0mRender\u001b[0m \u001b[0ma\u001b[0m \u001b[0mDataFrame\u001b[0m \u001b[0mto\u001b[0m \u001b[0ma\u001b[0m \u001b[0mlist\u001b[0m \u001b[0mof\u001b[0m \u001b[0mcolumns\u001b[0m \u001b[1;33m(\u001b[0m\u001b[1;32mas\u001b[0m \u001b[0mlists\u001b[0m \u001b[0mof\u001b[0m \u001b[0mstrings\u001b[0m\u001b[1;33m)\u001b[0m\u001b[1;33m.\u001b[0m\u001b[1;33m\u001b[0m\u001b[1;33m\u001b[0m\u001b[0m\n\u001b[0;32m    539\u001b[0m         \"\"\"\n\u001b[1;32m--> 540\u001b[1;33m         \u001b[0mstrcols\u001b[0m \u001b[1;33m=\u001b[0m \u001b[0mself\u001b[0m\u001b[1;33m.\u001b[0m\u001b[0m_get_strcols_without_index\u001b[0m\u001b[1;33m(\u001b[0m\u001b[1;33m)\u001b[0m\u001b[1;33m\u001b[0m\u001b[1;33m\u001b[0m\u001b[0m\n\u001b[0m\u001b[0;32m    541\u001b[0m \u001b[1;33m\u001b[0m\u001b[0m\n\u001b[0;32m    542\u001b[0m         \u001b[1;32mif\u001b[0m \u001b[0mself\u001b[0m\u001b[1;33m.\u001b[0m\u001b[0mindex\u001b[0m\u001b[1;33m:\u001b[0m\u001b[1;33m\u001b[0m\u001b[1;33m\u001b[0m\u001b[0m\n",
      "\u001b[1;32m~\\.conda\\envs\\ai_class\\lib\\site-packages\\pandas\\io\\formats\\format.py\u001b[0m in \u001b[0;36m_get_strcols_without_index\u001b[1;34m(self)\u001b[0m\n\u001b[0;32m    802\u001b[0m                 \u001b[0mint\u001b[0m\u001b[1;33m(\u001b[0m\u001b[0mself\u001b[0m\u001b[1;33m.\u001b[0m\u001b[0mcol_space\u001b[0m\u001b[1;33m.\u001b[0m\u001b[0mget\u001b[0m\u001b[1;33m(\u001b[0m\u001b[0mc\u001b[0m\u001b[1;33m,\u001b[0m \u001b[1;36m0\u001b[0m\u001b[1;33m)\u001b[0m\u001b[1;33m)\u001b[0m\u001b[1;33m,\u001b[0m \u001b[1;33m*\u001b[0m\u001b[1;33m(\u001b[0m\u001b[0mself\u001b[0m\u001b[1;33m.\u001b[0m\u001b[0madj\u001b[0m\u001b[1;33m.\u001b[0m\u001b[0mlen\u001b[0m\u001b[1;33m(\u001b[0m\u001b[0mx\u001b[0m\u001b[1;33m)\u001b[0m \u001b[1;32mfor\u001b[0m \u001b[0mx\u001b[0m \u001b[1;32min\u001b[0m \u001b[0mcheader\u001b[0m\u001b[1;33m)\u001b[0m\u001b[1;33m\u001b[0m\u001b[1;33m\u001b[0m\u001b[0m\n\u001b[0;32m    803\u001b[0m             )\n\u001b[1;32m--> 804\u001b[1;33m             \u001b[0mfmt_values\u001b[0m \u001b[1;33m=\u001b[0m \u001b[0mself\u001b[0m\u001b[1;33m.\u001b[0m\u001b[0mformat_col\u001b[0m\u001b[1;33m(\u001b[0m\u001b[0mi\u001b[0m\u001b[1;33m)\u001b[0m\u001b[1;33m\u001b[0m\u001b[1;33m\u001b[0m\u001b[0m\n\u001b[0m\u001b[0;32m    805\u001b[0m             fmt_values = _make_fixed_width(\n\u001b[0;32m    806\u001b[0m                 \u001b[0mfmt_values\u001b[0m\u001b[1;33m,\u001b[0m \u001b[0mself\u001b[0m\u001b[1;33m.\u001b[0m\u001b[0mjustify\u001b[0m\u001b[1;33m,\u001b[0m \u001b[0mminimum\u001b[0m\u001b[1;33m=\u001b[0m\u001b[0mheader_colwidth\u001b[0m\u001b[1;33m,\u001b[0m \u001b[0madj\u001b[0m\u001b[1;33m=\u001b[0m\u001b[0mself\u001b[0m\u001b[1;33m.\u001b[0m\u001b[0madj\u001b[0m\u001b[1;33m\u001b[0m\u001b[1;33m\u001b[0m\u001b[0m\n",
      "\u001b[1;32m~\\.conda\\envs\\ai_class\\lib\\site-packages\\pandas\\io\\formats\\format.py\u001b[0m in \u001b[0;36mformat_col\u001b[1;34m(self, i)\u001b[0m\n\u001b[0;32m    816\u001b[0m         \u001b[0mframe\u001b[0m \u001b[1;33m=\u001b[0m \u001b[0mself\u001b[0m\u001b[1;33m.\u001b[0m\u001b[0mtr_frame\u001b[0m\u001b[1;33m\u001b[0m\u001b[1;33m\u001b[0m\u001b[0m\n\u001b[0;32m    817\u001b[0m         \u001b[0mformatter\u001b[0m \u001b[1;33m=\u001b[0m \u001b[0mself\u001b[0m\u001b[1;33m.\u001b[0m\u001b[0m_get_formatter\u001b[0m\u001b[1;33m(\u001b[0m\u001b[0mi\u001b[0m\u001b[1;33m)\u001b[0m\u001b[1;33m\u001b[0m\u001b[1;33m\u001b[0m\u001b[0m\n\u001b[1;32m--> 818\u001b[1;33m         return format_array(\n\u001b[0m\u001b[0;32m    819\u001b[0m             \u001b[0mframe\u001b[0m\u001b[1;33m.\u001b[0m\u001b[0miloc\u001b[0m\u001b[1;33m[\u001b[0m\u001b[1;33m:\u001b[0m\u001b[1;33m,\u001b[0m \u001b[0mi\u001b[0m\u001b[1;33m]\u001b[0m\u001b[1;33m.\u001b[0m\u001b[0m_values\u001b[0m\u001b[1;33m,\u001b[0m\u001b[1;33m\u001b[0m\u001b[1;33m\u001b[0m\u001b[0m\n\u001b[0;32m    820\u001b[0m             \u001b[0mformatter\u001b[0m\u001b[1;33m,\u001b[0m\u001b[1;33m\u001b[0m\u001b[1;33m\u001b[0m\u001b[0m\n",
      "\u001b[1;32m~\\.conda\\envs\\ai_class\\lib\\site-packages\\pandas\\io\\formats\\format.py\u001b[0m in \u001b[0;36mformat_array\u001b[1;34m(values, formatter, float_format, na_rep, digits, space, justify, decimal, leading_space, quoting)\u001b[0m\n\u001b[0;32m   1238\u001b[0m     )\n\u001b[0;32m   1239\u001b[0m \u001b[1;33m\u001b[0m\u001b[0m\n\u001b[1;32m-> 1240\u001b[1;33m     \u001b[1;32mreturn\u001b[0m \u001b[0mfmt_obj\u001b[0m\u001b[1;33m.\u001b[0m\u001b[0mget_result\u001b[0m\u001b[1;33m(\u001b[0m\u001b[1;33m)\u001b[0m\u001b[1;33m\u001b[0m\u001b[1;33m\u001b[0m\u001b[0m\n\u001b[0m\u001b[0;32m   1241\u001b[0m \u001b[1;33m\u001b[0m\u001b[0m\n\u001b[0;32m   1242\u001b[0m \u001b[1;33m\u001b[0m\u001b[0m\n",
      "\u001b[1;32m~\\.conda\\envs\\ai_class\\lib\\site-packages\\pandas\\io\\formats\\format.py\u001b[0m in \u001b[0;36mget_result\u001b[1;34m(self)\u001b[0m\n\u001b[0;32m   1269\u001b[0m \u001b[1;33m\u001b[0m\u001b[0m\n\u001b[0;32m   1270\u001b[0m     \u001b[1;32mdef\u001b[0m \u001b[0mget_result\u001b[0m\u001b[1;33m(\u001b[0m\u001b[0mself\u001b[0m\u001b[1;33m)\u001b[0m \u001b[1;33m->\u001b[0m \u001b[0mlist\u001b[0m\u001b[1;33m[\u001b[0m\u001b[0mstr\u001b[0m\u001b[1;33m]\u001b[0m\u001b[1;33m:\u001b[0m\u001b[1;33m\u001b[0m\u001b[1;33m\u001b[0m\u001b[0m\n\u001b[1;32m-> 1271\u001b[1;33m         \u001b[0mfmt_values\u001b[0m \u001b[1;33m=\u001b[0m \u001b[0mself\u001b[0m\u001b[1;33m.\u001b[0m\u001b[0m_format_strings\u001b[0m\u001b[1;33m(\u001b[0m\u001b[1;33m)\u001b[0m\u001b[1;33m\u001b[0m\u001b[1;33m\u001b[0m\u001b[0m\n\u001b[0m\u001b[0;32m   1272\u001b[0m         \u001b[1;32mreturn\u001b[0m \u001b[0m_make_fixed_width\u001b[0m\u001b[1;33m(\u001b[0m\u001b[0mfmt_values\u001b[0m\u001b[1;33m,\u001b[0m \u001b[0mself\u001b[0m\u001b[1;33m.\u001b[0m\u001b[0mjustify\u001b[0m\u001b[1;33m)\u001b[0m\u001b[1;33m\u001b[0m\u001b[1;33m\u001b[0m\u001b[0m\n\u001b[0;32m   1273\u001b[0m \u001b[1;33m\u001b[0m\u001b[0m\n",
      "\u001b[1;32m~\\.conda\\envs\\ai_class\\lib\\site-packages\\pandas\\io\\formats\\format.py\u001b[0m in \u001b[0;36m_format_strings\u001b[1;34m(self)\u001b[0m\n\u001b[0;32m   1332\u001b[0m         \u001b[1;32mfor\u001b[0m \u001b[0mi\u001b[0m\u001b[1;33m,\u001b[0m \u001b[0mv\u001b[0m \u001b[1;32min\u001b[0m \u001b[0menumerate\u001b[0m\u001b[1;33m(\u001b[0m\u001b[0mvals\u001b[0m\u001b[1;33m)\u001b[0m\u001b[1;33m:\u001b[0m\u001b[1;33m\u001b[0m\u001b[1;33m\u001b[0m\u001b[0m\n\u001b[0;32m   1333\u001b[0m             \u001b[1;32mif\u001b[0m \u001b[1;32mnot\u001b[0m \u001b[0mis_float_type\u001b[0m\u001b[1;33m[\u001b[0m\u001b[0mi\u001b[0m\u001b[1;33m]\u001b[0m \u001b[1;32mand\u001b[0m \u001b[0mleading_space\u001b[0m\u001b[1;33m:\u001b[0m\u001b[1;33m\u001b[0m\u001b[1;33m\u001b[0m\u001b[0m\n\u001b[1;32m-> 1334\u001b[1;33m                 \u001b[0mfmt_values\u001b[0m\u001b[1;33m.\u001b[0m\u001b[0mappend\u001b[0m\u001b[1;33m(\u001b[0m\u001b[1;34mf\" {_format(v)}\"\u001b[0m\u001b[1;33m)\u001b[0m\u001b[1;33m\u001b[0m\u001b[1;33m\u001b[0m\u001b[0m\n\u001b[0m\u001b[0;32m   1335\u001b[0m             \u001b[1;32melif\u001b[0m \u001b[0mis_float_type\u001b[0m\u001b[1;33m[\u001b[0m\u001b[0mi\u001b[0m\u001b[1;33m]\u001b[0m\u001b[1;33m:\u001b[0m\u001b[1;33m\u001b[0m\u001b[1;33m\u001b[0m\u001b[0m\n\u001b[0;32m   1336\u001b[0m                 \u001b[0mfmt_values\u001b[0m\u001b[1;33m.\u001b[0m\u001b[0mappend\u001b[0m\u001b[1;33m(\u001b[0m\u001b[0mfloat_format\u001b[0m\u001b[1;33m(\u001b[0m\u001b[0mv\u001b[0m\u001b[1;33m)\u001b[0m\u001b[1;33m)\u001b[0m\u001b[1;33m\u001b[0m\u001b[1;33m\u001b[0m\u001b[0m\n",
      "\u001b[1;32m~\\.conda\\envs\\ai_class\\lib\\site-packages\\pandas\\io\\formats\\format.py\u001b[0m in \u001b[0;36m_format\u001b[1;34m(x)\u001b[0m\n\u001b[0;32m   1312\u001b[0m             \u001b[1;32melse\u001b[0m\u001b[1;33m:\u001b[0m\u001b[1;33m\u001b[0m\u001b[1;33m\u001b[0m\u001b[0m\n\u001b[0;32m   1313\u001b[0m                 \u001b[1;31m# object dtype\u001b[0m\u001b[1;33m\u001b[0m\u001b[1;33m\u001b[0m\u001b[1;33m\u001b[0m\u001b[0m\n\u001b[1;32m-> 1314\u001b[1;33m                 \u001b[1;32mreturn\u001b[0m \u001b[0mstr\u001b[0m\u001b[1;33m(\u001b[0m\u001b[0mformatter\u001b[0m\u001b[1;33m(\u001b[0m\u001b[0mx\u001b[0m\u001b[1;33m)\u001b[0m\u001b[1;33m)\u001b[0m\u001b[1;33m\u001b[0m\u001b[1;33m\u001b[0m\u001b[0m\n\u001b[0m\u001b[0;32m   1315\u001b[0m \u001b[1;33m\u001b[0m\u001b[0m\n\u001b[0;32m   1316\u001b[0m         \u001b[0mvals\u001b[0m \u001b[1;33m=\u001b[0m \u001b[0mextract_array\u001b[0m\u001b[1;33m(\u001b[0m\u001b[0mself\u001b[0m\u001b[1;33m.\u001b[0m\u001b[0mvalues\u001b[0m\u001b[1;33m,\u001b[0m \u001b[0mextract_numpy\u001b[0m\u001b[1;33m=\u001b[0m\u001b[1;32mTrue\u001b[0m\u001b[1;33m)\u001b[0m\u001b[1;33m\u001b[0m\u001b[1;33m\u001b[0m\u001b[0m\n",
      "\u001b[1;32m~\\.conda\\envs\\ai_class\\lib\\site-packages\\pandas\\io\\formats\\printing.py\u001b[0m in \u001b[0;36mpprint_thing\u001b[1;34m(thing, _nest_lvl, escape_chars, default_escapes, quote_strings, max_seq_items)\u001b[0m\n\u001b[0;32m    221\u001b[0m         )\n\u001b[0;32m    222\u001b[0m     \u001b[1;32melif\u001b[0m \u001b[0mis_sequence\u001b[0m\u001b[1;33m(\u001b[0m\u001b[0mthing\u001b[0m\u001b[1;33m)\u001b[0m \u001b[1;32mand\u001b[0m \u001b[0m_nest_lvl\u001b[0m \u001b[1;33m<\u001b[0m \u001b[0mget_option\u001b[0m\u001b[1;33m(\u001b[0m\u001b[1;34m\"display.pprint_nest_depth\"\u001b[0m\u001b[1;33m)\u001b[0m\u001b[1;33m:\u001b[0m\u001b[1;33m\u001b[0m\u001b[1;33m\u001b[0m\u001b[0m\n\u001b[1;32m--> 223\u001b[1;33m         result = _pprint_seq(\n\u001b[0m\u001b[0;32m    224\u001b[0m             \u001b[0mthing\u001b[0m\u001b[1;33m,\u001b[0m\u001b[1;33m\u001b[0m\u001b[1;33m\u001b[0m\u001b[0m\n\u001b[0;32m    225\u001b[0m             \u001b[0m_nest_lvl\u001b[0m\u001b[1;33m,\u001b[0m\u001b[1;33m\u001b[0m\u001b[1;33m\u001b[0m\u001b[0m\n",
      "\u001b[1;32m~\\.conda\\envs\\ai_class\\lib\\site-packages\\pandas\\io\\formats\\printing.py\u001b[0m in \u001b[0;36m_pprint_seq\u001b[1;34m(seq, _nest_lvl, max_seq_items, **kwds)\u001b[0m\n\u001b[0;32m    118\u001b[0m     \u001b[0ms\u001b[0m \u001b[1;33m=\u001b[0m \u001b[0miter\u001b[0m\u001b[1;33m(\u001b[0m\u001b[0mseq\u001b[0m\u001b[1;33m)\u001b[0m\u001b[1;33m\u001b[0m\u001b[1;33m\u001b[0m\u001b[0m\n\u001b[0;32m    119\u001b[0m     \u001b[1;31m# handle sets, no slicing\u001b[0m\u001b[1;33m\u001b[0m\u001b[1;33m\u001b[0m\u001b[1;33m\u001b[0m\u001b[0m\n\u001b[1;32m--> 120\u001b[1;33m     r = [\n\u001b[0m\u001b[0;32m    121\u001b[0m         \u001b[0mpprint_thing\u001b[0m\u001b[1;33m(\u001b[0m\u001b[0mnext\u001b[0m\u001b[1;33m(\u001b[0m\u001b[0ms\u001b[0m\u001b[1;33m)\u001b[0m\u001b[1;33m,\u001b[0m \u001b[0m_nest_lvl\u001b[0m \u001b[1;33m+\u001b[0m \u001b[1;36m1\u001b[0m\u001b[1;33m,\u001b[0m \u001b[0mmax_seq_items\u001b[0m\u001b[1;33m=\u001b[0m\u001b[0mmax_seq_items\u001b[0m\u001b[1;33m,\u001b[0m \u001b[1;33m**\u001b[0m\u001b[0mkwds\u001b[0m\u001b[1;33m)\u001b[0m\u001b[1;33m\u001b[0m\u001b[1;33m\u001b[0m\u001b[0m\n\u001b[0;32m    122\u001b[0m         \u001b[1;32mfor\u001b[0m \u001b[0mi\u001b[0m \u001b[1;32min\u001b[0m \u001b[0mrange\u001b[0m\u001b[1;33m(\u001b[0m\u001b[0mmin\u001b[0m\u001b[1;33m(\u001b[0m\u001b[0mnitems\u001b[0m\u001b[1;33m,\u001b[0m \u001b[0mlen\u001b[0m\u001b[1;33m(\u001b[0m\u001b[0mseq\u001b[0m\u001b[1;33m)\u001b[0m\u001b[1;33m)\u001b[0m\u001b[1;33m)\u001b[0m\u001b[1;33m\u001b[0m\u001b[1;33m\u001b[0m\u001b[0m\n",
      "\u001b[1;32m~\\.conda\\envs\\ai_class\\lib\\site-packages\\pandas\\io\\formats\\printing.py\u001b[0m in \u001b[0;36m<listcomp>\u001b[1;34m(.0)\u001b[0m\n\u001b[0;32m    119\u001b[0m     \u001b[1;31m# handle sets, no slicing\u001b[0m\u001b[1;33m\u001b[0m\u001b[1;33m\u001b[0m\u001b[1;33m\u001b[0m\u001b[0m\n\u001b[0;32m    120\u001b[0m     r = [\n\u001b[1;32m--> 121\u001b[1;33m         \u001b[0mpprint_thing\u001b[0m\u001b[1;33m(\u001b[0m\u001b[0mnext\u001b[0m\u001b[1;33m(\u001b[0m\u001b[0ms\u001b[0m\u001b[1;33m)\u001b[0m\u001b[1;33m,\u001b[0m \u001b[0m_nest_lvl\u001b[0m \u001b[1;33m+\u001b[0m \u001b[1;36m1\u001b[0m\u001b[1;33m,\u001b[0m \u001b[0mmax_seq_items\u001b[0m\u001b[1;33m=\u001b[0m\u001b[0mmax_seq_items\u001b[0m\u001b[1;33m,\u001b[0m \u001b[1;33m**\u001b[0m\u001b[0mkwds\u001b[0m\u001b[1;33m)\u001b[0m\u001b[1;33m\u001b[0m\u001b[1;33m\u001b[0m\u001b[0m\n\u001b[0m\u001b[0;32m    122\u001b[0m         \u001b[1;32mfor\u001b[0m \u001b[0mi\u001b[0m \u001b[1;32min\u001b[0m \u001b[0mrange\u001b[0m\u001b[1;33m(\u001b[0m\u001b[0mmin\u001b[0m\u001b[1;33m(\u001b[0m\u001b[0mnitems\u001b[0m\u001b[1;33m,\u001b[0m \u001b[0mlen\u001b[0m\u001b[1;33m(\u001b[0m\u001b[0mseq\u001b[0m\u001b[1;33m)\u001b[0m\u001b[1;33m)\u001b[0m\u001b[1;33m)\u001b[0m\u001b[1;33m\u001b[0m\u001b[1;33m\u001b[0m\u001b[0m\n\u001b[0;32m    123\u001b[0m     ]\n",
      "\u001b[1;31mNotImplementedError\u001b[0m: multi-dimensional sub-views are not implemented"
     ]
    }
   ],
   "source": [
    "Model.fit(train_x,train_y,epochs = 10)"
   ]
  },
  {
   "cell_type": "code",
   "execution_count": null,
   "metadata": {
    "colab": {
     "base_uri": "https://localhost:8080/",
     "height": 311
    },
    "id": "roHblN8amqeK",
    "outputId": "fb400c32-f789-4522-af10-2f9b94e64c3b"
   },
   "outputs": [],
   "source": [
    "Predict = Model.predict(test_x)"
   ]
  },
  {
   "cell_type": "code",
   "execution_count": null,
   "metadata": {
    "id": "PRH0auEVmuEV"
   },
   "outputs": [],
   "source": []
  }
 ],
 "metadata": {
  "colab": {
   "provenance": []
  },
  "kernelspec": {
   "display_name": "Python 3 (ipykernel)",
   "language": "python",
   "name": "python3"
  },
  "language_info": {
   "codemirror_mode": {
    "name": "ipython",
    "version": 3
   },
   "file_extension": ".py",
   "mimetype": "text/x-python",
   "name": "python",
   "nbconvert_exporter": "python",
   "pygments_lexer": "ipython3",
   "version": "3.8.12"
  }
 },
 "nbformat": 4,
 "nbformat_minor": 1
}
