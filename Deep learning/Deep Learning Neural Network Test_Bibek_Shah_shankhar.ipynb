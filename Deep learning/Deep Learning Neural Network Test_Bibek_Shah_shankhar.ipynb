{
 "cells": [
  {
   "cell_type": "markdown",
   "id": "6e04fe01",
   "metadata": {},
   "source": [
    "### Name: Bibek Shah Shankhar\n",
    "### Student Id: C0835648"
   ]
  },
  {
   "cell_type": "markdown",
   "id": "c7958528",
   "metadata": {},
   "source": [
    "#### Problem Statement:\n",
    "The objective of the dataset is to diagnostically predict whether a patient has diabetes,\n",
    "based on certain diagnostic measurements included in the dataset based on certain diagnostic\n",
    "measurements included in the dataset."
   ]
  },
  {
   "cell_type": "markdown",
   "id": "4c4ad539",
   "metadata": {},
   "source": [
    "Follow the following 5 stages of on the data set and express your results:\n",
    "1. Preliminary Data Analysis (10%)\n",
    "2. Data Processing & Feature Engineering (20%)\n",
    "3. Modelling (30%)\n",
    "a. Conventional ML Model\n",
    "b. Deep Network\n",
    "c. Wide & Deep Network\n",
    "4. Evaluation (15%)\n",
    "5. Discussion (10%)"
   ]
  },
  {
   "cell_type": "markdown",
   "id": "44175b03",
   "metadata": {},
   "source": [
    "Guiding Principles:\n",
    "• Preliminary Data Analysis: Understanding behavior of features against one another (Multi\n",
    "collinearity) , ranges of the inputs, etc.\n",
    "• Data Processing & Feature Engineering: Potential normalization, development/removing\n",
    "features affecting the overall performance of the model, encoding if applicable\n",
    "• Modeling: On the modeling section, you are required to deliver:\n",
    "1. Conventional Machine Learning model of your choice fine-tuned using grid-search\n",
    "techniques to yield best results\n",
    "2. One Deep Sequential Neural network with dimensions of your choice\n",
    "3. One wide and deep neural network architecture with dimensions of your choice\n",
    "• Evaluation: Thought process on your approach on improving individual models (How you\n",
    "improved individual models by fine-tuning relevant hyper parameters)\n",
    "• Discussion: How were the 3 models compared with one another? "
   ]
  },
  {
   "cell_type": "code",
   "execution_count": 1,
   "id": "f64a10f6",
   "metadata": {},
   "outputs": [],
   "source": [
    "#Importing necessary libraries\n",
    "import numpy as np\n",
    "import pandas as pd\n",
    "import matplotlib.pyplot as plt\n",
    "import seaborn as sns\n",
    "import tensorflow as tf\n",
    "import keras\n",
    "from keras.optimizers import Adam\n",
    "from keras.metrics import RootMeanSquaredError"
   ]
  },
  {
   "cell_type": "code",
   "execution_count": 2,
   "id": "7d830613",
   "metadata": {},
   "outputs": [
    {
     "data": {
      "text/html": [
       "<div>\n",
       "<style scoped>\n",
       "    .dataframe tbody tr th:only-of-type {\n",
       "        vertical-align: middle;\n",
       "    }\n",
       "\n",
       "    .dataframe tbody tr th {\n",
       "        vertical-align: top;\n",
       "    }\n",
       "\n",
       "    .dataframe thead th {\n",
       "        text-align: right;\n",
       "    }\n",
       "</style>\n",
       "<table border=\"1\" class=\"dataframe\">\n",
       "  <thead>\n",
       "    <tr style=\"text-align: right;\">\n",
       "      <th></th>\n",
       "      <th>Pregnancies</th>\n",
       "      <th>Glucose</th>\n",
       "      <th>BloodPressure</th>\n",
       "      <th>SkinThickness</th>\n",
       "      <th>Insulin</th>\n",
       "      <th>BMI</th>\n",
       "      <th>DiabetesPedigreeFunction</th>\n",
       "      <th>Age</th>\n",
       "      <th>Outcome</th>\n",
       "    </tr>\n",
       "  </thead>\n",
       "  <tbody>\n",
       "    <tr>\n",
       "      <th>0</th>\n",
       "      <td>6</td>\n",
       "      <td>148</td>\n",
       "      <td>72</td>\n",
       "      <td>35</td>\n",
       "      <td>0</td>\n",
       "      <td>33.6</td>\n",
       "      <td>0.627</td>\n",
       "      <td>50</td>\n",
       "      <td>1</td>\n",
       "    </tr>\n",
       "    <tr>\n",
       "      <th>1</th>\n",
       "      <td>1</td>\n",
       "      <td>85</td>\n",
       "      <td>66</td>\n",
       "      <td>29</td>\n",
       "      <td>0</td>\n",
       "      <td>26.6</td>\n",
       "      <td>0.351</td>\n",
       "      <td>31</td>\n",
       "      <td>0</td>\n",
       "    </tr>\n",
       "    <tr>\n",
       "      <th>2</th>\n",
       "      <td>8</td>\n",
       "      <td>183</td>\n",
       "      <td>64</td>\n",
       "      <td>0</td>\n",
       "      <td>0</td>\n",
       "      <td>23.3</td>\n",
       "      <td>0.672</td>\n",
       "      <td>32</td>\n",
       "      <td>1</td>\n",
       "    </tr>\n",
       "    <tr>\n",
       "      <th>3</th>\n",
       "      <td>1</td>\n",
       "      <td>89</td>\n",
       "      <td>66</td>\n",
       "      <td>23</td>\n",
       "      <td>94</td>\n",
       "      <td>28.1</td>\n",
       "      <td>0.167</td>\n",
       "      <td>21</td>\n",
       "      <td>0</td>\n",
       "    </tr>\n",
       "    <tr>\n",
       "      <th>4</th>\n",
       "      <td>0</td>\n",
       "      <td>137</td>\n",
       "      <td>40</td>\n",
       "      <td>35</td>\n",
       "      <td>168</td>\n",
       "      <td>43.1</td>\n",
       "      <td>2.288</td>\n",
       "      <td>33</td>\n",
       "      <td>1</td>\n",
       "    </tr>\n",
       "  </tbody>\n",
       "</table>\n",
       "</div>"
      ],
      "text/plain": [
       "   Pregnancies  Glucose  BloodPressure  SkinThickness  Insulin   BMI  \\\n",
       "0            6      148             72             35        0  33.6   \n",
       "1            1       85             66             29        0  26.6   \n",
       "2            8      183             64              0        0  23.3   \n",
       "3            1       89             66             23       94  28.1   \n",
       "4            0      137             40             35      168  43.1   \n",
       "\n",
       "   DiabetesPedigreeFunction  Age  Outcome  \n",
       "0                     0.627   50        1  \n",
       "1                     0.351   31        0  \n",
       "2                     0.672   32        1  \n",
       "3                     0.167   21        0  \n",
       "4                     2.288   33        1  "
      ]
     },
     "execution_count": 2,
     "metadata": {},
     "output_type": "execute_result"
    }
   ],
   "source": [
    "#Loading the csv file\n",
    "df = pd.read_csv('Dataset/diabetes.csv')\n",
    "df.head()"
   ]
  },
  {
   "cell_type": "code",
   "execution_count": 3,
   "id": "08b3f717",
   "metadata": {
    "scrolled": true
   },
   "outputs": [
    {
     "data": {
      "text/html": [
       "<div>\n",
       "<style scoped>\n",
       "    .dataframe tbody tr th:only-of-type {\n",
       "        vertical-align: middle;\n",
       "    }\n",
       "\n",
       "    .dataframe tbody tr th {\n",
       "        vertical-align: top;\n",
       "    }\n",
       "\n",
       "    .dataframe thead th {\n",
       "        text-align: right;\n",
       "    }\n",
       "</style>\n",
       "<table border=\"1\" class=\"dataframe\">\n",
       "  <thead>\n",
       "    <tr style=\"text-align: right;\">\n",
       "      <th></th>\n",
       "      <th>Pregnancies</th>\n",
       "      <th>Glucose</th>\n",
       "      <th>BloodPressure</th>\n",
       "      <th>SkinThickness</th>\n",
       "      <th>Insulin</th>\n",
       "      <th>BMI</th>\n",
       "      <th>DiabetesPedigreeFunction</th>\n",
       "      <th>Age</th>\n",
       "      <th>Outcome</th>\n",
       "    </tr>\n",
       "  </thead>\n",
       "  <tbody>\n",
       "    <tr>\n",
       "      <th>count</th>\n",
       "      <td>768.000000</td>\n",
       "      <td>768.000000</td>\n",
       "      <td>768.000000</td>\n",
       "      <td>768.000000</td>\n",
       "      <td>768.000000</td>\n",
       "      <td>768.000000</td>\n",
       "      <td>768.000000</td>\n",
       "      <td>768.000000</td>\n",
       "      <td>768.000000</td>\n",
       "    </tr>\n",
       "    <tr>\n",
       "      <th>mean</th>\n",
       "      <td>3.845052</td>\n",
       "      <td>120.894531</td>\n",
       "      <td>69.105469</td>\n",
       "      <td>20.536458</td>\n",
       "      <td>79.799479</td>\n",
       "      <td>31.992578</td>\n",
       "      <td>0.471876</td>\n",
       "      <td>33.240885</td>\n",
       "      <td>0.348958</td>\n",
       "    </tr>\n",
       "    <tr>\n",
       "      <th>std</th>\n",
       "      <td>3.369578</td>\n",
       "      <td>31.972618</td>\n",
       "      <td>19.355807</td>\n",
       "      <td>15.952218</td>\n",
       "      <td>115.244002</td>\n",
       "      <td>7.884160</td>\n",
       "      <td>0.331329</td>\n",
       "      <td>11.760232</td>\n",
       "      <td>0.476951</td>\n",
       "    </tr>\n",
       "    <tr>\n",
       "      <th>min</th>\n",
       "      <td>0.000000</td>\n",
       "      <td>0.000000</td>\n",
       "      <td>0.000000</td>\n",
       "      <td>0.000000</td>\n",
       "      <td>0.000000</td>\n",
       "      <td>0.000000</td>\n",
       "      <td>0.078000</td>\n",
       "      <td>21.000000</td>\n",
       "      <td>0.000000</td>\n",
       "    </tr>\n",
       "    <tr>\n",
       "      <th>25%</th>\n",
       "      <td>1.000000</td>\n",
       "      <td>99.000000</td>\n",
       "      <td>62.000000</td>\n",
       "      <td>0.000000</td>\n",
       "      <td>0.000000</td>\n",
       "      <td>27.300000</td>\n",
       "      <td>0.243750</td>\n",
       "      <td>24.000000</td>\n",
       "      <td>0.000000</td>\n",
       "    </tr>\n",
       "    <tr>\n",
       "      <th>50%</th>\n",
       "      <td>3.000000</td>\n",
       "      <td>117.000000</td>\n",
       "      <td>72.000000</td>\n",
       "      <td>23.000000</td>\n",
       "      <td>30.500000</td>\n",
       "      <td>32.000000</td>\n",
       "      <td>0.372500</td>\n",
       "      <td>29.000000</td>\n",
       "      <td>0.000000</td>\n",
       "    </tr>\n",
       "    <tr>\n",
       "      <th>75%</th>\n",
       "      <td>6.000000</td>\n",
       "      <td>140.250000</td>\n",
       "      <td>80.000000</td>\n",
       "      <td>32.000000</td>\n",
       "      <td>127.250000</td>\n",
       "      <td>36.600000</td>\n",
       "      <td>0.626250</td>\n",
       "      <td>41.000000</td>\n",
       "      <td>1.000000</td>\n",
       "    </tr>\n",
       "    <tr>\n",
       "      <th>max</th>\n",
       "      <td>17.000000</td>\n",
       "      <td>199.000000</td>\n",
       "      <td>122.000000</td>\n",
       "      <td>99.000000</td>\n",
       "      <td>846.000000</td>\n",
       "      <td>67.100000</td>\n",
       "      <td>2.420000</td>\n",
       "      <td>81.000000</td>\n",
       "      <td>1.000000</td>\n",
       "    </tr>\n",
       "  </tbody>\n",
       "</table>\n",
       "</div>"
      ],
      "text/plain": [
       "       Pregnancies     Glucose  BloodPressure  SkinThickness     Insulin  \\\n",
       "count   768.000000  768.000000     768.000000     768.000000  768.000000   \n",
       "mean      3.845052  120.894531      69.105469      20.536458   79.799479   \n",
       "std       3.369578   31.972618      19.355807      15.952218  115.244002   \n",
       "min       0.000000    0.000000       0.000000       0.000000    0.000000   \n",
       "25%       1.000000   99.000000      62.000000       0.000000    0.000000   \n",
       "50%       3.000000  117.000000      72.000000      23.000000   30.500000   \n",
       "75%       6.000000  140.250000      80.000000      32.000000  127.250000   \n",
       "max      17.000000  199.000000     122.000000      99.000000  846.000000   \n",
       "\n",
       "              BMI  DiabetesPedigreeFunction         Age     Outcome  \n",
       "count  768.000000                768.000000  768.000000  768.000000  \n",
       "mean    31.992578                  0.471876   33.240885    0.348958  \n",
       "std      7.884160                  0.331329   11.760232    0.476951  \n",
       "min      0.000000                  0.078000   21.000000    0.000000  \n",
       "25%     27.300000                  0.243750   24.000000    0.000000  \n",
       "50%     32.000000                  0.372500   29.000000    0.000000  \n",
       "75%     36.600000                  0.626250   41.000000    1.000000  \n",
       "max     67.100000                  2.420000   81.000000    1.000000  "
      ]
     },
     "execution_count": 3,
     "metadata": {},
     "output_type": "execute_result"
    }
   ],
   "source": [
    "df.describe()"
   ]
  },
  {
   "cell_type": "code",
   "execution_count": 4,
   "id": "53177970",
   "metadata": {},
   "outputs": [
    {
     "data": {
      "text/plain": [
       "(768, 9)"
      ]
     },
     "execution_count": 4,
     "metadata": {},
     "output_type": "execute_result"
    }
   ],
   "source": [
    "#Shape of data\n",
    "df.shape"
   ]
  },
  {
   "cell_type": "code",
   "execution_count": 5,
   "id": "ff6c138a",
   "metadata": {
    "scrolled": true
   },
   "outputs": [
    {
     "data": {
      "image/png": "[encoded data removed]",
      "text/plain": [
       "<Figure size 1440x1080 with 9 Axes>"
      ]
     },
     "metadata": {},
     "output_type": "display_data"
    }
   ],
   "source": [
    "plt.style.use('seaborn')\n",
    "df.hist(bins=50, figsize=(20,15))\n",
    "plt.show()"
   ]
  },
  {
   "cell_type": "code",
   "execution_count": 6,
   "id": "da5f647a",
   "metadata": {},
   "outputs": [
    {
     "data": {
      "text/plain": [
       "<AxesSubplot:xlabel='Outcome', ylabel='count'>"
      ]
     },
     "execution_count": 6,
     "metadata": {},
     "output_type": "execute_result"
    },
    {
     "data": {
      "image/png": "[encoded data removed]",
      "text/plain": [
       "<Figure size 576x396 with 1 Axes>"
      ]
     },
     "metadata": {},
     "output_type": "display_data"
    }
   ],
   "source": [
    "sns.countplot(x=df.Outcome)"
   ]
  },
  {
   "cell_type": "code",
   "execution_count": 7,
   "id": "f9aa4976",
   "metadata": {
    "scrolled": true
   },
   "outputs": [
    {
     "data": {
      "text/html": [
       "<div>\n",
       "<style scoped>\n",
       "    .dataframe tbody tr th:only-of-type {\n",
       "        vertical-align: middle;\n",
       "    }\n",
       "\n",
       "    .dataframe tbody tr th {\n",
       "        vertical-align: top;\n",
       "    }\n",
       "\n",
       "    .dataframe thead th {\n",
       "        text-align: right;\n",
       "    }\n",
       "</style>\n",
       "<table border=\"1\" class=\"dataframe\">\n",
       "  <thead>\n",
       "    <tr style=\"text-align: right;\">\n",
       "      <th></th>\n",
       "      <th>Pregnancies</th>\n",
       "      <th>Glucose</th>\n",
       "      <th>BloodPressure</th>\n",
       "      <th>SkinThickness</th>\n",
       "      <th>Insulin</th>\n",
       "      <th>BMI</th>\n",
       "      <th>DiabetesPedigreeFunction</th>\n",
       "      <th>Age</th>\n",
       "      <th>Outcome</th>\n",
       "    </tr>\n",
       "  </thead>\n",
       "  <tbody>\n",
       "    <tr>\n",
       "      <th>Pregnancies</th>\n",
       "      <td>1.000000</td>\n",
       "      <td>0.129459</td>\n",
       "      <td>0.141282</td>\n",
       "      <td>-0.081672</td>\n",
       "      <td>-0.073535</td>\n",
       "      <td>0.017683</td>\n",
       "      <td>-0.033523</td>\n",
       "      <td>0.544341</td>\n",
       "      <td>0.221898</td>\n",
       "    </tr>\n",
       "    <tr>\n",
       "      <th>Glucose</th>\n",
       "      <td>0.129459</td>\n",
       "      <td>1.000000</td>\n",
       "      <td>0.152590</td>\n",
       "      <td>0.057328</td>\n",
       "      <td>0.331357</td>\n",
       "      <td>0.221071</td>\n",
       "      <td>0.137337</td>\n",
       "      <td>0.263514</td>\n",
       "      <td>0.466581</td>\n",
       "    </tr>\n",
       "    <tr>\n",
       "      <th>BloodPressure</th>\n",
       "      <td>0.141282</td>\n",
       "      <td>0.152590</td>\n",
       "      <td>1.000000</td>\n",
       "      <td>0.207371</td>\n",
       "      <td>0.088933</td>\n",
       "      <td>0.281805</td>\n",
       "      <td>0.041265</td>\n",
       "      <td>0.239528</td>\n",
       "      <td>0.065068</td>\n",
       "    </tr>\n",
       "    <tr>\n",
       "      <th>SkinThickness</th>\n",
       "      <td>-0.081672</td>\n",
       "      <td>0.057328</td>\n",
       "      <td>0.207371</td>\n",
       "      <td>1.000000</td>\n",
       "      <td>0.436783</td>\n",
       "      <td>0.392573</td>\n",
       "      <td>0.183928</td>\n",
       "      <td>-0.113970</td>\n",
       "      <td>0.074752</td>\n",
       "    </tr>\n",
       "    <tr>\n",
       "      <th>Insulin</th>\n",
       "      <td>-0.073535</td>\n",
       "      <td>0.331357</td>\n",
       "      <td>0.088933</td>\n",
       "      <td>0.436783</td>\n",
       "      <td>1.000000</td>\n",
       "      <td>0.197859</td>\n",
       "      <td>0.185071</td>\n",
       "      <td>-0.042163</td>\n",
       "      <td>0.130548</td>\n",
       "    </tr>\n",
       "    <tr>\n",
       "      <th>BMI</th>\n",
       "      <td>0.017683</td>\n",
       "      <td>0.221071</td>\n",
       "      <td>0.281805</td>\n",
       "      <td>0.392573</td>\n",
       "      <td>0.197859</td>\n",
       "      <td>1.000000</td>\n",
       "      <td>0.140647</td>\n",
       "      <td>0.036242</td>\n",
       "      <td>0.292695</td>\n",
       "    </tr>\n",
       "    <tr>\n",
       "      <th>DiabetesPedigreeFunction</th>\n",
       "      <td>-0.033523</td>\n",
       "      <td>0.137337</td>\n",
       "      <td>0.041265</td>\n",
       "      <td>0.183928</td>\n",
       "      <td>0.185071</td>\n",
       "      <td>0.140647</td>\n",
       "      <td>1.000000</td>\n",
       "      <td>0.033561</td>\n",
       "      <td>0.173844</td>\n",
       "    </tr>\n",
       "    <tr>\n",
       "      <th>Age</th>\n",
       "      <td>0.544341</td>\n",
       "      <td>0.263514</td>\n",
       "      <td>0.239528</td>\n",
       "      <td>-0.113970</td>\n",
       "      <td>-0.042163</td>\n",
       "      <td>0.036242</td>\n",
       "      <td>0.033561</td>\n",
       "      <td>1.000000</td>\n",
       "      <td>0.238356</td>\n",
       "    </tr>\n",
       "    <tr>\n",
       "      <th>Outcome</th>\n",
       "      <td>0.221898</td>\n",
       "      <td>0.466581</td>\n",
       "      <td>0.065068</td>\n",
       "      <td>0.074752</td>\n",
       "      <td>0.130548</td>\n",
       "      <td>0.292695</td>\n",
       "      <td>0.173844</td>\n",
       "      <td>0.238356</td>\n",
       "      <td>1.000000</td>\n",
       "    </tr>\n",
       "  </tbody>\n",
       "</table>\n",
       "</div>"
      ],
      "text/plain": [
       "                          Pregnancies   Glucose  BloodPressure  SkinThickness  \\\n",
       "Pregnancies                  1.000000  0.129459       0.141282      -0.081672   \n",
       "Glucose                      0.129459  1.000000       0.152590       0.057328   \n",
       "BloodPressure                0.141282  0.152590       1.000000       0.207371   \n",
       "SkinThickness               -0.081672  0.057328       0.207371       1.000000   \n",
       "Insulin                     -0.073535  0.331357       0.088933       0.436783   \n",
       "BMI                          0.017683  0.221071       0.281805       0.392573   \n",
       "DiabetesPedigreeFunction    -0.033523  0.137337       0.041265       0.183928   \n",
       "Age                          0.544341  0.263514       0.239528      -0.113970   \n",
       "Outcome                      0.221898  0.466581       0.065068       0.074752   \n",
       "\n",
       "                           Insulin       BMI  DiabetesPedigreeFunction  \\\n",
       "Pregnancies              -0.073535  0.017683                 -0.033523   \n",
       "Glucose                   0.331357  0.221071                  0.137337   \n",
       "BloodPressure             0.088933  0.281805                  0.041265   \n",
       "SkinThickness             0.436783  0.392573                  0.183928   \n",
       "Insulin                   1.000000  0.197859                  0.185071   \n",
       "BMI                       0.197859  1.000000                  0.140647   \n",
       "DiabetesPedigreeFunction  0.185071  0.140647                  1.000000   \n",
       "Age                      -0.042163  0.036242                  0.033561   \n",
       "Outcome                   0.130548  0.292695                  0.173844   \n",
       "\n",
       "                               Age   Outcome  \n",
       "Pregnancies               0.544341  0.221898  \n",
       "Glucose                   0.263514  0.466581  \n",
       "BloodPressure             0.239528  0.065068  \n",
       "SkinThickness            -0.113970  0.074752  \n",
       "Insulin                  -0.042163  0.130548  \n",
       "BMI                       0.036242  0.292695  \n",
       "DiabetesPedigreeFunction  0.033561  0.173844  \n",
       "Age                       1.000000  0.238356  \n",
       "Outcome                   0.238356  1.000000  "
      ]
     },
     "execution_count": 7,
     "metadata": {},
     "output_type": "execute_result"
    }
   ],
   "source": [
    "correlation = df.corr()\n",
    "correlation"
   ]
  },
  {
   "cell_type": "code",
   "execution_count": 8,
   "id": "0c8d32f3",
   "metadata": {},
   "outputs": [
    {
     "data": {
      "text/plain": [
       "<AxesSubplot:>"
      ]
     },
     "execution_count": 8,
     "metadata": {},
     "output_type": "execute_result"
    },
    {
     "data": {
      "image/png": "[encoded data removed]",
      "text/plain": [
       "<Figure size 720x576 with 2 Axes>"
      ]
     },
     "metadata": {},
     "output_type": "display_data"
    }
   ],
   "source": [
    "f, ax = plt.subplots(1, figsize=(10,8))\n",
    "sns.heatmap(correlation, annot=True, ax=ax)"
   ]
  },
  {
   "cell_type": "code",
   "execution_count": 9,
   "id": "dfb681a9",
   "metadata": {
    "scrolled": false
   },
   "outputs": [
    {
     "data": {
      "text/plain": [
       "Pregnancies                 0\n",
       "Glucose                     0\n",
       "BloodPressure               0\n",
       "SkinThickness               0\n",
       "Insulin                     0\n",
       "BMI                         0\n",
       "DiabetesPedigreeFunction    0\n",
       "Age                         0\n",
       "Outcome                     0\n",
       "dtype: int64"
      ]
     },
     "execution_count": 9,
     "metadata": {},
     "output_type": "execute_result"
    }
   ],
   "source": [
    "df.isnull().sum()"
   ]
  },
  {
   "cell_type": "markdown",
   "id": "5ea8f6e4",
   "metadata": {},
   "source": [
    "### Standardize Data"
   ]
  },
  {
   "cell_type": "code",
   "execution_count": 10,
   "id": "02ae8694",
   "metadata": {},
   "outputs": [
    {
     "data": {
      "text/html": [
       "<div>\n",
       "<style scoped>\n",
       "    .dataframe tbody tr th:only-of-type {\n",
       "        vertical-align: middle;\n",
       "    }\n",
       "\n",
       "    .dataframe tbody tr th {\n",
       "        vertical-align: top;\n",
       "    }\n",
       "\n",
       "    .dataframe thead th {\n",
       "        text-align: right;\n",
       "    }\n",
       "</style>\n",
       "<table border=\"1\" class=\"dataframe\">\n",
       "  <thead>\n",
       "    <tr style=\"text-align: right;\">\n",
       "      <th></th>\n",
       "      <th>Pregnancies</th>\n",
       "      <th>Glucose</th>\n",
       "      <th>BloodPressure</th>\n",
       "      <th>SkinThickness</th>\n",
       "      <th>Insulin</th>\n",
       "      <th>BMI</th>\n",
       "      <th>DiabetesPedigreeFunction</th>\n",
       "      <th>Age</th>\n",
       "    </tr>\n",
       "  </thead>\n",
       "  <tbody>\n",
       "    <tr>\n",
       "      <th>0</th>\n",
       "      <td>0.639947</td>\n",
       "      <td>0.848324</td>\n",
       "      <td>0.149641</td>\n",
       "      <td>0.907270</td>\n",
       "      <td>-0.692891</td>\n",
       "      <td>0.204013</td>\n",
       "      <td>0.468492</td>\n",
       "      <td>1.425995</td>\n",
       "    </tr>\n",
       "    <tr>\n",
       "      <th>1</th>\n",
       "      <td>-0.844885</td>\n",
       "      <td>-1.123396</td>\n",
       "      <td>-0.160546</td>\n",
       "      <td>0.530902</td>\n",
       "      <td>-0.692891</td>\n",
       "      <td>-0.684422</td>\n",
       "      <td>-0.365061</td>\n",
       "      <td>-0.190672</td>\n",
       "    </tr>\n",
       "    <tr>\n",
       "      <th>2</th>\n",
       "      <td>1.233880</td>\n",
       "      <td>1.943724</td>\n",
       "      <td>-0.263941</td>\n",
       "      <td>-1.288212</td>\n",
       "      <td>-0.692891</td>\n",
       "      <td>-1.103255</td>\n",
       "      <td>0.604397</td>\n",
       "      <td>-0.105584</td>\n",
       "    </tr>\n",
       "    <tr>\n",
       "      <th>3</th>\n",
       "      <td>-0.844885</td>\n",
       "      <td>-0.998208</td>\n",
       "      <td>-0.160546</td>\n",
       "      <td>0.154533</td>\n",
       "      <td>0.123302</td>\n",
       "      <td>-0.494043</td>\n",
       "      <td>-0.920763</td>\n",
       "      <td>-1.041549</td>\n",
       "    </tr>\n",
       "    <tr>\n",
       "      <th>4</th>\n",
       "      <td>-1.141852</td>\n",
       "      <td>0.504055</td>\n",
       "      <td>-1.504687</td>\n",
       "      <td>0.907270</td>\n",
       "      <td>0.765836</td>\n",
       "      <td>1.409746</td>\n",
       "      <td>5.484909</td>\n",
       "      <td>-0.020496</td>\n",
       "    </tr>\n",
       "  </tbody>\n",
       "</table>\n",
       "</div>"
      ],
      "text/plain": [
       "   Pregnancies   Glucose  BloodPressure  SkinThickness   Insulin       BMI  \\\n",
       "0     0.639947  0.848324       0.149641       0.907270 -0.692891  0.204013   \n",
       "1    -0.844885 -1.123396      -0.160546       0.530902 -0.692891 -0.684422   \n",
       "2     1.233880  1.943724      -0.263941      -1.288212 -0.692891 -1.103255   \n",
       "3    -0.844885 -0.998208      -0.160546       0.154533  0.123302 -0.494043   \n",
       "4    -1.141852  0.504055      -1.504687       0.907270  0.765836  1.409746   \n",
       "\n",
       "   DiabetesPedigreeFunction       Age  \n",
       "0                  0.468492  1.425995  \n",
       "1                 -0.365061 -0.190672  \n",
       "2                  0.604397 -0.105584  \n",
       "3                 -0.920763 -1.041549  \n",
       "4                  5.484909 -0.020496  "
      ]
     },
     "execution_count": 10,
     "metadata": {},
     "output_type": "execute_result"
    }
   ],
   "source": [
    "from sklearn.preprocessing import StandardScaler\n",
    "scaler = StandardScaler()\n",
    "\n",
    "features = ['Pregnancies','Glucose','BloodPressure','SkinThickness','Insulin','BMI','DiabetesPedigreeFunction','Age']\n",
    "\n",
    "\n",
    "X = df[features]\n",
    "y = df.Outcome\n",
    "\n",
    "df_std = scaler.fit_transform(X)\n",
    "data = pd.DataFrame(df_std, columns=X.columns)\n",
    "data.head()"
   ]
  },
  {
   "cell_type": "code",
   "execution_count": 11,
   "id": "ad49d9f7",
   "metadata": {},
   "outputs": [],
   "source": [
    "features = ['Pregnancies','Glucose','BloodPressure','SkinThickness','Insulin','BMI','DiabetesPedigreeFunction','Age']\n",
    "\n",
    "\n",
    "X = data[features]\n",
    "y = df.Outcome"
   ]
  },
  {
   "cell_type": "code",
   "execution_count": 12,
   "id": "3128e6f7",
   "metadata": {},
   "outputs": [
    {
     "name": "stdout",
     "output_type": "stream",
     "text": [
      "     Pregnancies   Glucose  BloodPressure  SkinThickness   Insulin       BMI  \\\n",
      "0       0.639947  0.848324       0.149641       0.907270 -0.692891  0.204013   \n",
      "1      -0.844885 -1.123396      -0.160546       0.530902 -0.692891 -0.684422   \n",
      "2       1.233880  1.943724      -0.263941      -1.288212 -0.692891 -1.103255   \n",
      "3      -0.844885 -0.998208      -0.160546       0.154533  0.123302 -0.494043   \n",
      "4      -1.141852  0.504055      -1.504687       0.907270  0.765836  1.409746   \n",
      "..           ...       ...            ...            ...       ...       ...   \n",
      "763     1.827813 -0.622642       0.356432       1.722735  0.870031  0.115169   \n",
      "764    -0.547919  0.034598       0.046245       0.405445 -0.692891  0.610154   \n",
      "765     0.342981  0.003301       0.149641       0.154533  0.279594 -0.735190   \n",
      "766    -0.844885  0.159787      -0.470732      -1.288212 -0.692891 -0.240205   \n",
      "767    -0.844885 -0.873019       0.046245       0.656358 -0.692891 -0.202129   \n",
      "\n",
      "     DiabetesPedigreeFunction       Age  \n",
      "0                    0.468492  1.425995  \n",
      "1                   -0.365061 -0.190672  \n",
      "2                    0.604397 -0.105584  \n",
      "3                   -0.920763 -1.041549  \n",
      "4                    5.484909 -0.020496  \n",
      "..                        ...       ...  \n",
      "763                 -0.908682  2.532136  \n",
      "764                 -0.398282 -0.531023  \n",
      "765                 -0.685193 -0.275760  \n",
      "766                 -0.371101  1.170732  \n",
      "767                 -0.473785 -0.871374  \n",
      "\n",
      "[768 rows x 8 columns]\n"
     ]
    }
   ],
   "source": [
    "print(X)"
   ]
  },
  {
   "cell_type": "code",
   "execution_count": 13,
   "id": "9ffb8f83",
   "metadata": {},
   "outputs": [
    {
     "name": "stdout",
     "output_type": "stream",
     "text": [
      "0      1\n",
      "1      0\n",
      "2      1\n",
      "3      0\n",
      "4      1\n",
      "      ..\n",
      "763    0\n",
      "764    0\n",
      "765    0\n",
      "766    1\n",
      "767    0\n",
      "Name: Outcome, Length: 768, dtype: int64\n"
     ]
    }
   ],
   "source": [
    "print(y)"
   ]
  },
  {
   "cell_type": "markdown",
   "id": "8d59d47b",
   "metadata": {},
   "source": [
    "### Splitting into Train and Test"
   ]
  },
  {
   "cell_type": "code",
   "execution_count": 14,
   "id": "06924d2c",
   "metadata": {},
   "outputs": [],
   "source": [
    "from sklearn.model_selection import train_test_split\n",
    "X_train, X_test, y_train, y_test = train_test_split (X,y,test_size = 0.3, random_state = 0)"
   ]
  },
  {
   "cell_type": "code",
   "execution_count": 15,
   "id": "9981ba34",
   "metadata": {},
   "outputs": [
    {
     "name": "stdout",
     "output_type": "stream",
     "text": [
      "Shape of X:  (768, 8)\n"
     ]
    }
   ],
   "source": [
    "print('Shape of X: ',X.shape)"
   ]
  },
  {
   "cell_type": "code",
   "execution_count": 16,
   "id": "27bacd9d",
   "metadata": {},
   "outputs": [
    {
     "name": "stdout",
     "output_type": "stream",
     "text": [
      "Shape of y:  (768,)\n"
     ]
    }
   ],
   "source": [
    "print('Shape of y: ',y.shape)"
   ]
  },
  {
   "cell_type": "markdown",
   "id": "8c0b5f20",
   "metadata": {},
   "source": [
    "### Implementing Logistic Regression"
   ]
  },
  {
   "cell_type": "code",
   "execution_count": 17,
   "id": "6ca84172",
   "metadata": {},
   "outputs": [
    {
     "data": {
      "text/plain": [
       "LogisticRegression()"
      ]
     },
     "execution_count": 17,
     "metadata": {},
     "output_type": "execute_result"
    }
   ],
   "source": [
    "from sklearn.linear_model import LogisticRegression\n",
    "\n",
    "LR = LogisticRegression()\n",
    "LR.fit(X_train, y_train)\n"
   ]
  },
  {
   "cell_type": "code",
   "execution_count": 18,
   "id": "779281d3",
   "metadata": {},
   "outputs": [
    {
     "data": {
      "text/plain": [
       "array([1, 0, 0, 1, 0, 0, 1, 1, 0, 0, 1, 1, 0, 0, 0, 0, 1, 0, 0, 0, 1, 0,\n",
       "       0, 0, 0, 0, 0, 1, 0, 0, 0, 0, 0, 0, 0, 1, 0, 0, 0, 1, 0, 0, 0, 1,\n",
       "       1, 0, 0, 0, 0, 0, 0, 0, 1, 1, 0, 0, 0, 1, 0, 0, 1, 0, 0, 1, 1, 1,\n",
       "       1, 0, 0, 0, 0, 0, 0, 1, 1, 0, 0, 1, 0, 0, 0, 0, 0, 0, 0, 0, 0, 0,\n",
       "       1, 0, 0, 0, 0, 0, 1, 0, 0, 1, 1, 0, 0, 0, 0, 0, 1, 0, 0, 0, 0, 1,\n",
       "       0, 0, 1, 0, 1, 1, 0, 1, 0, 1, 0, 0, 0, 0, 0, 0, 0, 0, 0, 0, 0, 0,\n",
       "       0, 1, 0, 0, 0, 0, 1, 0, 0, 1, 0, 0, 0, 0, 0, 0, 0, 0, 0, 1, 0, 0,\n",
       "       1, 0, 1, 0, 0, 1, 1, 1, 0, 0, 1, 0, 0, 0, 0, 0, 0, 0, 0, 0, 1, 0,\n",
       "       0, 0, 0, 0, 0, 1, 0, 1, 0, 0, 1, 0, 0, 0, 0, 0, 0, 0, 0, 1, 1, 0,\n",
       "       0, 0, 0, 0, 0, 0, 0, 0, 0, 0, 0, 0, 0, 0, 0, 0, 0, 0, 0, 0, 1, 0,\n",
       "       0, 0, 0, 1, 1, 1, 0, 0, 0, 0, 0], dtype=int64)"
      ]
     },
     "execution_count": 18,
     "metadata": {},
     "output_type": "execute_result"
    }
   ],
   "source": [
    "#predicting the output for our test set\n",
    "y_pred = LR.predict(X_test)\n",
    "y_pred"
   ]
  },
  {
   "cell_type": "code",
   "execution_count": 19,
   "id": "c1586997",
   "metadata": {},
   "outputs": [
    {
     "data": {
      "text/plain": [
       "array([[141,  16],\n",
       "       [ 35,  39]], dtype=int64)"
      ]
     },
     "execution_count": 19,
     "metadata": {},
     "output_type": "execute_result"
    }
   ],
   "source": [
    "from sklearn import metrics\n",
    "confusion_matrix = metrics.confusion_matrix(y_test, y_pred)\n",
    "confusion_matrix"
   ]
  },
  {
   "cell_type": "code",
   "execution_count": 20,
   "id": "8b6962d9",
   "metadata": {},
   "outputs": [
    {
     "name": "stdout",
     "output_type": "stream",
     "text": [
      "The Accuracy of our Logistic Regression Model is :  0.7792207792207793\n"
     ]
    }
   ],
   "source": [
    "print(\"The Accuracy of our Logistic Regression Model is : \", metrics.accuracy_score(y_test, y_pred))\n"
   ]
  },
  {
   "cell_type": "code",
   "execution_count": 21,
   "id": "f47c606d",
   "metadata": {},
   "outputs": [],
   "source": [
    "from sklearn import svm\n",
    "from sklearn.ensemble import RandomForestClassifier\n",
    "from sklearn.linear_model import LogisticRegression\n",
    "\n",
    "model_params = {\n",
    "    'svm': {\n",
    "        'model': svm.SVC(gamma='auto'),\n",
    "        'params' : {\n",
    "            'C': [1,10,20,30],\n",
    "            'kernel': ['rbf','linear']\n",
    "        }  \n",
    "    },\n",
    "    'random_forest': {\n",
    "        'model': RandomForestClassifier(),\n",
    "        'params' : {\n",
    "            'n_estimators': [1,5,10,15]\n",
    "        }\n",
    "    },\n",
    "    'logistic_regression' : {\n",
    "        'model': LogisticRegression(solver='lbfgs',multi_class='auto'),\n",
    "        'params': {\n",
    "            'C': [.1,1,5,10, 15,20]\n",
    "        }\n",
    "    }\n",
    "}"
   ]
  },
  {
   "cell_type": "code",
   "execution_count": 22,
   "id": "34d284c2",
   "metadata": {
    "scrolled": true
   },
   "outputs": [
    {
     "data": {
      "text/html": [
       "<div>\n",
       "<style scoped>\n",
       "    .dataframe tbody tr th:only-of-type {\n",
       "        vertical-align: middle;\n",
       "    }\n",
       "\n",
       "    .dataframe tbody tr th {\n",
       "        vertical-align: top;\n",
       "    }\n",
       "\n",
       "    .dataframe thead th {\n",
       "        text-align: right;\n",
       "    }\n",
       "</style>\n",
       "<table border=\"1\" class=\"dataframe\">\n",
       "  <thead>\n",
       "    <tr style=\"text-align: right;\">\n",
       "      <th></th>\n",
       "      <th>model</th>\n",
       "      <th>best_score</th>\n",
       "      <th>best_params</th>\n",
       "    </tr>\n",
       "  </thead>\n",
       "  <tbody>\n",
       "    <tr>\n",
       "      <th>0</th>\n",
       "      <td>svm</td>\n",
       "      <td>0.761561</td>\n",
       "      <td>{'C': 1, 'kernel': 'linear'}</td>\n",
       "    </tr>\n",
       "    <tr>\n",
       "      <th>1</th>\n",
       "      <td>random_forest</td>\n",
       "      <td>0.731862</td>\n",
       "      <td>{'n_estimators': 10}</td>\n",
       "    </tr>\n",
       "    <tr>\n",
       "      <th>2</th>\n",
       "      <td>logistic_regression</td>\n",
       "      <td>0.757875</td>\n",
       "      <td>{'C': 0.1}</td>\n",
       "    </tr>\n",
       "  </tbody>\n",
       "</table>\n",
       "</div>"
      ],
      "text/plain": [
       "                 model  best_score                   best_params\n",
       "0                  svm    0.761561  {'C': 1, 'kernel': 'linear'}\n",
       "1        random_forest    0.731862          {'n_estimators': 10}\n",
       "2  logistic_regression    0.757875                    {'C': 0.1}"
      ]
     },
     "execution_count": 22,
     "metadata": {},
     "output_type": "execute_result"
    }
   ],
   "source": [
    "from sklearn.model_selection import GridSearchCV\n",
    "\n",
    "s = []\n",
    "\n",
    "for model_name, m in model_params.items():\n",
    "    clf =  GridSearchCV(m['model'], m['params'], cv=5, return_train_score=False)\n",
    "    clf.fit(X_train, y_train)\n",
    "    s.append({\n",
    "        'model': model_name,\n",
    "        'best_score': clf.best_score_,\n",
    "        'best_params': clf.best_params_\n",
    "    })    \n",
    "data = pd.DataFrame(s,columns=['model','best_score','best_params'])\n",
    "data"
   ]
  },
  {
   "cell_type": "markdown",
   "id": "d5d963e5",
   "metadata": {},
   "source": [
    "### Diving into Neural Network"
   ]
  },
  {
   "cell_type": "code",
   "execution_count": 23,
   "id": "9c294e86",
   "metadata": {},
   "outputs": [],
   "source": [
    "from keras.models import Sequential\n",
    "model = Sequential()"
   ]
  },
  {
   "cell_type": "code",
   "execution_count": 24,
   "id": "4966be41",
   "metadata": {
    "scrolled": true
   },
   "outputs": [
    {
     "name": "stdout",
     "output_type": "stream",
     "text": [
      "Epoch 1/50\n",
      "17/17 [==============================] - 0s 997us/step - loss: 0.6664 - accuracy: 0.5922\n",
      "Epoch 2/50\n",
      "17/17 [==============================] - 0s 873us/step - loss: 0.5716 - accuracy: 0.6965\n",
      "Epoch 3/50\n",
      "17/17 [==============================] - 0s 873us/step - loss: 0.5204 - accuracy: 0.7449\n",
      "Epoch 4/50\n",
      "17/17 [==============================] - 0s 873us/step - loss: 0.4884 - accuracy: 0.7616\n",
      "Epoch 5/50\n",
      "17/17 [==============================] - 0s 828us/step - loss: 0.4726 - accuracy: 0.7654\n",
      "Epoch 6/50\n",
      "17/17 [==============================] - 0s 873us/step - loss: 0.4606 - accuracy: 0.7709\n",
      "Epoch 7/50\n",
      "17/17 [==============================] - 0s 873us/step - loss: 0.4550 - accuracy: 0.7803\n",
      "Epoch 8/50\n",
      "17/17 [==============================] - 0s 935us/step - loss: 0.4485 - accuracy: 0.7840\n",
      "Epoch 9/50\n",
      "17/17 [==============================] - 0s 873us/step - loss: 0.4421 - accuracy: 0.7877\n",
      "Epoch 10/50\n",
      "17/17 [==============================] - 0s 873us/step - loss: 0.4390 - accuracy: 0.7840\n",
      "Epoch 11/50\n",
      "17/17 [==============================] - 0s 940us/step - loss: 0.4348 - accuracy: 0.7896\n",
      "Epoch 12/50\n",
      "17/17 [==============================] - 0s 873us/step - loss: 0.4309 - accuracy: 0.7952\n",
      "Epoch 13/50\n",
      "17/17 [==============================] - 0s 873us/step - loss: 0.4273 - accuracy: 0.7970\n",
      "Epoch 14/50\n",
      "17/17 [==============================] - 0s 810us/step - loss: 0.4230 - accuracy: 0.7989\n",
      "Epoch 15/50\n",
      "17/17 [==============================] - 0s 873us/step - loss: 0.4190 - accuracy: 0.8007\n",
      "Epoch 16/50\n",
      "17/17 [==============================] - 0s 873us/step - loss: 0.4159 - accuracy: 0.7952\n",
      "Epoch 17/50\n",
      "17/17 [==============================] - 0s 904us/step - loss: 0.4137 - accuracy: 0.8045\n",
      "Epoch 18/50\n",
      "17/17 [==============================] - 0s 873us/step - loss: 0.4115 - accuracy: 0.8026\n",
      "Epoch 19/50\n",
      "17/17 [==============================] - 0s 1ms/step - loss: 0.4085 - accuracy: 0.8063\n",
      "Epoch 20/50\n",
      "17/17 [==============================] - 0s 1ms/step - loss: 0.4051 - accuracy: 0.8194\n",
      "Epoch 21/50\n",
      "17/17 [==============================] - 0s 873us/step - loss: 0.4017 - accuracy: 0.8026\n",
      "Epoch 22/50\n",
      "17/17 [==============================] - 0s 896us/step - loss: 0.4002 - accuracy: 0.8082\n",
      "Epoch 23/50\n",
      "17/17 [==============================] - 0s 810us/step - loss: 0.3974 - accuracy: 0.8175\n",
      "Epoch 24/50\n",
      "17/17 [==============================] - 0s 873us/step - loss: 0.3942 - accuracy: 0.8156\n",
      "Epoch 25/50\n",
      "17/17 [==============================] - 0s 873us/step - loss: 0.3896 - accuracy: 0.8231\n",
      "Epoch 26/50\n",
      "17/17 [==============================] - 0s 873us/step - loss: 0.3874 - accuracy: 0.8212\n",
      "Epoch 27/50\n",
      "17/17 [==============================] - 0s 810us/step - loss: 0.3844 - accuracy: 0.8268\n",
      "Epoch 28/50\n",
      "17/17 [==============================] - 0s 842us/step - loss: 0.3834 - accuracy: 0.8194\n",
      "Epoch 29/50\n",
      "17/17 [==============================] - 0s 873us/step - loss: 0.3812 - accuracy: 0.8194\n",
      "Epoch 30/50\n",
      "17/17 [==============================] - 0s 873us/step - loss: 0.3787 - accuracy: 0.8231\n",
      "Epoch 31/50\n",
      "17/17 [==============================] - 0s 810us/step - loss: 0.3751 - accuracy: 0.8343\n",
      "Epoch 32/50\n",
      "17/17 [==============================] - 0s 873us/step - loss: 0.3715 - accuracy: 0.8361\n",
      "Epoch 33/50\n",
      "17/17 [==============================] - 0s 873us/step - loss: 0.3710 - accuracy: 0.8268\n",
      "Epoch 34/50\n",
      "17/17 [==============================] - 0s 873us/step - loss: 0.3678 - accuracy: 0.8268\n",
      "Epoch 35/50\n",
      "17/17 [==============================] - 0s 810us/step - loss: 0.3638 - accuracy: 0.8305\n",
      "Epoch 36/50\n",
      "17/17 [==============================] - 0s 873us/step - loss: 0.3614 - accuracy: 0.8361\n",
      "Epoch 37/50\n",
      "17/17 [==============================] - 0s 873us/step - loss: 0.3589 - accuracy: 0.8399\n",
      "Epoch 38/50\n",
      "17/17 [==============================] - 0s 873us/step - loss: 0.3600 - accuracy: 0.8361\n",
      "Epoch 39/50\n",
      "17/17 [==============================] - 0s 873us/step - loss: 0.3545 - accuracy: 0.8399\n",
      "Epoch 40/50\n",
      "17/17 [==============================] - 0s 873us/step - loss: 0.3517 - accuracy: 0.8361\n",
      "Epoch 41/50\n",
      "17/17 [==============================] - 0s 820us/step - loss: 0.3493 - accuracy: 0.8473\n",
      "Epoch 42/50\n",
      "17/17 [==============================] - 0s 873us/step - loss: 0.3469 - accuracy: 0.8454\n",
      "Epoch 43/50\n",
      "17/17 [==============================] - 0s 873us/step - loss: 0.3439 - accuracy: 0.8510\n",
      "Epoch 44/50\n",
      "17/17 [==============================] - 0s 873us/step - loss: 0.3442 - accuracy: 0.8417\n",
      "Epoch 45/50\n",
      "17/17 [==============================] - 0s 873us/step - loss: 0.3409 - accuracy: 0.8492\n",
      "Epoch 46/50\n",
      "17/17 [==============================] - 0s 810us/step - loss: 0.3364 - accuracy: 0.8547\n",
      "Epoch 47/50\n",
      "17/17 [==============================] - 0s 829us/step - loss: 0.3355 - accuracy: 0.8547\n",
      "Epoch 48/50\n",
      "17/17 [==============================] - 0s 873us/step - loss: 0.3327 - accuracy: 0.8585\n",
      "Epoch 49/50\n",
      "17/17 [==============================] - 0s 873us/step - loss: 0.3353 - accuracy: 0.8436\n",
      "Epoch 50/50\n",
      "17/17 [==============================] - 0s 810us/step - loss: 0.3294 - accuracy: 0.8566\n"
     ]
    },
    {
     "data": {
      "text/plain": [
       "<keras.callbacks.History at 0x21c16c6f5e0>"
      ]
     },
     "execution_count": 24,
     "metadata": {},
     "output_type": "execute_result"
    }
   ],
   "source": [
    "from keras.layers import Dense\n",
    "\n",
    "#first hidden layer\n",
    "model.add(Dense(60,activation='relu',input_dim=8))\n",
    "# Second hidden layer\n",
    "model.add(Dense(60,activation='relu'))\n",
    "# Output layer\n",
    "model.add(Dense(1,activation='sigmoid'))\n",
    "# Compiling the model\n",
    "model.compile(optimizer='adam', loss='binary_crossentropy',metrics=['accuracy'])\n",
    "# Training our model for 50 epochs\n",
    "model.fit(X_train,y_train,epochs=50)\n"
   ]
  },
  {
   "cell_type": "code",
   "execution_count": 25,
   "id": "8ac91768",
   "metadata": {},
   "outputs": [
    {
     "name": "stdout",
     "output_type": "stream",
     "text": [
      "Model: \"sequential\"\n",
      "_________________________________________________________________\n",
      " Layer (type)                Output Shape              Param #   \n",
      "=================================================================\n",
      " dense (Dense)               (None, 60)                540       \n",
      "                                                                 \n",
      " dense_1 (Dense)             (None, 60)                3660      \n",
      "                                                                 \n",
      " dense_2 (Dense)             (None, 1)                 61        \n",
      "                                                                 \n",
      "=================================================================\n",
      "Total params: 4,261\n",
      "Trainable params: 4,261\n",
      "Non-trainable params: 0\n",
      "_________________________________________________________________\n"
     ]
    }
   ],
   "source": [
    "model.summary()"
   ]
  },
  {
   "cell_type": "code",
   "execution_count": 26,
   "id": "7a9672ec",
   "metadata": {},
   "outputs": [
    {
     "name": "stdout",
     "output_type": "stream",
     "text": [
      "17/17 [==============================] - 0s 873us/step - loss: 0.3233 - accuracy: 0.8566\n",
      "Training Accuracy: 85.66%\n",
      "\n",
      "8/8 [==============================] - 0s 855us/step - loss: 0.5367 - accuracy: 0.7446\n",
      "Testing Accuracy: 74.46%\n",
      "\n"
     ]
    }
   ],
   "source": [
    "# Train and Test accuracy\n",
    "scores = model.evaluate(X_train,y_train)\n",
    "print(\"Training Accuracy: %.2f%%\\n\" % (scores[1]*100))\n",
    "scores = model.evaluate(X_test,y_test)\n",
    "print(\"Testing Accuracy: %.2f%%\\n\" % (scores[1]*100))"
   ]
  },
  {
   "cell_type": "code",
   "execution_count": 27,
   "id": "9287917c",
   "metadata": {},
   "outputs": [
    {
     "name": "stdout",
     "output_type": "stream",
     "text": [
      "Epoch 1/50\n",
      "54/54 [==============================] - 0s 2ms/step - loss: 0.3462 - accuracy: 0.8492 - val_loss: 0.5414 - val_accuracy: 0.7532\n",
      "Epoch 2/50\n",
      "54/54 [==============================] - 0s 1ms/step - loss: 0.3434 - accuracy: 0.8305 - val_loss: 0.5330 - val_accuracy: 0.7532\n",
      "Epoch 3/50\n",
      "54/54 [==============================] - 0s 1ms/step - loss: 0.3349 - accuracy: 0.8417 - val_loss: 0.5474 - val_accuracy: 0.7706\n",
      "Epoch 4/50\n",
      "54/54 [==============================] - 0s 1ms/step - loss: 0.3318 - accuracy: 0.8585 - val_loss: 0.5612 - val_accuracy: 0.7619\n",
      "Epoch 5/50\n",
      "54/54 [==============================] - 0s 1ms/step - loss: 0.3223 - accuracy: 0.8585 - val_loss: 0.5476 - val_accuracy: 0.7489\n",
      "Epoch 6/50\n",
      "54/54 [==============================] - 0s 1ms/step - loss: 0.3165 - accuracy: 0.8659 - val_loss: 0.5521 - val_accuracy: 0.7576\n",
      "Epoch 7/50\n",
      "54/54 [==============================] - 0s 1ms/step - loss: 0.3047 - accuracy: 0.8771 - val_loss: 0.5640 - val_accuracy: 0.7706\n",
      "Epoch 8/50\n",
      "54/54 [==============================] - 0s 1ms/step - loss: 0.3074 - accuracy: 0.8678 - val_loss: 0.5441 - val_accuracy: 0.7619\n",
      "Epoch 9/50\n",
      "54/54 [==============================] - 0s 1ms/step - loss: 0.3070 - accuracy: 0.8715 - val_loss: 0.5678 - val_accuracy: 0.7489\n",
      "Epoch 10/50\n",
      "54/54 [==============================] - 0s 1ms/step - loss: 0.2995 - accuracy: 0.8771 - val_loss: 0.5551 - val_accuracy: 0.7662\n",
      "Epoch 11/50\n",
      "54/54 [==============================] - 0s 1ms/step - loss: 0.2919 - accuracy: 0.8771 - val_loss: 0.5763 - val_accuracy: 0.7489\n",
      "Epoch 12/50\n",
      "54/54 [==============================] - 0s 1ms/step - loss: 0.2847 - accuracy: 0.8845 - val_loss: 0.5648 - val_accuracy: 0.7619\n",
      "Epoch 13/50\n",
      "54/54 [==============================] - 0s 1ms/step - loss: 0.2788 - accuracy: 0.8957 - val_loss: 0.5786 - val_accuracy: 0.7532\n",
      "Epoch 14/50\n",
      "54/54 [==============================] - 0s 1ms/step - loss: 0.2761 - accuracy: 0.8939 - val_loss: 0.5738 - val_accuracy: 0.7403\n",
      "Epoch 15/50\n",
      "54/54 [==============================] - 0s 1ms/step - loss: 0.2718 - accuracy: 0.8957 - val_loss: 0.5757 - val_accuracy: 0.7446\n",
      "Epoch 16/50\n",
      "54/54 [==============================] - 0s 1ms/step - loss: 0.2665 - accuracy: 0.8994 - val_loss: 0.5824 - val_accuracy: 0.7403\n",
      "Epoch 17/50\n",
      "54/54 [==============================] - 0s 1ms/step - loss: 0.2635 - accuracy: 0.8957 - val_loss: 0.5796 - val_accuracy: 0.7489\n",
      "Epoch 18/50\n",
      "54/54 [==============================] - 0s 1ms/step - loss: 0.2592 - accuracy: 0.9013 - val_loss: 0.5774 - val_accuracy: 0.7576\n",
      "Epoch 19/50\n",
      "54/54 [==============================] - 0s 1ms/step - loss: 0.2572 - accuracy: 0.8976 - val_loss: 0.5671 - val_accuracy: 0.7489\n",
      "Epoch 20/50\n",
      "54/54 [==============================] - 0s 1ms/step - loss: 0.2539 - accuracy: 0.8957 - val_loss: 0.5883 - val_accuracy: 0.7532\n",
      "Epoch 21/50\n",
      "54/54 [==============================] - 0s 1ms/step - loss: 0.2487 - accuracy: 0.9088 - val_loss: 0.5742 - val_accuracy: 0.7403\n",
      "Epoch 22/50\n",
      "54/54 [==============================] - 0s 1ms/step - loss: 0.2518 - accuracy: 0.8920 - val_loss: 0.5848 - val_accuracy: 0.7446\n",
      "Epoch 23/50\n",
      "54/54 [==============================] - 0s 1ms/step - loss: 0.2483 - accuracy: 0.8883 - val_loss: 0.5814 - val_accuracy: 0.7576\n",
      "Epoch 24/50\n",
      "54/54 [==============================] - 0s 1ms/step - loss: 0.2353 - accuracy: 0.9218 - val_loss: 0.5967 - val_accuracy: 0.7489\n",
      "Epoch 25/50\n",
      "54/54 [==============================] - 0s 1ms/step - loss: 0.2310 - accuracy: 0.9106 - val_loss: 0.5944 - val_accuracy: 0.7532\n",
      "Epoch 26/50\n",
      "54/54 [==============================] - 0s 1ms/step - loss: 0.2311 - accuracy: 0.9181 - val_loss: 0.5939 - val_accuracy: 0.7489\n",
      "Epoch 27/50\n",
      "54/54 [==============================] - 0s 1ms/step - loss: 0.2309 - accuracy: 0.9050 - val_loss: 0.5835 - val_accuracy: 0.7446\n",
      "Epoch 28/50\n",
      "54/54 [==============================] - 0s 1ms/step - loss: 0.2308 - accuracy: 0.8920 - val_loss: 0.6170 - val_accuracy: 0.7489\n",
      "Epoch 29/50\n",
      "54/54 [==============================] - 0s 1ms/step - loss: 0.2225 - accuracy: 0.9088 - val_loss: 0.6254 - val_accuracy: 0.7359\n",
      "Epoch 30/50\n",
      "54/54 [==============================] - 0s 1ms/step - loss: 0.2238 - accuracy: 0.9143 - val_loss: 0.6118 - val_accuracy: 0.7446\n",
      "Epoch 31/50\n",
      "54/54 [==============================] - 0s 1ms/step - loss: 0.2141 - accuracy: 0.9274 - val_loss: 0.6047 - val_accuracy: 0.7489\n",
      "Epoch 32/50\n",
      "54/54 [==============================] - 0s 1ms/step - loss: 0.2083 - accuracy: 0.9199 - val_loss: 0.6205 - val_accuracy: 0.7359\n",
      "Epoch 33/50\n",
      "54/54 [==============================] - 0s 1ms/step - loss: 0.2076 - accuracy: 0.9255 - val_loss: 0.6284 - val_accuracy: 0.7576\n",
      "Epoch 34/50\n",
      "54/54 [==============================] - 0s 1ms/step - loss: 0.2057 - accuracy: 0.9292 - val_loss: 0.6378 - val_accuracy: 0.7489\n",
      "Epoch 35/50\n",
      "54/54 [==============================] - 0s 1ms/step - loss: 0.2006 - accuracy: 0.9311 - val_loss: 0.6395 - val_accuracy: 0.7619\n",
      "Epoch 36/50\n",
      "54/54 [==============================] - 0s 1ms/step - loss: 0.1947 - accuracy: 0.9311 - val_loss: 0.6282 - val_accuracy: 0.7576\n",
      "Epoch 37/50\n",
      "54/54 [==============================] - 0s 1ms/step - loss: 0.1911 - accuracy: 0.9181 - val_loss: 0.6230 - val_accuracy: 0.7359\n",
      "Epoch 38/50\n",
      "54/54 [==============================] - 0s 1ms/step - loss: 0.1868 - accuracy: 0.9292 - val_loss: 0.6518 - val_accuracy: 0.7359\n",
      "Epoch 39/50\n",
      "54/54 [==============================] - 0s 1ms/step - loss: 0.1867 - accuracy: 0.9292 - val_loss: 0.6365 - val_accuracy: 0.7403\n",
      "Epoch 40/50\n",
      "54/54 [==============================] - 0s 1ms/step - loss: 0.1773 - accuracy: 0.9385 - val_loss: 0.6812 - val_accuracy: 0.7489\n",
      "Epoch 41/50\n",
      "54/54 [==============================] - 0s 1ms/step - loss: 0.1830 - accuracy: 0.9292 - val_loss: 0.6448 - val_accuracy: 0.7229\n",
      "Epoch 42/50\n",
      "54/54 [==============================] - 0s 1ms/step - loss: 0.1748 - accuracy: 0.9404 - val_loss: 0.6779 - val_accuracy: 0.7446\n",
      "Epoch 43/50\n",
      "54/54 [==============================] - 0s 1ms/step - loss: 0.1767 - accuracy: 0.9423 - val_loss: 0.6497 - val_accuracy: 0.7359\n",
      "Epoch 44/50\n",
      "54/54 [==============================] - 0s 2ms/step - loss: 0.1693 - accuracy: 0.9460 - val_loss: 0.6706 - val_accuracy: 0.7576\n",
      "Epoch 45/50\n",
      "54/54 [==============================] - 0s 1ms/step - loss: 0.1688 - accuracy: 0.9385 - val_loss: 0.6724 - val_accuracy: 0.7662\n",
      "Epoch 46/50\n",
      "54/54 [==============================] - 0s 1ms/step - loss: 0.1692 - accuracy: 0.9385 - val_loss: 0.6611 - val_accuracy: 0.7446\n",
      "Epoch 47/50\n",
      "54/54 [==============================] - 0s 1ms/step - loss: 0.1621 - accuracy: 0.9516 - val_loss: 0.7011 - val_accuracy: 0.7403\n",
      "Epoch 48/50\n",
      "54/54 [==============================] - 0s 1ms/step - loss: 0.1567 - accuracy: 0.9460 - val_loss: 0.6816 - val_accuracy: 0.7316\n",
      "Epoch 49/50\n",
      "54/54 [==============================] - 0s 1ms/step - loss: 0.1522 - accuracy: 0.9479 - val_loss: 0.7177 - val_accuracy: 0.7489\n",
      "Epoch 50/50\n",
      "54/54 [==============================] - 0s 1ms/step - loss: 0.1564 - accuracy: 0.9497 - val_loss: 0.6955 - val_accuracy: 0.7403\n"
     ]
    }
   ],
   "source": [
    "history=model.fit(X_train, y_train, validation_data=(X_test, y_test),epochs= 50,batch_size=10)\n"
   ]
  },
  {
   "cell_type": "code",
   "execution_count": 28,
   "id": "a237c814",
   "metadata": {},
   "outputs": [
    {
     "data": {
      "image/png": "[encoded data removed]",
      "text/plain": [
       "<Figure size 432x288 with 1 Axes>"
      ]
     },
     "metadata": {
      "needs_background": "light"
     },
     "output_type": "display_data"
    }
   ],
   "source": [
    "%matplotlib inline\n",
    "# Model accuracy\n",
    "plt.plot(history.history['accuracy'])\n",
    "plt.plot(history.history['val_accuracy'])\n",
    "plt.title('Model Accuracy')\n",
    "plt.ylabel('accuracy')\n",
    "plt.xlabel('epoch')\n",
    "plt.legend(['train', 'test'])\n",
    "plt.show()"
   ]
  },
  {
   "cell_type": "code",
   "execution_count": 29,
   "id": "3cad3df8",
   "metadata": {
    "scrolled": true
   },
   "outputs": [
    {
     "data": {
      "image/png": "[encoded data removed]",
      "text/plain": [
       "<Figure size 432x288 with 1 Axes>"
      ]
     },
     "metadata": {
      "needs_background": "light"
     },
     "output_type": "display_data"
    }
   ],
   "source": [
    "# Model Losss\n",
    "plt.plot(history.history['loss'])\n",
    "plt.plot(history.history['val_loss'])\n",
    "plt.title('Model Loss')\n",
    "plt.ylabel('loss')\n",
    "plt.xlabel('epoch')\n",
    "plt.legend(['train', 'test'])\n",
    "plt.show()"
   ]
  },
  {
   "cell_type": "markdown",
   "id": "bf6e020b",
   "metadata": {},
   "source": [
    "###  Wide and Deep Neural Network"
   ]
  },
  {
   "cell_type": "code",
   "execution_count": 30,
   "id": "dc9142f8",
   "metadata": {},
   "outputs": [
    {
     "name": "stdout",
     "output_type": "stream",
     "text": [
      "Epoch 1/50\n",
      "54/54 [==============================] - 1s 3ms/step - loss: 3.3134 - accuracy: 0.6331 - val_loss: 2.7229 - val_accuracy: 0.6797\n",
      "Epoch 2/50\n",
      "54/54 [==============================] - 0s 1ms/step - loss: 2.7414 - accuracy: 0.6834 - val_loss: 2.0958 - val_accuracy: 0.7100\n",
      "Epoch 3/50\n",
      "54/54 [==============================] - 0s 1ms/step - loss: 1.5494 - accuracy: 0.7020 - val_loss: 1.3819 - val_accuracy: 0.7013\n",
      "Epoch 4/50\n",
      "54/54 [==============================] - 0s 1ms/step - loss: 1.0622 - accuracy: 0.7393 - val_loss: 1.0756 - val_accuracy: 0.7273\n",
      "Epoch 5/50\n",
      "54/54 [==============================] - 0s 1ms/step - loss: 0.7000 - accuracy: 0.7318 - val_loss: 0.9631 - val_accuracy: 0.7273\n",
      "Epoch 6/50\n",
      "54/54 [==============================] - 0s 1ms/step - loss: 0.5695 - accuracy: 0.7356 - val_loss: 0.5979 - val_accuracy: 0.7576\n",
      "Epoch 7/50\n",
      "54/54 [==============================] - 0s 1ms/step - loss: 0.5050 - accuracy: 0.7691 - val_loss: 0.5901 - val_accuracy: 0.7706\n",
      "Epoch 8/50\n",
      "54/54 [==============================] - 0s 1ms/step - loss: 0.4569 - accuracy: 0.7821 - val_loss: 0.6710 - val_accuracy: 0.7749\n",
      "Epoch 9/50\n",
      "54/54 [==============================] - 0s 1ms/step - loss: 0.4530 - accuracy: 0.7747 - val_loss: 0.6718 - val_accuracy: 0.7662\n",
      "Epoch 10/50\n",
      "54/54 [==============================] - 0s 1ms/step - loss: 0.4833 - accuracy: 0.7877 - val_loss: 0.6858 - val_accuracy: 0.7662\n",
      "Epoch 11/50\n",
      "54/54 [==============================] - 0s 1ms/step - loss: 0.4688 - accuracy: 0.8045 - val_loss: 0.6656 - val_accuracy: 0.7619\n",
      "Epoch 12/50\n",
      "54/54 [==============================] - 0s 1ms/step - loss: 0.4490 - accuracy: 0.7933 - val_loss: 0.6826 - val_accuracy: 0.7619\n",
      "Epoch 13/50\n",
      "54/54 [==============================] - 0s 1ms/step - loss: 0.4409 - accuracy: 0.8026 - val_loss: 0.6643 - val_accuracy: 0.7489\n",
      "Epoch 14/50\n",
      "54/54 [==============================] - 0s 1ms/step - loss: 0.4361 - accuracy: 0.8119 - val_loss: 0.6724 - val_accuracy: 0.7489\n",
      "Epoch 15/50\n",
      "54/54 [==============================] - 0s 1ms/step - loss: 0.4315 - accuracy: 0.8175 - val_loss: 0.6696 - val_accuracy: 0.7662\n",
      "Epoch 16/50\n",
      "54/54 [==============================] - 0s 1ms/step - loss: 0.4255 - accuracy: 0.8101 - val_loss: 0.6762 - val_accuracy: 0.7489\n",
      "Epoch 17/50\n",
      "54/54 [==============================] - 0s 1ms/step - loss: 0.4207 - accuracy: 0.8305 - val_loss: 0.6915 - val_accuracy: 0.7619\n",
      "Epoch 18/50\n",
      "54/54 [==============================] - 0s 1ms/step - loss: 0.4172 - accuracy: 0.8175 - val_loss: 0.6686 - val_accuracy: 0.7619\n",
      "Epoch 19/50\n",
      "54/54 [==============================] - 0s 1ms/step - loss: 0.4170 - accuracy: 0.8063 - val_loss: 0.6772 - val_accuracy: 0.7576\n",
      "Epoch 20/50\n",
      "54/54 [==============================] - 0s 1ms/step - loss: 0.4129 - accuracy: 0.8175 - val_loss: 0.6739 - val_accuracy: 0.7576\n",
      "Epoch 21/50\n",
      "54/54 [==============================] - 0s 1ms/step - loss: 0.4066 - accuracy: 0.8194 - val_loss: 0.6806 - val_accuracy: 0.7619\n",
      "Epoch 22/50\n",
      "54/54 [==============================] - 0s 1ms/step - loss: 0.3985 - accuracy: 0.8305 - val_loss: 0.7379 - val_accuracy: 0.7662\n",
      "Epoch 23/50\n",
      "54/54 [==============================] - 0s 1ms/step - loss: 0.4763 - accuracy: 0.8138 - val_loss: 0.9081 - val_accuracy: 0.7446\n",
      "Epoch 24/50\n",
      "54/54 [==============================] - 0s 1ms/step - loss: 0.5959 - accuracy: 0.7989 - val_loss: 0.6677 - val_accuracy: 0.7532\n",
      "Epoch 25/50\n",
      "54/54 [==============================] - 0s 1ms/step - loss: 0.7987 - accuracy: 0.7635 - val_loss: 0.7806 - val_accuracy: 0.6883\n",
      "Epoch 26/50\n",
      "54/54 [==============================] - 0s 1ms/step - loss: 0.5842 - accuracy: 0.7914 - val_loss: 0.7847 - val_accuracy: 0.7489\n",
      "Epoch 27/50\n",
      "54/54 [==============================] - 0s 1ms/step - loss: 0.4926 - accuracy: 0.8063 - val_loss: 0.8259 - val_accuracy: 0.7576\n",
      "Epoch 28/50\n",
      "54/54 [==============================] - 0s 1ms/step - loss: 0.4303 - accuracy: 0.8305 - val_loss: 0.8018 - val_accuracy: 0.7749\n",
      "Epoch 29/50\n",
      "54/54 [==============================] - 0s 1ms/step - loss: 0.4191 - accuracy: 0.8436 - val_loss: 0.7927 - val_accuracy: 0.7706\n",
      "Epoch 30/50\n",
      "54/54 [==============================] - 0s 1ms/step - loss: 0.4125 - accuracy: 0.8324 - val_loss: 0.7410 - val_accuracy: 0.7706\n",
      "Epoch 31/50\n",
      "54/54 [==============================] - 0s 1ms/step - loss: 0.4041 - accuracy: 0.8380 - val_loss: 0.7467 - val_accuracy: 0.7619\n",
      "Epoch 32/50\n",
      "54/54 [==============================] - 0s 1ms/step - loss: 0.4075 - accuracy: 0.8268 - val_loss: 0.8061 - val_accuracy: 0.7835\n",
      "Epoch 33/50\n",
      "54/54 [==============================] - 0s 1ms/step - loss: 0.3983 - accuracy: 0.8417 - val_loss: 0.8060 - val_accuracy: 0.7706\n",
      "Epoch 34/50\n",
      "54/54 [==============================] - 0s 1ms/step - loss: 0.3936 - accuracy: 0.8454 - val_loss: 0.8023 - val_accuracy: 0.7792\n",
      "Epoch 35/50\n",
      "54/54 [==============================] - 0s 1ms/step - loss: 0.3877 - accuracy: 0.8436 - val_loss: 0.8532 - val_accuracy: 0.7792\n",
      "Epoch 36/50\n",
      "54/54 [==============================] - 0s 1ms/step - loss: 0.3840 - accuracy: 0.8399 - val_loss: 0.8110 - val_accuracy: 0.7749\n",
      "Epoch 37/50\n",
      "54/54 [==============================] - 0s 1ms/step - loss: 0.3814 - accuracy: 0.8529 - val_loss: 0.8469 - val_accuracy: 0.7706\n",
      "Epoch 38/50\n",
      "54/54 [==============================] - 0s 1ms/step - loss: 0.3792 - accuracy: 0.8510 - val_loss: 0.8707 - val_accuracy: 0.7662\n",
      "Epoch 39/50\n",
      "54/54 [==============================] - 0s 1ms/step - loss: 0.3746 - accuracy: 0.8547 - val_loss: 0.8641 - val_accuracy: 0.7706\n",
      "Epoch 40/50\n",
      "54/54 [==============================] - 0s 1ms/step - loss: 0.3722 - accuracy: 0.8510 - val_loss: 0.9237 - val_accuracy: 0.7706\n",
      "Epoch 41/50\n",
      "54/54 [==============================] - 0s 1ms/step - loss: 0.3673 - accuracy: 0.8473 - val_loss: 0.8738 - val_accuracy: 0.7619\n",
      "Epoch 42/50\n",
      "54/54 [==============================] - 0s 1ms/step - loss: 0.3653 - accuracy: 0.8622 - val_loss: 0.9314 - val_accuracy: 0.7706\n",
      "Epoch 43/50\n",
      "54/54 [==============================] - 0s 1ms/step - loss: 0.3630 - accuracy: 0.8566 - val_loss: 0.8798 - val_accuracy: 0.7619\n",
      "Epoch 44/50\n",
      "54/54 [==============================] - 0s 1ms/step - loss: 0.3605 - accuracy: 0.8603 - val_loss: 0.9719 - val_accuracy: 0.7749\n",
      "Epoch 45/50\n",
      "54/54 [==============================] - 0s 1ms/step - loss: 0.3598 - accuracy: 0.8641 - val_loss: 0.9767 - val_accuracy: 0.7749\n",
      "Epoch 46/50\n",
      "54/54 [==============================] - 0s 1ms/step - loss: 0.3522 - accuracy: 0.8659 - val_loss: 0.9869 - val_accuracy: 0.7662\n",
      "Epoch 47/50\n",
      "54/54 [==============================] - 0s 1ms/step - loss: 0.3801 - accuracy: 0.8622 - val_loss: 1.0440 - val_accuracy: 0.7619\n",
      "Epoch 48/50\n",
      "54/54 [==============================] - 0s 1ms/step - loss: 0.3469 - accuracy: 0.8659 - val_loss: 0.9860 - val_accuracy: 0.7749\n",
      "Epoch 49/50\n",
      "54/54 [==============================] - 0s 1ms/step - loss: 0.3421 - accuracy: 0.8771 - val_loss: 0.9877 - val_accuracy: 0.7706\n",
      "Epoch 50/50\n",
      "54/54 [==============================] - 0s 1ms/step - loss: 0.3426 - accuracy: 0.8752 - val_loss: 1.0378 - val_accuracy: 0.7749\n"
     ]
    }
   ],
   "source": [
    "import keras\n",
    "from keras.layers import concatenate\n",
    "input = keras.layers.Input(shape=X.shape[1:])\n",
    "hidden1 = keras.layers.Dense(64, activation=\"relu\")(input)\n",
    "hidden2 = keras.layers.Dense(64, activation=\"relu\")(hidden1)\n",
    "hidden3 = keras.layers.Dense(1, activation='sigmoid')(hidden2)\n",
    "concat = keras.layers.concatenate([input,hidden1, hidden2,hidden3])\n",
    "output = keras.layers.Dense(1)(concat)\n",
    "model1 = keras.models.Model(inputs=[input], outputs=[output])\n",
    "\n",
    "\n",
    "model1.compile(optimizer='adam', loss='binary_crossentropy',metrics=['accuracy'])\n",
    "history=model1.fit(X_train, y_train, validation_data=(X_test, y_test),epochs= 50,batch_size=10)\n"
   ]
  },
  {
   "cell_type": "code",
   "execution_count": 31,
   "id": "bf09fad7",
   "metadata": {},
   "outputs": [
    {
     "name": "stdout",
     "output_type": "stream",
     "text": [
      "Model: \"model\"\n",
      "__________________________________________________________________________________________________\n",
      " Layer (type)                   Output Shape         Param #     Connected to                     \n",
      "==================================================================================================\n",
      " input_1 (InputLayer)           [(None, 8)]          0           []                               \n",
      "                                                                                                  \n",
      " dense_3 (Dense)                (None, 64)           576         ['input_1[0][0]']                \n",
      "                                                                                                  \n",
      " dense_4 (Dense)                (None, 64)           4160        ['dense_3[0][0]']                \n",
      "                                                                                                  \n",
      " dense_5 (Dense)                (None, 1)            65          ['dense_4[0][0]']                \n",
      "                                                                                                  \n",
      " concatenate (Concatenate)      (None, 137)          0           ['input_1[0][0]',                \n",
      "                                                                  'dense_3[0][0]',                \n",
      "                                                                  'dense_4[0][0]',                \n",
      "                                                                  'dense_5[0][0]']                \n",
      "                                                                                                  \n",
      " dense_6 (Dense)                (None, 1)            138         ['concatenate[0][0]']            \n",
      "                                                                                                  \n",
      "==================================================================================================\n",
      "Total params: 4,939\n",
      "Trainable params: 4,939\n",
      "Non-trainable params: 0\n",
      "__________________________________________________________________________________________________\n"
     ]
    }
   ],
   "source": [
    "model1.summary()"
   ]
  },
  {
   "cell_type": "code",
   "execution_count": 32,
   "id": "676cf07e",
   "metadata": {},
   "outputs": [
    {
     "name": "stdout",
     "output_type": "stream",
     "text": [
      "17/17 [==============================] - 0s 810us/step - loss: 0.3268 - accuracy: 0.8790\n",
      "Training Accuracy: 87.90%\n",
      "\n",
      "8/8 [==============================] - 0s 855us/step - loss: 1.0378 - accuracy: 0.7749\n",
      "Testing Accuracy: 77.49%\n",
      "\n"
     ]
    }
   ],
   "source": [
    "# Train and Test accuracy\n",
    "scores = model1.evaluate(X_train,y_train)\n",
    "print(\"Training Accuracy: %.2f%%\\n\" % (scores[1]*100))\n",
    "scores = model1.evaluate(X_test,y_test)\n",
    "print(\"Testing Accuracy: %.2f%%\\n\" % (scores[1]*100))"
   ]
  },
  {
   "cell_type": "code",
   "execution_count": 33,
   "id": "1a561826",
   "metadata": {},
   "outputs": [
    {
     "data": {
      "image/png": "[encoded data removed]",
      "text/plain": [
       "<Figure size 432x288 with 1 Axes>"
      ]
     },
     "metadata": {
      "needs_background": "light"
     },
     "output_type": "display_data"
    }
   ],
   "source": [
    "%matplotlib inline\n",
    "# Model accuracy\n",
    "plt.plot(history.history['accuracy'])\n",
    "plt.plot(history.history['val_accuracy'])\n",
    "plt.title('Model Accuracy')\n",
    "plt.ylabel('accuracy')\n",
    "plt.xlabel('epoch')\n",
    "plt.legend(['train', 'test'])\n",
    "plt.show()"
   ]
  },
  {
   "cell_type": "code",
   "execution_count": 34,
   "id": "79d5470b",
   "metadata": {},
   "outputs": [
    {
     "data": {
      "image/png": "[encoded data removed]",
      "text/plain": [
       "<Figure size 432x288 with 1 Axes>"
      ]
     },
     "metadata": {
      "needs_background": "light"
     },
     "output_type": "display_data"
    }
   ],
   "source": [
    "# Model Losss\n",
    "plt.plot(history.history['loss'])\n",
    "plt.plot(history.history['val_loss'])\n",
    "plt.title('Model Loss')\n",
    "plt.ylabel('loss')\n",
    "plt.xlabel('epoch')\n",
    "plt.legend(['train', 'test'])\n",
    "plt.show()"
   ]
  },
  {
   "cell_type": "markdown",
   "id": "0543a1a3",
   "metadata": {},
   "source": [
    "### Conclusion\n",
    "from simple Deep Learning algorithm we can see that we are getting 85 % accuracy on train dataset and 74 % accuracy on Test set.\n",
    "And on wide neural network we are getting 87% on train set and 77% on test set."
   ]
  },
  {
   "cell_type": "code",
   "execution_count": null,
   "id": "0f758cc0",
   "metadata": {},
   "outputs": [],
   "source": []
  }
 ],
 "metadata": {
  "kernelspec": {
   "display_name": "Python 3 (ipykernel)",
   "language": "python",
   "name": "python3"
  },
  "language_info": {
   "codemirror_mode": {
    "name": "ipython",
    "version": 3
   },
   "file_extension": ".py",
   "mimetype": "text/x-python",
   "name": "python",
   "nbconvert_exporter": "python",
   "pygments_lexer": "ipython3",
   "version": "3.8.12"
  }
 },
 "nbformat": 4,
 "nbformat_minor": 5
}
